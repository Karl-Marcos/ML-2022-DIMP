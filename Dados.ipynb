{
 "cells": [
  {
   "cell_type": "code",
   "execution_count": 5,
   "id": "aebc56d7-6751-42d5-a0b7-13c9ab8d81e1",
   "metadata": {},
   "outputs": [],
   "source": [
    "import pandas as pd"
   ]
  },
  {
   "cell_type": "code",
   "execution_count": 6,
   "id": "a7aa21c6-dc95-4fdd-98ac-14da460a3431",
   "metadata": {},
   "outputs": [],
   "source": [
    "#caminho Dani\n",
    "bruto = pd.read_csv(r'C:\\JupyterLab\\2° Semestre\\Machine Learning\\ML-2022-DIMP\\Neutral_Graphene_Oxide_Nanoflake_Dataset.csv')"
   ]
  },
  {
   "cell_type": "code",
   "execution_count": null,
   "id": "1721b1e6-93c3-4cc7-bcfb-a223de52fb07",
   "metadata": {},
   "outputs": [],
   "source": [
    "#caminho Isa\n",
    "bruto = pd.read_csv()"
   ]
  },
  {
   "cell_type": "code",
   "execution_count": null,
   "id": "37f48e55-ea3d-4091-89d5-7d1174cda284",
   "metadata": {},
   "outputs": [],
   "source": [
    "#caminho Marcos\n",
    "bruto = pd.read_csv(r'C:\\Users\\marcos220057\\OneDrive - CNPEM - Centro Nacional de Pesquisa em Energia e Materiais\\2sem2022\\Aprendizado de Máquina\\Neutral_Graphene_Oxide_Nanoflake_Dataset.csv')"
   ]
  },
  {
   "cell_type": "code",
   "execution_count": 9,
   "id": "f87bb951-50e9-46dc-9c8a-19690c31832a",
   "metadata": {},
   "outputs": [],
   "source": [
    "#caminho Paola\n",
    "bruto = pd.read_csv(r'C:\\JupyterLab\\ML-2022-DIMP\\Neutral_Graphene_Oxide_Nanoflake_Dataset.csv')"
   ]
  },
  {
   "cell_type": "code",
   "execution_count": 18,
   "id": "70dfbd95-a288-4244-9f0f-3092388aca86",
   "metadata": {},
   "outputs": [],
   "source": [
    "# Excluir as colunas que tem NaN\n",
    "bruto_completo = bruto.dropna(axis = 1, how ='any')"
   ]
  },
  {
   "cell_type": "code",
   "execution_count": 19,
   "id": "02056c99-e74c-4b44-a54f-49b57af0bf65",
   "metadata": {
    "tags": []
   },
   "outputs": [],
   "source": [
    "#Calculado a matriz de correlação peterson para ver quais atributos são bons para energia de Fermi\n",
    "bruto_completo.shape\n",
    "corrmat = bruto_completo.corr()"
   ]
  },
  {
   "cell_type": "code",
   "execution_count": 21,
   "id": "99fd9133-6d22-4635-8088-35687892ef67",
   "metadata": {
    "tags": []
   },
   "outputs": [
    {
     "name": "stdout",
     "output_type": "stream",
     "text": [
      "C-O:mean_value 0.7502073790235808\n",
      "\n",
      "C-O_sp3-sp1:mean_value 0.847305780443348\n",
      "\n",
      "C-O_sp3-strained:mean_value 0.8280893147336332\n",
      "\n",
      "sp2-like_n10_m8 0.7189510057445373\n",
      "\n",
      "sp2-like_n12_m9 0.7177963897891243\n",
      "\n",
      "sp2-like_n6_m5 0.7704367479310862\n",
      "\n",
      "density_loc_ether_skew 0.7035964547676459\n",
      "\n",
      "norm_density_ether_skew 0.7057958466257175\n",
      "\n",
      "Fermi_energy 1.0\n",
      "\n"
     ]
    }
   ],
   "source": [
    "#printando os atributos que correlacionam melhor que 0.7\n",
    "for i in corrmat['Fermi_energy'].keys():\n",
    "    if corrmat['Fermi_energy'][i] > 0.7:\n",
    "        print(i, corrmat['Fermi_energy'][i])\n",
    "        print()"
   ]
  },
  {
   "cell_type": "code",
   "execution_count": 22,
   "id": "e52e85bb-dd18-4043-8df9-d9be9d2de800",
   "metadata": {},
   "outputs": [
    {
     "name": "stdout",
     "output_type": "stream",
     "text": [
      "r_OE_mean 0.7200113308773121\n",
      "\n",
      "r_ether_E_mean 0.7135338524109857\n",
      "\n",
      "r_E_hydro_mean 0.6400730144489877\n",
      "\n",
      "r_OE_std 0.7458821509010672\n",
      "\n",
      "r_ether_E_std 0.6442364435613764\n",
      "\n",
      "density_loc_C_std 0.897523542596508\n",
      "\n",
      "density_loc_C_skew 0.8830745733213335\n",
      "\n",
      "total_energy 1.0\n",
      "\n"
     ]
    }
   ],
   "source": [
    "for i in corrmat['total_energy'].keys():\n",
    "    if corrmat['total_energy'][i] > 0.6:\n",
    "        print(i, corrmat['total_energy'][i])\n",
    "        print()"
   ]
  },
  {
   "cell_type": "code",
   "execution_count": null,
   "id": "605520d6-eec6-4e48-8a4b-958edc8acad8",
   "metadata": {},
   "outputs": [],
   "source": []
  }
 ],
 "metadata": {
  "kernelspec": {
   "display_name": "ilumpy",
   "language": "python",
   "name": "ilumpy"
  },
  "language_info": {
   "codemirror_mode": {
    "name": "ipython",
    "version": 3
   },
   "file_extension": ".py",
   "mimetype": "text/x-python",
   "name": "python",
   "nbconvert_exporter": "python",
   "pygments_lexer": "ipython3",
   "version": "3.9.7"
  }
 },
 "nbformat": 4,
 "nbformat_minor": 5
}
