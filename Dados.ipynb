{
 "cells": [
  {
   "cell_type": "code",
   "execution_count": 3,
   "id": "aebc56d7-6751-42d5-a0b7-13c9ab8d81e1",
   "metadata": {},
   "outputs": [],
   "source": [
    "import pandas as pd"
   ]
  },
  {
   "cell_type": "code",
   "execution_count": 6,
   "id": "a7aa21c6-dc95-4fdd-98ac-14da460a3431",
   "metadata": {},
   "outputs": [],
   "source": [
    "#caminho Dani\n",
    "bruto = pd.read_csv(r'C:\\JupyterLab\\2° Semestre\\Machine Learning\\ML-2022-DIMP\\Neutral_Graphene_Oxide_Nanoflake_Dataset.csv')"
   ]
  },
  {
   "cell_type": "code",
   "execution_count": null,
   "id": "1721b1e6-93c3-4cc7-bcfb-a223de52fb07",
   "metadata": {},
   "outputs": [],
   "source": [
    "#caminho Isa\n",
    "bruto = pd.read_csv()"
   ]
  },
  {
   "cell_type": "code",
   "execution_count": 94,
   "id": "37f48e55-ea3d-4091-89d5-7d1174cda284",
   "metadata": {},
   "outputs": [],
   "source": [
    "#caminho Marcos\n",
    "bruto = pd.read_csv(r'C:\\Users\\marcos220057\\OneDrive - CNPEM - Centro Nacional de Pesquisa em Energia e Materiais\\2sem2022\\Aprendizado de Máquina\\Neutral_Graphene_Oxide_Nanoflake_Dataset.csv')"
   ]
  },
  {
   "cell_type": "code",
   "execution_count": 45,
   "id": "f87bb951-50e9-46dc-9c8a-19690c31832a",
   "metadata": {},
   "outputs": [],
   "source": [
    "#caminho Paola\n",
    "bruto = pd.read_csv(r'C:\\JupyterLab\\ML-2022-DIMP\\Neutral_Graphene_Oxide_Nanoflake_Dataset.csv')"
   ]
  },
  {
   "cell_type": "code",
   "execution_count": 95,
   "id": "70dfbd95-a288-4244-9f0f-3092388aca86",
   "metadata": {},
   "outputs": [],
   "source": [
    "# Excluir as colunas que tem NaN\n",
    "bruto_completo = bruto.dropna(axis = 1, how ='any')\n",
    "del bruto_completo['file_name']"
   ]
  },
  {
   "cell_type": "code",
   "execution_count": 96,
   "id": "358993c7-0591-4a77-ad6b-5c825a5de839",
   "metadata": {},
   "outputs": [],
   "source": [
    "del bruto_completo['charge_state']"
   ]
  },
  {
   "cell_type": "code",
   "execution_count": 4,
   "id": "02056c99-e74c-4b44-a54f-49b57af0bf65",
   "metadata": {
    "tags": []
   },
   "outputs": [
    {
     "ename": "NameError",
     "evalue": "name 'bruto_completo' is not defined",
     "output_type": "error",
     "traceback": [
      "\u001b[1;31m---------------------------------------------------------------------------\u001b[0m",
      "\u001b[1;31mNameError\u001b[0m                                 Traceback (most recent call last)",
      "\u001b[1;32mC:\\Users\\ISADOR~1\\AppData\\Local\\Temp/ipykernel_20000/281717757.py\u001b[0m in \u001b[0;36m<module>\u001b[1;34m\u001b[0m\n\u001b[0;32m      1\u001b[0m \u001b[1;31m#Calculado a matriz de correlação peterson para ver quais atributos são bons para energia de Fermi\u001b[0m\u001b[1;33m\u001b[0m\u001b[1;33m\u001b[0m\u001b[0m\n\u001b[1;32m----> 2\u001b[1;33m \u001b[0mbruto_completo\u001b[0m\u001b[1;33m.\u001b[0m\u001b[0mshape\u001b[0m\u001b[1;33m\u001b[0m\u001b[1;33m\u001b[0m\u001b[0m\n\u001b[0m\u001b[0;32m      3\u001b[0m \u001b[0mcorrmat\u001b[0m \u001b[1;33m=\u001b[0m \u001b[0mbruto_completo\u001b[0m\u001b[1;33m.\u001b[0m\u001b[0mcorr\u001b[0m\u001b[1;33m(\u001b[0m\u001b[1;33m)\u001b[0m\u001b[1;33m\u001b[0m\u001b[1;33m\u001b[0m\u001b[0m\n",
      "\u001b[1;31mNameError\u001b[0m: name 'bruto_completo' is not defined"
     ]
    }
   ],
   "source": [
    "#Calculado a matriz de correlação peterson para ver quais atributos são bons para energia de Fermi\n",
    "bruto_completo.shape\n",
    "corrmat = bruto_completo.corr()"
   ]
  },
  {
   "cell_type": "code",
   "execution_count": null,
   "id": "99fd9133-6d22-4635-8088-35687892ef67",
   "metadata": {
    "jupyter": {
     "source_hidden": true
    },
    "tags": []
   },
   "outputs": [],
   "source": [
    "#printando os atributos que correlacionam melhor que 0.782\n",
    "Atr1 = []\n",
    "Ef = bruto_completo['Fermi_energy']\n",
    "for i in corrmat['Fermi_energy'].keys():\n",
    "    if abs(corrmat['Fermi_energy'][i]) > 0.782:\n",
    "        Atr1.append(i)\n",
    "        print(i, 'correlation:', corrmat['Fermi_energy'][i])\n",
    "        print()"
   ]
  },
  {
   "cell_type": "code",
   "execution_count": null,
   "id": "e52e85bb-dd18-4043-8df9-d9be9d2de800",
   "metadata": {
    "tags": []
   },
   "outputs": [],
   "source": [
    "Et = bruto_completo['total_energy']\n",
    "Atr2 = []\n",
    "for i in corrmat['total_energy'].keys():\n",
    "    if abs(corrmat['total_energy'][i]) > 0.93:\n",
    "        print(i, corrmat['total_energy'][i])\n",
    "        Atr2.append(i)\n",
    "        print()"
   ]
  },
  {
   "cell_type": "code",
   "execution_count": null,
   "id": "3841ad3f-062d-471c-b9e2-b6daa883c8f8",
   "metadata": {
    "tags": []
   },
   "outputs": [],
   "source": [
    "import lmfit \n",
    "import matplotlib.pyplot as plt"
   ]
  },
  {
   "cell_type": "code",
   "execution_count": null,
   "id": "605520d6-eec6-4e48-8a4b-958edc8acad8",
   "metadata": {
    "jupyter": {
     "source_hidden": true
    },
    "tags": []
   },
   "outputs": [],
   "source": [
    "def plotar(x, y, ux = 0, uy = 0, reta = False, legendas = ['x', 'y'], c='b', save = False, line = False):\n",
    "    '''\n",
    "    Essa função plota um gráfico de pontos ou de linha com ou sem barras de incerteza e com ou sem regressão linear.\n",
    "    Argumentos obrigatórios:\n",
    "    - x: Lista valores de x\n",
    "    - y: Lista valores de y\n",
    "    \n",
    "    Argumentos opcionais:\n",
    "    - ux: Lista com os valores de incertezas de x (dafault: ux = 0)\n",
    "    - uy: Lista com os valores de incertezas de y (dafault: uy = 0)\n",
    "    - reta: bool que define se quer regressão linear ou não (default: reta = False)\n",
    "    - legendas: lista com duas strings correspondentes àa legendaa do eixo x e y (default: legendas = ['x', 'y'])\n",
    "    - c: string da cor dos pontos (default: c = 'b')\n",
    "    - save: string com o nome de um arquivo png, ou o bool False para não salvar (default: save = False)\n",
    "    \n",
    "    '''\n",
    "    config = {'axes.spines.right': False,\n",
    "    'axes.spines.top': False,\n",
    "    'axes.edgecolor': '.4',\n",
    "    'axes.labelcolor': '.0',\n",
    "    'axes.titlesize': 'large',\n",
    "    'axes.labelsize': 'medium',\n",
    "    'figure.autolayout': True,\n",
    "    'figure.figsize': (4.5, 3.5),\n",
    "    'font.family': ['serif'],\n",
    "    'font.size': 10.0,\n",
    "    'grid.linestyle': '--',\n",
    "    'legend.facecolor': '.9',\n",
    "    'legend.frameon': True,\n",
    "    'savefig.transparent': True,\n",
    "    'text.color': '.0',\n",
    "    'xtick.labelsize': 'small',\n",
    "    'ytick.labelsize': 'small',}\n",
    "\n",
    "    plt.style.use(['seaborn-whitegrid', 'seaborn-paper', 'seaborn-muted', config])\n",
    "    fig,ax1 = plt.subplots(1,1)\n",
    "    ax1.tick_params(direction='in', which='both',top=True,right=True,labelsize=12)\n",
    "    \n",
    "    #Labels\n",
    "    ax1.set_ylabel(legendas[1], fontsize=12)\n",
    "    ax1.set_xlabel(legendas[0], fontsize=12)\n",
    "    #regressão linear\n",
    "    if reta == True:\n",
    "        def reta(x, a, b):\n",
    "            return a*x + b\n",
    "\n",
    "        reta_model=lmfit.Model(reta)\n",
    "\n",
    "        #se der errado tentar mexer nesses valores do chute inicial:\n",
    "        \n",
    "        reta_model.set_param_hint('a',value=1,min= -1000000,max=3000000,vary=True) \n",
    "        reta_model.set_param_hint('b',value=1,min=-200000,max=2000000,vary=True) \n",
    "        param = reta_model.make_params()\n",
    "\n",
    "        results = reta_model.fit(y, x = x, params = param)\n",
    "        #print(results.fit_report())\n",
    "        ax1.plot(x, y, 'o', markersize=0.3)\n",
    "        ax1.plot(x,results.best_fit,label=\"Regressão Linear\", c = 'r', linewidth=2) ; ax1.legend(fontsize='small')\n",
    "    if line == True:\n",
    "        ax1.plot(x, y)\n",
    "    elif ux == 0 and uy == 0:\n",
    "        ax1.plot(x, y, 'bo')\n",
    "\n",
    "    else:\n",
    "        ax1.errorbar(x, y, yerr=uy, xerr=ux, fmt='o',elinewidth=1,capsize=3,capthick=1,ms=3,c=c,ecolor='black')\n",
    "    #save\n",
    "    if save != False:\n",
    "        plt.tight_layout()\n",
    "        plt.savefig(save, dpi=200)\n",
    "        plt.show()"
   ]
  },
  {
   "cell_type": "code",
   "execution_count": null,
   "id": "880d44a1-1851-4385-b586-e7142d81a7b6",
   "metadata": {
    "tags": []
   },
   "outputs": [],
   "source": [
    "#Atr1.remove(Atr1[-1])\n",
    "for i in Atr1:\n",
    "    plotar(bruto_completo[i], Ef, legendas = [i, 'Fermi energy'],reta = True)"
   ]
  },
  {
   "cell_type": "code",
   "execution_count": null,
   "id": "da3f21e8-4a3c-4e24-8328-bc1c441453a5",
   "metadata": {
    "tags": []
   },
   "outputs": [],
   "source": [
    "#Atr2.remove(Atr2[-1])\n",
    "for i in Atr2:\n",
    "    plotar(bruto_completo[i], Et, legendas = [i, 'total_energy'], reta = True)"
   ]
  },
  {
   "cell_type": "code",
   "execution_count": null,
   "id": "4b6a7615-7567-4212-b07d-d67b003e9cbb",
   "metadata": {},
   "outputs": [],
   "source": [
    "dataEf = {}\n",
    "for i in Atr1:\n",
    "    dataEf.update({i:bruto[i]})\n",
    "dataEf = pd.DataFrame(dataEf)"
   ]
  },
  {
   "cell_type": "code",
   "execution_count": 5,
   "id": "98ede26c-89d8-4357-9b4b-326935c7dfe7",
   "metadata": {},
   "outputs": [],
   "source": [
    "import seaborn as sns"
   ]
  },
  {
   "cell_type": "code",
   "execution_count": 6,
   "id": "83a7a723-35e2-4d7d-aa07-b55254827d12",
   "metadata": {
    "tags": []
   },
   "outputs": [
    {
     "ename": "NameError",
     "evalue": "name 'dataEf' is not defined",
     "output_type": "error",
     "traceback": [
      "\u001b[1;31m---------------------------------------------------------------------------\u001b[0m",
      "\u001b[1;31mNameError\u001b[0m                                 Traceback (most recent call last)",
      "\u001b[1;32mC:\\Users\\ISADOR~1\\AppData\\Local\\Temp/ipykernel_20000/2047661310.py\u001b[0m in \u001b[0;36m<module>\u001b[1;34m\u001b[0m\n\u001b[1;32m----> 1\u001b[1;33m \u001b[0mcorrmat1\u001b[0m \u001b[1;33m=\u001b[0m \u001b[0mdataEf\u001b[0m\u001b[1;33m.\u001b[0m\u001b[0mcorr\u001b[0m\u001b[1;33m(\u001b[0m\u001b[1;33m)\u001b[0m\u001b[1;33m\u001b[0m\u001b[1;33m\u001b[0m\u001b[0m\n\u001b[0m\u001b[0;32m      2\u001b[0m \u001b[0mf\u001b[0m\u001b[1;33m,\u001b[0m \u001b[0max\u001b[0m \u001b[1;33m=\u001b[0m \u001b[0mplt\u001b[0m\u001b[1;33m.\u001b[0m\u001b[0msubplots\u001b[0m\u001b[1;33m(\u001b[0m\u001b[0mfigsize\u001b[0m \u001b[1;33m=\u001b[0m\u001b[1;33m(\u001b[0m\u001b[1;36m16\u001b[0m\u001b[1;33m,\u001b[0m \u001b[1;36m9\u001b[0m\u001b[1;33m)\u001b[0m\u001b[1;33m)\u001b[0m\u001b[1;33m\u001b[0m\u001b[1;33m\u001b[0m\u001b[0m\n\u001b[0;32m      3\u001b[0m \u001b[0msns\u001b[0m\u001b[1;33m.\u001b[0m\u001b[0mheatmap\u001b[0m\u001b[1;33m(\u001b[0m\u001b[0mcorrmat1\u001b[0m\u001b[1;33m,\u001b[0m \u001b[0max\u001b[0m \u001b[1;33m=\u001b[0m \u001b[0max\u001b[0m\u001b[1;33m,\u001b[0m \u001b[0mcmap\u001b[0m \u001b[1;33m=\u001b[0m\u001b[1;34m\"BrBG\"\u001b[0m\u001b[1;33m,\u001b[0m \u001b[0mlinewidths\u001b[0m \u001b[1;33m=\u001b[0m \u001b[1;36m1\u001b[0m\u001b[1;33m,\u001b[0m \u001b[0mvmin\u001b[0m\u001b[1;33m=\u001b[0m\u001b[1;33m-\u001b[0m\u001b[1;36m1\u001b[0m\u001b[1;33m,\u001b[0m \u001b[0mvmax\u001b[0m\u001b[1;33m=\u001b[0m\u001b[1;36m1\u001b[0m\u001b[1;33m,\u001b[0m \u001b[0mannot\u001b[0m\u001b[1;33m=\u001b[0m\u001b[1;32mTrue\u001b[0m\u001b[1;33m)\u001b[0m\u001b[1;33m\u001b[0m\u001b[1;33m\u001b[0m\u001b[0m\n",
      "\u001b[1;31mNameError\u001b[0m: name 'dataEf' is not defined"
     ]
    }
   ],
   "source": [
    "corrmat1 = dataEf.corr()\n",
    "f, ax = plt.subplots(figsize =(16, 9))\n",
    "sns.heatmap(corrmat1, ax = ax, cmap =\"BrBG\", linewidths = 1, vmin=-1, vmax=1, annot=True)"
   ]
  },
  {
   "cell_type": "code",
   "execution_count": null,
   "id": "2fe8c8d8-5da6-4361-a78a-b953c99aec85",
   "metadata": {},
   "outputs": [],
   "source": [
    "dataEt = {}\n",
    "for i in Atr2:\n",
    "    dataEt.update({i:bruto[i]})\n",
    "dataEt = pd.DataFrame(dataEt)"
   ]
  },
  {
   "cell_type": "code",
   "execution_count": null,
   "id": "e22c24df-9a00-4c82-942d-88253b463cb3",
   "metadata": {
    "tags": []
   },
   "outputs": [],
   "source": [
    "corrmat1 = dataEt.corr()\n",
    "f, ax = plt.subplots(figsize =(16, 9))\n",
    "sns.heatmap(corrmat1, ax = ax, cmap =\"BrBG\", linewidths = 1, vmin=-1, vmax=1, annot=True)"
   ]
  },
  {
   "cell_type": "code",
   "execution_count": null,
   "id": "6d36a983-b0c3-44af-bc86-d506e90dc599",
   "metadata": {},
   "outputs": [],
   "source": [
    "del bruto_completo['Shape']"
   ]
  },
  {
   "cell_type": "code",
   "execution_count": null,
   "id": "df9c61df-2a43-46c1-84e2-edda6c538cdd",
   "metadata": {},
   "outputs": [],
   "source": [
    "import numpy as np"
   ]
  },
  {
   "cell_type": "code",
   "execution_count": null,
   "id": "3b72499f-ad09-43b8-aea2-85c2b533e7c0",
   "metadata": {},
   "outputs": [],
   "source": [
    "atributos_1 = {}\n",
    "for i in bruto_completo.keys():\n",
    "    if np.isfinite(corrmat['Fermi_energy'][i]):\n",
    "        atributos_1.update({i : abs(corrmat['Fermi_energy'][i])})"
   ]
  },
  {
   "cell_type": "code",
   "execution_count": null,
   "id": "1407e4c9-0d50-4a23-94d6-4ca8332e0143",
   "metadata": {},
   "outputs": [],
   "source": [
    "L = sorted(atributos_1,key = atributos_1.get,  reverse = True)\n",
    "L.remove('Fermi_energy')\n",
    "print(L[0])"
   ]
  },
  {
   "cell_type": "code",
   "execution_count": null,
   "id": "243f8e55-cd3c-4cb9-9fed-d2490df4be47",
   "metadata": {},
   "outputs": [],
   "source": [
    "L = L[0:100]\n",
    "L1 = L.copy()\n",
    "for i in L:\n",
    "    for k in L:\n",
    "        if i < k and abs(corrmat[i][k])>0.8:\n",
    "            if abs(corrmat['Fermi_energy'][i]) > abs(corrmat['Fermi_energy'][k]) and k in L1 and i in L1:\n",
    "                L1.remove(k)\n",
    "            elif k in L1 and i in L1:\n",
    "                L1.remove(i)"
   ]
  },
  {
   "cell_type": "code",
   "execution_count": null,
   "id": "46ba8d3d-a73a-41ec-9278-874a8057a1d9",
   "metadata": {
    "tags": []
   },
   "outputs": [],
   "source": [
    "#Esses serão os atributos para calcular a energia de Fermi (resta saber o que eles significam\n",
    "for i in L1:\n",
    "    print(i, ' correlation:',corrmat['Fermi_energy'][i])\n",
    "    print()"
   ]
  },
  {
   "cell_type": "code",
   "execution_count": null,
   "id": "1ca2cbbe-222d-4484-bf11-b81f180faff1",
   "metadata": {
    "tags": []
   },
   "outputs": [],
   "source": [
    "M = {}\n",
    "M.update({'Fermi_energy':bruto['Fermi_energy']})\n",
    "for i in L1:\n",
    "    M.update({i:bruto[i]})\n",
    "M = pd.DataFrame(M)\n",
    "corrmat_F = M.corr()\n",
    "f, ax = plt.subplots(figsize =(16, 9))\n",
    "sns.heatmap(corrmat_F, ax = ax, cmap =\"BrBG\", linewidths = 1, vmin=-1, vmax=1, annot=True)\n",
    "plt.savefig('atributos_energia_fermi.png', dpi = 200)"
   ]
  },
  {
   "cell_type": "code",
   "execution_count": null,
   "id": "d8cf8665-770c-45c6-9635-8e1103bb7841",
   "metadata": {},
   "outputs": [],
   "source": [
    "Dados_Fermi = M.copy()"
   ]
  },
  {
   "cell_type": "code",
   "execution_count": null,
   "id": "3883a899-2ac2-4ab8-aa08-52bc9248dd20",
   "metadata": {},
   "outputs": [],
   "source": [
    "Dados_Fermi.to_csv(r\"C:\\JupyterLab\\meu-jupyter-ilum\\2° semestre\\AM\\ML-2022-DIMP\\Dados_Fermi.csv\")"
   ]
  },
  {
   "cell_type": "code",
   "execution_count": null,
   "id": "d6f98860-e41f-4d79-8d38-b3258b3db40e",
   "metadata": {},
   "outputs": [],
   "source": [
    "atributos_2 = {}\n",
    "for i in bruto_completo.keys():\n",
    "    if np.isfinite(corrmat['total_energy'][i]):\n",
    "        atributos_2.update({i : abs(corrmat['total_energy'][i])})"
   ]
  },
  {
   "cell_type": "code",
   "execution_count": null,
   "id": "3bf9bf77-8e8e-48c7-89fa-ed5cc96f3c11",
   "metadata": {},
   "outputs": [],
   "source": [
    "L2 = sorted(atributos_2,key = atributos_2.get,  reverse = True)\n",
    "L2.remove('total_energy')\n",
    "print(L2[0])"
   ]
  },
  {
   "cell_type": "code",
   "execution_count": null,
   "id": "e5874a03-516f-4081-b20b-156c527dce11",
   "metadata": {},
   "outputs": [],
   "source": [
    "L2 = L2[0:100]\n",
    "Lb = L2.copy()\n",
    "for i in L2:\n",
    "    for k in L2:\n",
    "        if i < k and abs(corrmat[i][k])>0.7:\n",
    "            if abs(corrmat['total_energy'][i]) > abs(corrmat['total_energy'][k]) and k in Lb and i in Lb:\n",
    "                Lb.remove(k)\n",
    "            elif k in Lb and i in Lb:\n",
    "                Lb.remove(i)"
   ]
  },
  {
   "cell_type": "code",
   "execution_count": null,
   "id": "72c5f0ff-c387-40e2-b20f-e312e754b151",
   "metadata": {},
   "outputs": [],
   "source": [
    "#Esses serão os atributos para calcular a energia de Fermi (resta saber o que eles significam\n",
    "for i in Lb:\n",
    "    print(i, ' correlation:',corrmat['total_energy'][i])\n",
    "    print()"
   ]
  },
  {
   "cell_type": "markdown",
   "id": "812706ac-5683-4e55-b3dc-3d11cfc32353",
   "metadata": {},
   "source": [
    "## Pessoal, notem que a energia total depende praticamente só do numero de atomos, então talvez seja mais interessante a gente fazer a energia por atomo."
   ]
  },
  {
   "cell_type": "markdown",
   "id": "3e448630-039b-4e38-b84a-4c93df20e1a3",
   "metadata": {},
   "source": [
    "## Vamos fazer energia por atomo então:"
   ]
  },
  {
   "cell_type": "code",
   "execution_count": null,
   "id": "b5df181e-fb2c-48da-a792-a25b0ef0f32b",
   "metadata": {},
   "outputs": [],
   "source": [
    "E = []\n",
    "i = 0\n",
    "while i < len(bruto_completo['C']):\n",
    "    E.append(bruto_completo['total_energy'][i]/bruto_completo['atom_number_total'][i])\n",
    "    i = i+1\n",
    "print(len(bruto_completo['total_energy']), len(E))"
   ]
  },
  {
   "cell_type": "code",
   "execution_count": null,
   "id": "3a7bd7f4-2b46-41a2-b589-10cb9afa0798",
   "metadata": {},
   "outputs": [],
   "source": [
    "Dados = bruto_completo.assign(energy_per_atom = E)"
   ]
  },
  {
   "cell_type": "code",
   "execution_count": null,
   "id": "eb9018a1-7950-45bf-99b6-392592510541",
   "metadata": {},
   "outputs": [],
   "source": [
    "plotar(Dados['atom_number_total'], Dados['energy_per_atom'], legendas = ['atom_number_total', 'energy_per_atom'], reta = True)"
   ]
  },
  {
   "cell_type": "code",
   "execution_count": null,
   "id": "076ba5c6-668e-49a2-8d69-b9e3172e6130",
   "metadata": {},
   "outputs": [],
   "source": [
    "Dados.shape\n",
    "corrmat = Dados.corr()"
   ]
  },
  {
   "cell_type": "code",
   "execution_count": null,
   "id": "ac3dd891-e193-46f3-bd90-e46ecf188671",
   "metadata": {},
   "outputs": [],
   "source": [
    "atributos_3 = {}\n",
    "for i in Dados.keys():\n",
    "    if np.isfinite(corrmat['energy_per_atom'][i]):\n",
    "        atributos_2.update({i : abs(corrmat['energy_per_atom'][i])})"
   ]
  },
  {
   "cell_type": "code",
   "execution_count": null,
   "id": "20c7a294-49f3-4571-a232-139b7c834356",
   "metadata": {},
   "outputs": [],
   "source": [
    "L3 = sorted(atributos_2,key = atributos_2.get,  reverse = True)\n",
    "L3.remove('energy_per_atom')\n",
    "L3.remove('Fermi_energy')\n",
    "print(L3[0])"
   ]
  },
  {
   "cell_type": "code",
   "execution_count": null,
   "id": "17c5613b-91c6-48b5-81fc-d2625ad5adc9",
   "metadata": {},
   "outputs": [],
   "source": [
    "L3 = L3[0:100]\n",
    "Lb = L3.copy()\n",
    "for i in L3:\n",
    "    for k in L3:\n",
    "        if i < k and abs(corrmat[i][k])>0.76:\n",
    "            if abs(corrmat['energy_per_atom'][i]) > abs(corrmat['energy_per_atom'][k]) and k in Lb and i in Lb:\n",
    "                Lb.remove(k)\n",
    "            elif k in Lb and i in Lb:\n",
    "                Lb.remove(i)"
   ]
  },
  {
   "cell_type": "code",
   "execution_count": null,
   "id": "ba0ababb-730e-4aed-8473-5ec7e6115df3",
   "metadata": {
    "tags": []
   },
   "outputs": [],
   "source": [
    "#Esses serão os atributos para calcular a energia de Fermi (resta saber o que eles significam\n",
    "for i in Lb:\n",
    "    print(i, ' correlation:',corrmat['energy_per_atom'][i])\n",
    "    print()"
   ]
  },
  {
   "cell_type": "code",
   "execution_count": null,
   "id": "af0be285-c001-4ebf-b52b-a33528f91b3b",
   "metadata": {
    "tags": []
   },
   "outputs": [],
   "source": [
    "M = {}\n",
    "M.update({'energy_per_atom':Dados['energy_per_atom']})\n",
    "for i in Lb:\n",
    "    M.update({i:bruto[i]})\n",
    "M = pd.DataFrame(M)\n",
    "corrmat_F = M.corr()\n",
    "f, ax = plt.subplots(figsize =(16, 9))\n",
    "sns.heatmap(corrmat_F, ax = ax, cmap =\"BrBG\", linewidths = 1, vmin=-1, vmax=1, annot=True)\n",
    "plt.savefig('atributos_energia_por_atomo.png', dpi = 200)"
   ]
  },
  {
   "cell_type": "code",
   "execution_count": 7,
   "id": "59a9af16-a5a5-4a2f-9ff8-b914da65387c",
   "metadata": {},
   "outputs": [
    {
     "ename": "NameError",
     "evalue": "name 'M' is not defined",
     "output_type": "error",
     "traceback": [
      "\u001b[1;31m---------------------------------------------------------------------------\u001b[0m",
      "\u001b[1;31mNameError\u001b[0m                                 Traceback (most recent call last)",
      "\u001b[1;32mC:\\Users\\ISADOR~1\\AppData\\Local\\Temp/ipykernel_20000/2477425960.py\u001b[0m in \u001b[0;36m<module>\u001b[1;34m\u001b[0m\n\u001b[1;32m----> 1\u001b[1;33m \u001b[0mDados_energia\u001b[0m \u001b[1;33m=\u001b[0m \u001b[0mM\u001b[0m\u001b[1;33m.\u001b[0m\u001b[0mcopy\u001b[0m\u001b[1;33m(\u001b[0m\u001b[1;33m)\u001b[0m\u001b[1;33m\u001b[0m\u001b[1;33m\u001b[0m\u001b[0m\n\u001b[0m",
      "\u001b[1;31mNameError\u001b[0m: name 'M' is not defined"
     ]
    }
   ],
   "source": [
    "Dados_energia = M.copy()"
   ]
  },
  {
   "cell_type": "code",
   "execution_count": 132,
   "id": "c3df2439-b88a-4d6f-8a5a-d467ebccffda",
   "metadata": {},
   "outputs": [
    {
     "ename": "FileNotFoundError",
     "evalue": "[Errno 2] No such file or directory: 'C:\\\\JupyterLab\\\\ML-2022-DIMP\\\\CSVs\\\\Dados_energia.csv'",
     "output_type": "error",
     "traceback": [
      "\u001b[1;31m---------------------------------------------------------------------------\u001b[0m",
      "\u001b[1;31mFileNotFoundError\u001b[0m                         Traceback (most recent call last)",
      "\u001b[1;32mC:\\Users\\MARCOS~1\\AppData\\Local\\Temp/ipykernel_27696/2285630026.py\u001b[0m in \u001b[0;36m<module>\u001b[1;34m\u001b[0m\n\u001b[1;32m----> 1\u001b[1;33m \u001b[0mDados_energia\u001b[0m\u001b[1;33m.\u001b[0m\u001b[0mto_csv\u001b[0m\u001b[1;33m(\u001b[0m\u001b[1;34mr\"C:\\JupyterLab\\ML-2022-DIMP\\CSVs\\Dados_energia.csv\"\u001b[0m\u001b[1;33m)\u001b[0m\u001b[1;33m\u001b[0m\u001b[1;33m\u001b[0m\u001b[0m\n\u001b[0m",
      "\u001b[1;32mc:\\venv\\ilumpy\\lib\\site-packages\\pandas\\core\\generic.py\u001b[0m in \u001b[0;36mto_csv\u001b[1;34m(self, path_or_buf, sep, na_rep, float_format, columns, header, index, index_label, mode, encoding, compression, quoting, quotechar, line_terminator, chunksize, date_format, doublequote, escapechar, decimal, errors, storage_options)\u001b[0m\n\u001b[0;32m   3464\u001b[0m         )\n\u001b[0;32m   3465\u001b[0m \u001b[1;33m\u001b[0m\u001b[0m\n\u001b[1;32m-> 3466\u001b[1;33m         return DataFrameRenderer(formatter).to_csv(\n\u001b[0m\u001b[0;32m   3467\u001b[0m             \u001b[0mpath_or_buf\u001b[0m\u001b[1;33m,\u001b[0m\u001b[1;33m\u001b[0m\u001b[1;33m\u001b[0m\u001b[0m\n\u001b[0;32m   3468\u001b[0m             \u001b[0mline_terminator\u001b[0m\u001b[1;33m=\u001b[0m\u001b[0mline_terminator\u001b[0m\u001b[1;33m,\u001b[0m\u001b[1;33m\u001b[0m\u001b[1;33m\u001b[0m\u001b[0m\n",
      "\u001b[1;32mc:\\venv\\ilumpy\\lib\\site-packages\\pandas\\io\\formats\\format.py\u001b[0m in \u001b[0;36mto_csv\u001b[1;34m(self, path_or_buf, encoding, sep, columns, index_label, mode, compression, quoting, quotechar, line_terminator, chunksize, date_format, doublequote, escapechar, errors, storage_options)\u001b[0m\n\u001b[0;32m   1103\u001b[0m             \u001b[0mformatter\u001b[0m\u001b[1;33m=\u001b[0m\u001b[0mself\u001b[0m\u001b[1;33m.\u001b[0m\u001b[0mfmt\u001b[0m\u001b[1;33m,\u001b[0m\u001b[1;33m\u001b[0m\u001b[1;33m\u001b[0m\u001b[0m\n\u001b[0;32m   1104\u001b[0m         )\n\u001b[1;32m-> 1105\u001b[1;33m         \u001b[0mcsv_formatter\u001b[0m\u001b[1;33m.\u001b[0m\u001b[0msave\u001b[0m\u001b[1;33m(\u001b[0m\u001b[1;33m)\u001b[0m\u001b[1;33m\u001b[0m\u001b[1;33m\u001b[0m\u001b[0m\n\u001b[0m\u001b[0;32m   1106\u001b[0m \u001b[1;33m\u001b[0m\u001b[0m\n\u001b[0;32m   1107\u001b[0m         \u001b[1;32mif\u001b[0m \u001b[0mcreated_buffer\u001b[0m\u001b[1;33m:\u001b[0m\u001b[1;33m\u001b[0m\u001b[1;33m\u001b[0m\u001b[0m\n",
      "\u001b[1;32mc:\\venv\\ilumpy\\lib\\site-packages\\pandas\\io\\formats\\csvs.py\u001b[0m in \u001b[0;36msave\u001b[1;34m(self)\u001b[0m\n\u001b[0;32m    235\u001b[0m         \"\"\"\n\u001b[0;32m    236\u001b[0m         \u001b[1;31m# apply compression and byte/text conversion\u001b[0m\u001b[1;33m\u001b[0m\u001b[1;33m\u001b[0m\u001b[0m\n\u001b[1;32m--> 237\u001b[1;33m         with get_handle(\n\u001b[0m\u001b[0;32m    238\u001b[0m             \u001b[0mself\u001b[0m\u001b[1;33m.\u001b[0m\u001b[0mfilepath_or_buffer\u001b[0m\u001b[1;33m,\u001b[0m\u001b[1;33m\u001b[0m\u001b[1;33m\u001b[0m\u001b[0m\n\u001b[0;32m    239\u001b[0m             \u001b[0mself\u001b[0m\u001b[1;33m.\u001b[0m\u001b[0mmode\u001b[0m\u001b[1;33m,\u001b[0m\u001b[1;33m\u001b[0m\u001b[1;33m\u001b[0m\u001b[0m\n",
      "\u001b[1;32mc:\\venv\\ilumpy\\lib\\site-packages\\pandas\\io\\common.py\u001b[0m in \u001b[0;36mget_handle\u001b[1;34m(path_or_buf, mode, encoding, compression, memory_map, is_text, errors, storage_options)\u001b[0m\n\u001b[0;32m    700\u001b[0m         \u001b[1;32mif\u001b[0m \u001b[0mioargs\u001b[0m\u001b[1;33m.\u001b[0m\u001b[0mencoding\u001b[0m \u001b[1;32mand\u001b[0m \u001b[1;34m\"b\"\u001b[0m \u001b[1;32mnot\u001b[0m \u001b[1;32min\u001b[0m \u001b[0mioargs\u001b[0m\u001b[1;33m.\u001b[0m\u001b[0mmode\u001b[0m\u001b[1;33m:\u001b[0m\u001b[1;33m\u001b[0m\u001b[1;33m\u001b[0m\u001b[0m\n\u001b[0;32m    701\u001b[0m             \u001b[1;31m# Encoding\u001b[0m\u001b[1;33m\u001b[0m\u001b[1;33m\u001b[0m\u001b[0m\n\u001b[1;32m--> 702\u001b[1;33m             handle = open(\n\u001b[0m\u001b[0;32m    703\u001b[0m                 \u001b[0mhandle\u001b[0m\u001b[1;33m,\u001b[0m\u001b[1;33m\u001b[0m\u001b[1;33m\u001b[0m\u001b[0m\n\u001b[0;32m    704\u001b[0m                 \u001b[0mioargs\u001b[0m\u001b[1;33m.\u001b[0m\u001b[0mmode\u001b[0m\u001b[1;33m,\u001b[0m\u001b[1;33m\u001b[0m\u001b[1;33m\u001b[0m\u001b[0m\n",
      "\u001b[1;31mFileNotFoundError\u001b[0m: [Errno 2] No such file or directory: 'C:\\\\JupyterLab\\\\ML-2022-DIMP\\\\CSVs\\\\Dados_energia.csv'"
     ]
    }
   ],
   "source": [
    "Dados_energia.to_csv(r\"C:\\JupyterLab\\ML-2022-DIMP\\CSVs\\Dados_energia.csv\")"
   ]
  },
  {
   "cell_type": "markdown",
   "id": "77cdeea4-0f44-4565-a38a-90928adf2894",
   "metadata": {},
   "source": [
    "#### vamos agora utilizar os Data Frames com os dados que nós realmente vamos utilizar, de energia de Fermi e por átomo"
   ]
  },
  {
   "cell_type": "code",
   "execution_count": 8,
   "id": "4bafa2d6-6270-46c8-bcc7-a0fb372b5cf3",
   "metadata": {},
   "outputs": [],
   "source": [
    "#caminho pc paola\n",
    "df_fermi = pd.read_csv (r\"C:\\JupyterLab\\ML-2022-DIMP\\CSVs\\Dados_Fermi.csv\")\n",
    "df_energia= pd.read_csv(r\"C:\\JupyterLab\\ML-2022-DIMP\\CSVs\\Dados_energia.csv\")"
   ]
  },
  {
   "cell_type": "code",
   "execution_count": 9,
   "id": "4d1e0f13-d223-4110-a901-0b63baa28c4a",
   "metadata": {},
   "outputs": [],
   "source": [
    "#caminho pc isadora\n",
    "df_energia= pd.read_csv(r\"C:\\JupyterLab\\ML-2022-DIMP\\CSVs\\Dados_energia.csv\")\n",
    "df_fermi= pd.read_csv(r\"C:\\JupyterLab\\ML-2022-DIMP\\CSVs\\Dados_Fermi.csv\")"
   ]
  },
  {
   "cell_type": "markdown",
   "id": "24b6419b-5b64-4bbc-a147-82404116ac4a",
   "metadata": {},
   "source": [
    "### 4 análise exploratória dos dados"
   ]
  },
  {
   "cell_type": "code",
   "execution_count": 10,
   "id": "6ea69832-2bc9-43ed-8891-da17e7d14506",
   "metadata": {},
   "outputs": [
    {
     "name": "stdout",
     "output_type": "stream",
     "text": [
      "Unnamed: 0                    int64\n",
      "energy_per_atom             float64\n",
      "O_concentration             float64\n",
      "C-O-H_C-sp1-H:mean_value    float64\n",
      "ether_concentration         float64\n",
      "H-O_coordination_number     float64\n",
      "O_n12_m2                    float64\n",
      "prox_Ixx_ether_area         float64\n",
      "norm_density_ether_std      float64\n",
      "sp2-like_n11_m3             float64\n",
      "max_bond_angle              float64\n",
      "dtype: object Unnamed: 0                    int64\n",
      "energy_per_atom             float64\n",
      "O_concentration             float64\n",
      "C-O-H_C-sp1-H:mean_value    float64\n",
      "ether_concentration         float64\n",
      "H-O_coordination_number     float64\n",
      "O_n12_m2                    float64\n",
      "prox_Ixx_ether_area         float64\n",
      "norm_density_ether_std      float64\n",
      "sp2-like_n11_m3             float64\n",
      "max_bond_angle              float64\n",
      "dtype: object\n"
     ]
    }
   ],
   "source": [
    "print(df_fermi.dtypes,df_energia.dtypes)"
   ]
  },
  {
   "cell_type": "code",
   "execution_count": 95,
   "id": "1ff40c70-012e-4158-a28a-8c0f40f328ad",
   "metadata": {},
   "outputs": [
    {
     "name": "stdout",
     "output_type": "stream",
     "text": [
      "         Unnamed: 0  energy_per_atom  O_concentration  \\\n",
      "count  20396.000000     20396.000000     20396.000000   \n",
      "mean   10197.500000       -47.411872         0.152450   \n",
      "std     5887.962381         2.340781         0.057251   \n",
      "min        0.000000       -56.538455         0.036649   \n",
      "25%     5098.750000       -48.594539         0.116279   \n",
      "50%    10197.500000       -46.847004         0.142064   \n",
      "75%    15296.250000       -45.807262         0.173293   \n",
      "max    20395.000000       -43.156884         0.287908   \n",
      "\n",
      "       C-O-H_C-sp1-H:mean_value  ether_concentration  H-O_coordination_number  \\\n",
      "count              20396.000000         20396.000000             20396.000000   \n",
      "mean                 107.504723             0.304668                 0.466049   \n",
      "std                    0.419334             0.114202                 0.216221   \n",
      "min                  105.970000             0.100000                 0.060000   \n",
      "25%                  107.220000             0.231481                 0.330000   \n",
      "50%                  107.410000             0.296875                 0.420000   \n",
      "75%                  107.700000             0.354478                 0.540000   \n",
      "max                  109.590000             0.772152                 1.000000   \n",
      "\n",
      "           O_n12_m2  prox_Ixx_ether_area  norm_density_ether_std  \\\n",
      "count  20396.000000         20396.000000            20396.000000   \n",
      "mean       0.243358            13.819482                0.054720   \n",
      "std        0.303271             9.595670                0.012787   \n",
      "min        0.000000             0.342457                0.023586   \n",
      "25%        0.074000             7.102156                0.045520   \n",
      "50%        0.166000            11.204795                0.054698   \n",
      "75%        0.265000            18.344582                0.062356   \n",
      "max        1.914000            58.564185                0.103827   \n",
      "\n",
      "       sp2-like_n11_m3  max_bond_angle  \n",
      "count     20396.000000    20396.000000  \n",
      "mean          0.052175      134.072446  \n",
      "std           0.052871       10.863266  \n",
      "min           0.000000      122.710000  \n",
      "25%           0.008000      127.810000  \n",
      "50%           0.036000      131.940000  \n",
      "75%           0.082000      134.410000  \n",
      "max           0.396000      179.970000  \n"
     ]
    }
   ],
   "source": [
    "# dados da energia de fermi\n",
    "print( df_fermi.describe())"
   ]
  },
  {
   "cell_type": "code",
   "execution_count": null,
   "id": "1632e3fe-6c39-470e-8a7f-e44d686f4e54",
   "metadata": {},
   "outputs": [],
   "source": [
    "#dados da energia por átomo\n",
    "print(df_)"
   ]
  },
  {
   "cell_type": "code",
   "execution_count": 137,
   "id": "6f976c28-eaf0-4950-b009-5e6cae8802e2",
   "metadata": {},
   "outputs": [],
   "source": [
    "def histograma(x, density=False, c = 'r', bins = 'sqrt', save = False, legendas = ['x', 'Frequência'], title = 'Histograma'):\n",
    "    '''\n",
    "    Plota um histograma a partir de uma lista de dados.\n",
    "    Argumentos obrigatórios:\n",
    "    - x: Lista dos valores da medição/dados\n",
    "    \n",
    "    Argumentos opcionais:\n",
    "    - Density: bool que, se for True, faz com que o histograma mostre densidade de probabilidade (default: density=False)\n",
    "    - c: string para a cor das barras do histograma (default: c = 'r')\n",
    "    - bins: método de determinação do tamanho de intervalos do histograma (default: bins = 'sqrt')\n",
    "    - save: string com o nome do arquivo png para salvar o grafico. Se save = False, então não irá salvar. (default: save = False)\n",
    "    - legendas: lista das strings de legenda dos eixos (default: legendas = ['x', 'Frequência'])\n",
    "    \n",
    "    '''\n",
    "    config = {'axes.spines.right': False,\n",
    "    'axes.spines.top': False,\n",
    "    'axes.edgecolor': '.4',\n",
    "    'axes.labelcolor': '.0',\n",
    "    'axes.titlesize': 'large',\n",
    "    'axes.labelsize': 'medium',\n",
    "    'figure.autolayout': True,\n",
    "    'figure.figsize': (4.5, 3.5),\n",
    "    'font.family': ['serif'],\n",
    "    'font.size': 10.0,\n",
    "    'grid.linestyle': '--',\n",
    "    'legend.facecolor': '.9',\n",
    "    'legend.frameon': True,\n",
    "    'savefig.transparent': True,\n",
    "    'text.color': '.0',\n",
    "    'xtick.labelsize': 'small',\n",
    "    'ytick.labelsize': 'small',}\n",
    "    \n",
    "    plt.style.use(['seaborn-whitegrid', 'seaborn-paper', 'seaborn-muted', config])\n",
    "    fig,axh = plt.subplots(1,1)\n",
    "    H = plt.hist(x,bins = bins, color = c,density = density)\n",
    "    axh.set_title(title)\n",
    "    axh.set_ylabel(legendas[1],fontsize=12)\n",
    "    axh.set_xlabel(legendas[0],fontsize=12)\n",
    "    if save != False:\n",
    "        plt.savefig(save, dpi=200)"
   ]
  },
  {
   "cell_type": "code",
   "execution_count": 139,
   "id": "af0f06c0-c32a-4c30-9e33-a633a10ab8ea",
   "metadata": {},
   "outputs": [
    {
     "data": {
      "image/png": "[encoded data removed]",
      "text/plain": [
       "<Figure size 324x252 with 1 Axes>"
      ]
     },
     "metadata": {},
     "output_type": "display_data"
    }
   ],
   "source": [
    "histograma(bruto_completo['Fermi_energy'], legendas = ['Fermi energy', 'frequência'],title = 'Histograma Energia de Fermi', save = 'histograma_fermi.png')"
   ]
  },
  {
   "cell_type": "code",
   "execution_count": 141,
   "id": "0f4b98fe-b7f9-441a-9751-979df900f027",
   "metadata": {},
   "outputs": [
    {
     "data": {
      "image/png": "[encoded data removed]",
      "text/plain": [
       "<Figure size 324x252 with 1 Axes>"
      ]
     },
     "metadata": {},
     "output_type": "display_data"
    }
   ],
   "source": [
    "histograma(M['energy_per_atom'], legendas = ['Energy per atom', 'frequência'],title = 'Histograma Energia por átomo', save = 'histograma_energia.png')"
   ]
  },
  {
   "cell_type": "code",
   "execution_count": null,
   "id": "4b4b9729-334f-4715-a435-1dace957774d",
   "metadata": {},
   "outputs": [],
   "source": []
  }
 ],
 "metadata": {
  "kernelspec": {
   "display_name": "ilumpy",
   "language": "python",
   "name": "ilumpy"
  },
  "language_info": {
   "codemirror_mode": {
    "name": "ipython",
    "version": 3
   },
   "file_extension": ".py",
   "mimetype": "text/x-python",
   "name": "python",
   "nbconvert_exporter": "python",
   "pygments_lexer": "ipython3",
   "version": "3.9.7"
  }
 },
 "nbformat": 4,
 "nbformat_minor": 5
}
