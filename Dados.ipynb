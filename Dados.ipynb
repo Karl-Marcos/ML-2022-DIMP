{
 "cells": [
  {
   "cell_type": "code",
   "execution_count": 1,
   "id": "aebc56d7-6751-42d5-a0b7-13c9ab8d81e1",
   "metadata": {},
   "outputs": [],
   "source": [
    "import pandas as pd"
   ]
  },
  {
   "cell_type": "code",
   "execution_count": null,
   "id": "a7aa21c6-dc95-4fdd-98ac-14da460a3431",
   "metadata": {},
   "outputs": [],
   "source": [
    "#caminho Dani\n",
    "bruto = pd.read_csv()"
   ]
  },
  {
   "cell_type": "code",
   "execution_count": null,
   "id": "1721b1e6-93c3-4cc7-bcfb-a223de52fb07",
   "metadata": {},
   "outputs": [],
   "source": [
    "#caminho Isa\n",
    "bruto = pd.read_csv()"
   ]
  },
  {
   "cell_type": "code",
   "execution_count": 4,
   "id": "37f48e55-ea3d-4091-89d5-7d1174cda284",
   "metadata": {},
   "outputs": [],
   "source": [
    "#caminho Marcos\n",
    "bruto = pd.read_csv(r'C:\\Users\\marcos220057\\OneDrive - CNPEM - Centro Nacional de Pesquisa em Energia e Materiais\\2sem2022\\Aprendizado de Máquina\\Neutral_Graphene_Oxide_Nanoflake_Dataset.csv')"
   ]
  },
  {
   "cell_type": "code",
   "execution_count": null,
   "id": "f87bb951-50e9-46dc-9c8a-19690c31832a",
   "metadata": {},
   "outputs": [],
   "source": [
    "#caminho Paola\n",
    "bruto = pd.read_csv()"
   ]
  }
 ],
 "metadata": {
  "kernelspec": {
   "display_name": "ilumpy",
   "language": "python",
   "name": "ilumpy"
  },
  "language_info": {
   "codemirror_mode": {
    "name": "ipython",
    "version": 3
   },
   "file_extension": ".py",
   "mimetype": "text/x-python",
   "name": "python",
   "nbconvert_exporter": "python",
   "pygments_lexer": "ipython3",
   "version": "3.9.7"
  }
 },
 "nbformat": 4,
 "nbformat_minor": 5
}
