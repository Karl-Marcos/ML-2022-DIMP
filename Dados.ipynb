{
 "cells": [
  {
   "cell_type": "code",
   "execution_count": 5,
   "id": "aebc56d7-6751-42d5-a0b7-13c9ab8d81e1",
   "metadata": {},
   "outputs": [],
   "source": [
    "import pandas as pd"
   ]
  },
  {
   "cell_type": "code",
   "execution_count": 6,
   "id": "a7aa21c6-dc95-4fdd-98ac-14da460a3431",
   "metadata": {},
   "outputs": [],
   "source": [
    "#caminho Dani\n",
    "bruto = pd.read_csv(r'C:\\JupyterLab\\2° Semestre\\Machine Learning\\ML-2022-DIMP\\Neutral_Graphene_Oxide_Nanoflake_Dataset.csv')"
   ]
  },
  {
   "cell_type": "code",
   "execution_count": null,
   "id": "1721b1e6-93c3-4cc7-bcfb-a223de52fb07",
   "metadata": {},
   "outputs": [],
   "source": [
    "#caminho Isa\n",
    "bruto = pd.read_csv()"
   ]
  },
  {
   "cell_type": "code",
   "execution_count": null,
   "id": "37f48e55-ea3d-4091-89d5-7d1174cda284",
   "metadata": {},
   "outputs": [],
   "source": [
    "#caminho Marcos\n",
    "bruto = pd.read_csv(r'C:\\Users\\marcos220057\\OneDrive - CNPEM - Centro Nacional de Pesquisa em Energia e Materiais\\2sem2022\\Aprendizado de Máquina\\Neutral_Graphene_Oxide_Nanoflake_Dataset.csv')"
   ]
  },
  {
   "cell_type": "code",
   "execution_count": 9,
   "id": "f87bb951-50e9-46dc-9c8a-19690c31832a",
   "metadata": {},
   "outputs": [],
   "source": [
    "#caminho Paola\n",
    "bruto = pd.read_csv(r'C:\\JupyterLab\\ML-2022-DIMP\\Neutral_Graphene_Oxide_Nanoflake_Dataset.csv')"
   ]
  },
  {
   "cell_type": "code",
   "execution_count": 18,
   "id": "70dfbd95-a288-4244-9f0f-3092388aca86",
   "metadata": {},
   "outputs": [],
   "source": [
    "# Excluir as colunas que tem NaN\n",
    "bruto_completo = bruto.dropna(axis = 1, how ='any')"
   ]
  },
  {
   "cell_type": "code",
   "execution_count": 19,
   "id": "02056c99-e74c-4b44-a54f-49b57af0bf65",
   "metadata": {
    "tags": []
   },
   "outputs": [],
   "source": [
    "#Calculado a matriz de correlação peterson para ver quais atributos são bons para energia de Fermi\n",
    "bruto_completo.shape\n",
    "corrmat = bruto_completo.corr()"
   ]
  },
  {
   "cell_type": "code",
   "execution_count": 28,
   "id": "99fd9133-6d22-4635-8088-35687892ef67",
   "metadata": {
    "tags": []
   },
   "outputs": [
    {
     "name": "stdout",
     "output_type": "stream",
     "text": [
      "O_concentration correlation: -0.7963203388750189\n",
      "\n",
      "C-C-C_C-sp2-C:error correlation: -0.8493752886340112\n",
      "\n",
      "C-O_sp3-sp1:mean_value correlation: 0.847305780443348\n",
      "\n",
      "C-O_sp3-strained:mean_value correlation: 0.8280893147336332\n",
      "\n",
      "C-O-H:mean_value correlation: -0.8274333876940453\n",
      "\n",
      "C-O-H_C-sp1-H:mean_value correlation: -0.8273869890961334\n",
      "\n",
      "C-O_coordination_number correlation: -0.7868925300771553\n",
      "\n",
      "density_loc_ether_mean correlation: -0.783175035923612\n",
      "\n",
      "norm_density_ether_mean correlation: -0.7869970791019995\n",
      "\n",
      "norm_Izz_bar_ether correlation: -0.7841549332099131\n",
      "\n",
      "Fermi_energy correlation: 1.0\n",
      "\n"
     ]
    }
   ],
   "source": [
    "#printando os atributos que correlacionam melhor que 0.7\n",
    "for i in corrmat['Fermi_energy'].keys():\n",
    "    if abs(corrmat['Fermi_energy'][i]) > 0.782:\n",
    "        print(i, 'correlation:', corrmat['Fermi_energy'][i])\n",
    "        print()"
   ]
  },
  {
   "cell_type": "code",
   "execution_count": 36,
   "id": "e52e85bb-dd18-4043-8df9-d9be9d2de800",
   "metadata": {},
   "outputs": [
    {
     "name": "stdout",
     "output_type": "stream",
     "text": [
      "C -0.9451088774529183\n",
      "\n",
      "H -0.9415750852322793\n",
      "\n",
      "atom_number_total -0.997881550895204\n",
      "\n",
      "area -0.946461806575993\n",
      "\n",
      "all_agent_group_count -0.9546818573050628\n",
      "\n",
      "C-C:total_number -0.9442555104184308\n",
      "\n",
      "C-C_sp2-sp3:total_number -0.9376195769770793\n",
      "\n",
      "C-C-C:total_number -0.9432530823044715\n",
      "\n",
      "rings_total_number_10_all -0.9333293400696462\n",
      "\n",
      "rings_total_number_6_all -0.9377238761263992\n",
      "\n",
      "rings_total_number_6_sp -0.9375247370495672\n",
      "\n",
      "Ixx_ether -0.9343988890313029\n",
      "\n",
      "Izz_ether -0.9393554727019133\n",
      "\n",
      "norm_Ixx_ether -0.9310057193670633\n",
      "\n",
      "norm_Izz_ether -0.9354374049002103\n",
      "\n",
      "total_energy 1.0\n",
      "\n"
     ]
    }
   ],
   "source": [
    "for i in corrmat['total_energy'].keys():\n",
    "    if abs(corrmat['total_energy'][i]) > 0.93:\n",
    "        print(i, corrmat['total_energy'][i])\n",
    "        print()"
   ]
  },
  {
   "cell_type": "code",
   "execution_count": null,
   "id": "605520d6-eec6-4e48-8a4b-958edc8acad8",
   "metadata": {},
   "outputs": [],
   "source": []
  }
 ],
 "metadata": {
  "kernelspec": {
   "display_name": "ilumpy",
   "language": "python",
   "name": "ilumpy"
  },
  "language_info": {
   "codemirror_mode": {
    "name": "ipython",
    "version": 3
   },
   "file_extension": ".py",
   "mimetype": "text/x-python",
   "name": "python",
   "nbconvert_exporter": "python",
   "pygments_lexer": "ipython3",
   "version": "3.9.7"
  }
 },
 "nbformat": 4,
 "nbformat_minor": 5
}
