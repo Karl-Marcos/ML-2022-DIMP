{
 "cells": [
  {
   "cell_type": "code",
   "execution_count": 5,
   "id": "aebc56d7-6751-42d5-a0b7-13c9ab8d81e1",
   "metadata": {},
   "outputs": [],
   "source": [
    "import pandas as pd"
   ]
  },
  {
   "cell_type": "code",
   "execution_count": 6,
   "id": "a7aa21c6-dc95-4fdd-98ac-14da460a3431",
   "metadata": {},
   "outputs": [],
   "source": [
    "#caminho Dani\n",
    "bruto = pd.read_csv(r'C:\\JupyterLab\\2° Semestre\\Machine Learning\\ML-2022-DIMP\\Neutral_Graphene_Oxide_Nanoflake_Dataset.csv')"
   ]
  },
  {
   "cell_type": "code",
   "execution_count": null,
   "id": "1721b1e6-93c3-4cc7-bcfb-a223de52fb07",
   "metadata": {},
   "outputs": [],
   "source": [
    "#caminho Isa\n",
    "bruto = pd.read_csv()"
   ]
  },
  {
   "cell_type": "code",
   "execution_count": null,
   "id": "37f48e55-ea3d-4091-89d5-7d1174cda284",
   "metadata": {},
   "outputs": [],
   "source": [
    "#caminho Marcos\n",
    "bruto = pd.read_csv(r'C:\\Users\\marcos220057\\OneDrive - CNPEM - Centro Nacional de Pesquisa em Energia e Materiais\\2sem2022\\Aprendizado de Máquina\\Neutral_Graphene_Oxide_Nanoflake_Dataset.csv')"
   ]
  },
  {
   "cell_type": "code",
   "execution_count": 9,
   "id": "f87bb951-50e9-46dc-9c8a-19690c31832a",
   "metadata": {},
   "outputs": [],
   "source": [
    "#caminho Paola\n",
    "bruto = pd.read_csv(r'C:\\JupyterLab\\ML-2022-DIMP\\Neutral_Graphene_Oxide_Nanoflake_Dataset.csv')"
   ]
  },
  {
   "cell_type": "code",
   "execution_count": 10,
   "id": "70dfbd95-a288-4244-9f0f-3092388aca86",
   "metadata": {},
   "outputs": [],
   "source": [
    "# novo data frame completo\n",
    "bruto_completo = bruto.dropna(axis = 1, how ='any')"
   ]
  },
  {
   "cell_type": "code",
   "execution_count": null,
   "id": "89a66b41-75c7-4abe-aa37-e260e83a7a97",
   "metadata": {},
   "outputs": [],
   "source": []
  }
 ],
 "metadata": {
  "kernelspec": {
   "display_name": "ilumpy",
   "language": "python",
   "name": "ilumpy"
  },
  "language_info": {
   "codemirror_mode": {
    "name": "ipython",
    "version": 3
   },
   "file_extension": ".py",
   "mimetype": "text/x-python",
   "name": "python",
   "nbconvert_exporter": "python",
   "pygments_lexer": "ipython3",
   "version": "3.9.7"
  }
 },
 "nbformat": 4,
 "nbformat_minor": 5
}
