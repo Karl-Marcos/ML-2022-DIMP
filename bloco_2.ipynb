{
 "cells": [
  {
   "cell_type": "code",
   "execution_count": 3,
   "id": "a485757f-78ab-4c7b-b0f5-0a0f42f98fc1",
   "metadata": {},
   "outputs": [],
   "source": [
    "import pandas as pd\n",
    "import matplotlib.pyplot as plt\n",
    "plt.style.use('seaborn-bright')\n",
    "import numpy as np\n",
    "import lmfit"
   ]
  },
  {
   "cell_type": "code",
   "execution_count": 4,
   "id": "3b7a8660-33fd-4fae-96be-6d6fa2e226f2",
   "metadata": {},
   "outputs": [],
   "source": [
    "#caminhos para fazer os DataFrames\n",
    "df_fermi = pd.read_csv (\"CSVs\\Dados_Fermi.csv\")\n",
    "df_energia = pd.read_csv(\"CSVs\\Dados_energia.csv\")"
   ]
  },
  {
   "cell_type": "markdown",
   "id": "ace9910a-8d99-4e6c-b76b-d95c39d08edd",
   "metadata": {
    "tags": []
   },
   "source": [
    "## Métricas:"
   ]
  },
  {
   "cell_type": "markdown",
   "id": "516ce732-3c76-4901-9176-baa5ce64c06d",
   "metadata": {},
   "source": [
    "### Modelo Baseline:"
   ]
  },
  {
   "cell_type": "code",
   "execution_count": 5,
   "id": "28285a7a-ba8a-4344-8aad-c2d98b3072eb",
   "metadata": {},
   "outputs": [],
   "source": [
    "# Calcular o erro quadrático médio - medindo o modelo baseline\n",
    "from sklearn.metrics import mean_squared_error\n",
    "def RMSE(x_teste, y_teste, modelo):\n",
    "    y_verdadeiro = y_teste\n",
    "    y_previsao = modelo.predict(x_teste)\n",
    "\n",
    "    RMSE = mean_squared_error(y_verdadeiro, y_previsao, squared=False)\n",
    "    \n",
    "\n",
    "    return print(f\"O RMSE do modelo baseline foi de {RMSE}, porcentagem em relação a média: {abs((RMSE/y_teste.mean()) * 100)}.\")"
   ]
  },
  {
   "cell_type": "markdown",
   "id": "55032754-030d-461b-837c-9c9d8b25b2c2",
   "metadata": {},
   "source": [
    "#### Para a energia de fermi:"
   ]
  },
  {
   "cell_type": "code",
   "execution_count": 6,
   "id": "37b9e61b-7287-486b-8f2b-4b8bcb4b7d98",
   "metadata": {},
   "outputs": [],
   "source": [
    "# Define o tamanho dos dados de teste e de treino e cria os dataframes\n",
    "\n",
    "from sklearn.model_selection import train_test_split\n",
    "\n",
    "\n",
    "#escolhe o tamanho do nosso teste\n",
    "TAMANHO_TESTE = 0.1\n",
    "# fixa quais dados que vão ser selecionados para teste e treino\n",
    "SEMENTE_ALEATORIA = 24569\n",
    "DATASET_NAME = \"df_fermi\"\n",
    "# faz uma lista de features que queremos usar, no caso são todas\n",
    "FEATURES = list(df_fermi.keys())\n",
    "# tira o nosso target entre as features\n",
    "FEATURES.remove(\"Fermi_energy\")\n",
    "FEATURES.remove(\"Unnamed: 0\")\n",
    "#o que queremos achar\n",
    "TARGET = [\"Fermi_energy\"]\n",
    "\n",
    "\n",
    "indices = df_fermi.index\n",
    "indices_treino, indices_teste = train_test_split(\n",
    "    indices, test_size=TAMANHO_TESTE, random_state=SEMENTE_ALEATORIA\n",
    ")\n",
    "\n",
    "df_treino_fe = df_fermi.loc[indices_treino]\n",
    "df_teste_fe = df_fermi.loc[indices_teste]\n",
    "\n",
    "# observe que usamos o .values aqui pois queremos apenas os valores\n",
    "x_treino_fe = df_treino_fe.reindex(FEATURES, axis=1).values\n",
    "y_treino_fe = df_treino_fe.reindex(TARGET, axis=1).values\n",
    "x_teste_fe = df_teste_fe.reindex(FEATURES, axis=1).values\n",
    "y_teste_fe = df_teste_fe.reindex(TARGET, axis=1).values\n"
   ]
  },
  {
   "cell_type": "markdown",
   "id": "6a598ef5-f718-463d-b3fd-d0afcb18618a",
   "metadata": {},
   "source": [
    "### Baseline média:"
   ]
  },
  {
   "cell_type": "code",
   "execution_count": 7,
   "id": "11c1dd08-ca1c-48ac-8969-c06831cce27a",
   "metadata": {},
   "outputs": [
    {
     "name": "stdout",
     "output_type": "stream",
     "text": [
      "[-4.95704166 -4.95704166 -4.95704166 ... -4.95704166 -4.95704166\n",
      " -4.95704166]\n"
     ]
    }
   ],
   "source": [
    "# Criar um modelo regressor \"dummy\"\n",
    "from sklearn.dummy import DummyRegressor\n",
    "\n",
    "# cria o modelo\n",
    "modelo_baseline_fe = DummyRegressor()\n",
    "\n",
    "# treina o modelo\n",
    "modelo_baseline_fe.fit(x_treino_fe, y_treino_fe)\n",
    "\n",
    "# realiza uma previsão usando o modelo treinado\n",
    "previsao_fe = modelo_baseline_fe.predict(x_teste_fe)\n",
    "\n",
    "print(previsao_fe)"
   ]
  },
  {
   "cell_type": "code",
   "execution_count": 8,
   "id": "9d181e5e-87b6-4dfc-ad41-752a7e48943e",
   "metadata": {},
   "outputs": [
    {
     "name": "stdout",
     "output_type": "stream",
     "text": [
      "O RMSE do modelo baseline foi de 0.30151342169015477, porcentagem em relação a média: 6.078721445684178.\n"
     ]
    }
   ],
   "source": [
    "# testando a qualidade do nosso modelo:\n",
    "RMSE(x_teste_fe, y_teste_fe, modelo_baseline_fe )"
   ]
  },
  {
   "cell_type": "markdown",
   "id": "7b6bbb10-c007-49ef-991d-a553a41d2894",
   "metadata": {},
   "source": [
    "### Para energia por átomo:"
   ]
  },
  {
   "cell_type": "code",
   "execution_count": 9,
   "id": "60186e02-95db-4a1b-b7e7-66bb5b302fa4",
   "metadata": {},
   "outputs": [],
   "source": [
    "# Criar os dados de teste e de treino\n",
    "\n",
    "#escolhe o tamanho do nosso teste\n",
    "tamanho_teste = 0.1\n",
    "# fixa quais dados que vão ser selecionados para teste e treino\n",
    "semente_aleatoria = 24569\n",
    "# faz uma lista de features que queremos usar, no caso são todas\n",
    "features = list(df_energia.keys())\n",
    "# tira o nosso target entre as features\n",
    "features.remove(\"energy_per_atom\")\n",
    "features.remove(\"Unnamed: 0\")\n",
    "#o que queremos achar\n",
    "target = [\"energy_per_atom\"]\n",
    "\n",
    "\n",
    "indices = df_energia.index\n",
    "indices_treino, indices_teste = train_test_split(\n",
    "    indices, test_size=tamanho_teste, random_state= semente_aleatoria\n",
    ")\n",
    "\n",
    "df_treino_en = df_energia.loc[indices_treino]\n",
    "df_teste_en = df_energia.loc[indices_teste]\n",
    "\n",
    "# observe que usamos o .values aqui pois queremos apenas os valores\n",
    "x_treino_en = df_treino_en.reindex(features, axis=1).values\n",
    "y_treino_en = df_treino_en.reindex(target, axis=1).values\n",
    "x_teste_en = df_teste_en.reindex(features, axis=1).values\n",
    "y_teste_en = df_teste_en.reindex(target, axis=1).values"
   ]
  },
  {
   "cell_type": "markdown",
   "id": "0db9667d-b9d7-469d-a0d1-3cca50d8eb1c",
   "metadata": {},
   "source": [
    "### Baseline média"
   ]
  },
  {
   "cell_type": "code",
   "execution_count": 10,
   "id": "dacd8fe5-27c4-49e1-9927-9ea0d313a095",
   "metadata": {},
   "outputs": [
    {
     "name": "stdout",
     "output_type": "stream",
     "text": [
      "[-47.41313446 -47.41313446 -47.41313446 ... -47.41313446 -47.41313446\n",
      " -47.41313446]\n"
     ]
    }
   ],
   "source": [
    "# Cria e testa o modelo de regressor \"Dummy\" para a energia por átomo\n",
    "# cria o modelo\n",
    "modelo_baseline_en = DummyRegressor()\n",
    "\n",
    "# treina o modelo\n",
    "modelo_baseline_en.fit(x_treino_en, y_treino_en)\n",
    "\n",
    "# realiza uma previsão usando o modelo treinado\n",
    "previsao_en = modelo_baseline_en.predict(x_teste_en)\n",
    "\n",
    "print(previsao_en)"
   ]
  },
  {
   "cell_type": "code",
   "execution_count": 11,
   "id": "7f7d47c6-7853-4411-aab5-6795d4df21ad",
   "metadata": {},
   "outputs": [
    {
     "name": "stdout",
     "output_type": "stream",
     "text": [
      "O RMSE do modelo baseline foi de 2.353630547946566, porcentagem em relação a média: 4.965411373597822.\n"
     ]
    }
   ],
   "source": [
    "# testando a qualidade do nosso modelo:\n",
    "RMSE(x_teste_en, y_teste_en, modelo_baseline_en )"
   ]
  },
  {
   "cell_type": "markdown",
   "id": "8a5787a6-4385-434e-b7ae-85f038a4c7ce",
   "metadata": {},
   "source": [
    "# Modelo KNN"
   ]
  },
  {
   "cell_type": "code",
   "execution_count": 12,
   "id": "83f44f02-b7e8-4c93-b9ea-0eb6a544351c",
   "metadata": {},
   "outputs": [],
   "source": [
    "#Cria o algoritmo de identificação de vizinhos mais próximos;\n",
    "\n",
    "def identificacaoknn(x_treino, y_treino, x_teste, y_teste, target_name): #Definir uma função para calcular os vizinhos, já que temos dois targets numéricos\n",
    "    \"Essa função utiliza os dados para calcular a previsão através de um intervalo de número de k-vizinhos e calcula o RMSE e erro percentual do modelo\"\n",
    "    media_teste = y_teste.mean()\n",
    "    media_treino = y_treino.mean()\n",
    "\n",
    "    from sklearn.metrics import mean_squared_error \n",
    "    from sklearn.neighbors import KNeighborsRegressor\n",
    "    \n",
    "    #variando o hiperparâmetro k, que corresponde ao numero de vizinhos\n",
    "    numero_vizinhos = range(1, 101)\n",
    "    rmse = []\n",
    "    for n in numero_vizinhos: #for para testar\n",
    "        # função para criar o modelo com a qtde n de vizinhos\n",
    "        modelo_knn = KNeighborsRegressor(n_neighbors=n)\n",
    "\n",
    "        # treina o modelo\n",
    "        modelo_knn.fit(x_treino, y_treino)\n",
    "\n",
    "        # realiza uma previsão usando o modelo treinado\n",
    "        previsao = modelo_knn.predict(x_teste)\n",
    "        #print(previsao)\n",
    "\n",
    "        y_verdadeiro = y_teste\n",
    "        y_previsao = modelo_knn.predict(x_teste)\n",
    "        RMSE = mean_squared_error(y_verdadeiro, y_previsao, squared=False)\n",
    "        rmse.append(RMSE)\n",
    "        \n",
    "    fig, ax1 = plt.subplots(1,1)\n",
    "    ax1.plot(numero_vizinhos, rmse, c = 'r')\n",
    "    ax1.set_xlabel('Número de vizinhos')\n",
    "    ax1.set_ylabel('RMSE (eV)')\n",
    "    \n",
    "    fig, ax2 = plt.subplots(1,1)\n",
    "    ax2.scatter(y_verdadeiro, y_previsao, c = 'orange')\n",
    "    ax2.plot(y_verdadeiro,y_verdadeiro,label=\"y = x\", c = 'r') ; ax2.legend(fontsize='small')\n",
    "    \n",
    "    if target_name ==  'Energia de Fermi':\n",
    "        ax2.set_title('Previsão k-NN para Energia de Fermi')\n",
    "    if target_name == 'Energia por Átomo':\n",
    "        ax2.set_title('Previsão k-NN para Energia por Átomo')\n",
    "\n",
    "    ax2.set_xlabel('Verdadeiro (eV)')\n",
    "    ax2.set_ylabel('Previsão (eV)')\n",
    "    \n",
    "    \n",
    "    m = min(rmse)\n",
    "    km = numero_vizinhos[rmse.index(m)]\n",
    "    print(f\"O RMSE do modelo k-NN usando k={km} foi de {m} eV. O erro percentual é, {abs((m/media_teste) * 100)} %\")"
   ]
  },
  {
   "cell_type": "code",
   "execution_count": 13,
   "id": "e2f5cb4d-c3e7-4817-a7ad-632986078280",
   "metadata": {},
   "outputs": [
    {
     "name": "stdout",
     "output_type": "stream",
     "text": [
      "O RMSE do modelo k-NN usando k=25 foi de 0.08594171465090313 eV. O erro percentual é, 1.7326450709851542 %\n"
     ]
    },
    {
     "data": {
      "image/png": "[encoded data removed]",
      "text/plain": [
       "<Figure size 432x288 with 1 Axes>"
      ]
     },
     "metadata": {
      "needs_background": "light"
     },
     "output_type": "display_data"
    },
    {
     "data": {
      "image/png": "[encoded data removed]",
      "text/plain": [
       "<Figure size 432x288 with 1 Axes>"
      ]
     },
     "metadata": {
      "needs_background": "light"
     },
     "output_type": "display_data"
    }
   ],
   "source": [
    "identificacaoknn(x_treino_fe, y_treino_fe, x_teste_fe, y_teste_fe, 'Energia de Fermi')"
   ]
  },
  {
   "cell_type": "code",
   "execution_count": 14,
   "id": "494898c9-5967-4f61-b8ea-e2c81c2e76fb",
   "metadata": {},
   "outputs": [
    {
     "ename": "KeyboardInterrupt",
     "evalue": "",
     "output_type": "error",
     "traceback": [
      "\u001b[1;31m---------------------------------------------------------------------------\u001b[0m",
      "\u001b[1;31mKeyboardInterrupt\u001b[0m                         Traceback (most recent call last)",
      "\u001b[1;32mC:\\Users\\PAOLA2~1\\AppData\\Local\\Temp/ipykernel_4428/3301030062.py\u001b[0m in \u001b[0;36m<module>\u001b[1;34m\u001b[0m\n\u001b[1;32m----> 1\u001b[1;33m \u001b[0midentificacaoknn\u001b[0m\u001b[1;33m(\u001b[0m\u001b[0mx_treino_en\u001b[0m\u001b[1;33m,\u001b[0m \u001b[0my_treino_en\u001b[0m\u001b[1;33m,\u001b[0m \u001b[0mx_teste_en\u001b[0m\u001b[1;33m,\u001b[0m \u001b[0my_teste_en\u001b[0m\u001b[1;33m,\u001b[0m \u001b[1;34m'Energia por Átomo'\u001b[0m\u001b[1;33m)\u001b[0m\u001b[1;33m\u001b[0m\u001b[1;33m\u001b[0m\u001b[0m\n\u001b[0m",
      "\u001b[1;32mC:\\Users\\PAOLA2~1\\AppData\\Local\\Temp/ipykernel_4428/855001787.py\u001b[0m in \u001b[0;36midentificacaoknn\u001b[1;34m(x_treino, y_treino, x_teste, y_teste, target_name)\u001b[0m\n\u001b[0;32m     24\u001b[0m \u001b[1;33m\u001b[0m\u001b[0m\n\u001b[0;32m     25\u001b[0m         \u001b[0my_verdadeiro\u001b[0m \u001b[1;33m=\u001b[0m \u001b[0my_teste\u001b[0m\u001b[1;33m\u001b[0m\u001b[1;33m\u001b[0m\u001b[0m\n\u001b[1;32m---> 26\u001b[1;33m         \u001b[0my_previsao\u001b[0m \u001b[1;33m=\u001b[0m \u001b[0mmodelo_knn\u001b[0m\u001b[1;33m.\u001b[0m\u001b[0mpredict\u001b[0m\u001b[1;33m(\u001b[0m\u001b[0mx_teste\u001b[0m\u001b[1;33m)\u001b[0m\u001b[1;33m\u001b[0m\u001b[1;33m\u001b[0m\u001b[0m\n\u001b[0m\u001b[0;32m     27\u001b[0m         \u001b[0mRMSE\u001b[0m \u001b[1;33m=\u001b[0m \u001b[0mmean_squared_error\u001b[0m\u001b[1;33m(\u001b[0m\u001b[0my_verdadeiro\u001b[0m\u001b[1;33m,\u001b[0m \u001b[0my_previsao\u001b[0m\u001b[1;33m,\u001b[0m \u001b[0msquared\u001b[0m\u001b[1;33m=\u001b[0m\u001b[1;32mFalse\u001b[0m\u001b[1;33m)\u001b[0m\u001b[1;33m\u001b[0m\u001b[1;33m\u001b[0m\u001b[0m\n\u001b[0;32m     28\u001b[0m         \u001b[0mrmse\u001b[0m\u001b[1;33m.\u001b[0m\u001b[0mappend\u001b[0m\u001b[1;33m(\u001b[0m\u001b[0mRMSE\u001b[0m\u001b[1;33m)\u001b[0m\u001b[1;33m\u001b[0m\u001b[1;33m\u001b[0m\u001b[0m\n",
      "\u001b[1;32mc:\\venv\\ilumpy\\lib\\site-packages\\sklearn\\neighbors\\_regression.py\u001b[0m in \u001b[0;36mpredict\u001b[1;34m(self, X)\u001b[0m\n\u001b[0;32m    206\u001b[0m         \u001b[0mX\u001b[0m \u001b[1;33m=\u001b[0m \u001b[0mcheck_array\u001b[0m\u001b[1;33m(\u001b[0m\u001b[0mX\u001b[0m\u001b[1;33m,\u001b[0m \u001b[0maccept_sparse\u001b[0m\u001b[1;33m=\u001b[0m\u001b[1;34m'csr'\u001b[0m\u001b[1;33m)\u001b[0m\u001b[1;33m\u001b[0m\u001b[1;33m\u001b[0m\u001b[0m\n\u001b[0;32m    207\u001b[0m \u001b[1;33m\u001b[0m\u001b[0m\n\u001b[1;32m--> 208\u001b[1;33m         \u001b[0mneigh_dist\u001b[0m\u001b[1;33m,\u001b[0m \u001b[0mneigh_ind\u001b[0m \u001b[1;33m=\u001b[0m \u001b[0mself\u001b[0m\u001b[1;33m.\u001b[0m\u001b[0mkneighbors\u001b[0m\u001b[1;33m(\u001b[0m\u001b[0mX\u001b[0m\u001b[1;33m)\u001b[0m\u001b[1;33m\u001b[0m\u001b[1;33m\u001b[0m\u001b[0m\n\u001b[0m\u001b[0;32m    209\u001b[0m \u001b[1;33m\u001b[0m\u001b[0m\n\u001b[0;32m    210\u001b[0m         \u001b[0mweights\u001b[0m \u001b[1;33m=\u001b[0m \u001b[0m_get_weights\u001b[0m\u001b[1;33m(\u001b[0m\u001b[0mneigh_dist\u001b[0m\u001b[1;33m,\u001b[0m \u001b[0mself\u001b[0m\u001b[1;33m.\u001b[0m\u001b[0mweights\u001b[0m\u001b[1;33m)\u001b[0m\u001b[1;33m\u001b[0m\u001b[1;33m\u001b[0m\u001b[0m\n",
      "\u001b[1;32mc:\\venv\\ilumpy\\lib\\site-packages\\sklearn\\neighbors\\_base.py\u001b[0m in \u001b[0;36mkneighbors\u001b[1;34m(self, X, n_neighbors, return_distance)\u001b[0m\n\u001b[0;32m    720\u001b[0m             \u001b[1;32melse\u001b[0m\u001b[1;33m:\u001b[0m\u001b[1;33m\u001b[0m\u001b[1;33m\u001b[0m\u001b[0m\n\u001b[0;32m    721\u001b[0m                 \u001b[0mparallel_kwargs\u001b[0m \u001b[1;33m=\u001b[0m \u001b[1;33m{\u001b[0m\u001b[1;34m\"prefer\"\u001b[0m\u001b[1;33m:\u001b[0m \u001b[1;34m\"threads\"\u001b[0m\u001b[1;33m}\u001b[0m\u001b[1;33m\u001b[0m\u001b[1;33m\u001b[0m\u001b[0m\n\u001b[1;32m--> 722\u001b[1;33m             chunked_results = Parallel(n_jobs, **parallel_kwargs)(\n\u001b[0m\u001b[0;32m    723\u001b[0m                 delayed(_tree_query_parallel_helper)(\n\u001b[0;32m    724\u001b[0m                     self._tree, X[s], n_neighbors, return_distance)\n",
      "\u001b[1;32mc:\\venv\\ilumpy\\lib\\site-packages\\joblib\\parallel.py\u001b[0m in \u001b[0;36m__call__\u001b[1;34m(self, iterable)\u001b[0m\n\u001b[0;32m   1039\u001b[0m             \u001b[1;31m# remaining jobs.\u001b[0m\u001b[1;33m\u001b[0m\u001b[1;33m\u001b[0m\u001b[0m\n\u001b[0;32m   1040\u001b[0m             \u001b[0mself\u001b[0m\u001b[1;33m.\u001b[0m\u001b[0m_iterating\u001b[0m \u001b[1;33m=\u001b[0m \u001b[1;32mFalse\u001b[0m\u001b[1;33m\u001b[0m\u001b[1;33m\u001b[0m\u001b[0m\n\u001b[1;32m-> 1041\u001b[1;33m             \u001b[1;32mif\u001b[0m \u001b[0mself\u001b[0m\u001b[1;33m.\u001b[0m\u001b[0mdispatch_one_batch\u001b[0m\u001b[1;33m(\u001b[0m\u001b[0miterator\u001b[0m\u001b[1;33m)\u001b[0m\u001b[1;33m:\u001b[0m\u001b[1;33m\u001b[0m\u001b[1;33m\u001b[0m\u001b[0m\n\u001b[0m\u001b[0;32m   1042\u001b[0m                 \u001b[0mself\u001b[0m\u001b[1;33m.\u001b[0m\u001b[0m_iterating\u001b[0m \u001b[1;33m=\u001b[0m \u001b[0mself\u001b[0m\u001b[1;33m.\u001b[0m\u001b[0m_original_iterator\u001b[0m \u001b[1;32mis\u001b[0m \u001b[1;32mnot\u001b[0m \u001b[1;32mNone\u001b[0m\u001b[1;33m\u001b[0m\u001b[1;33m\u001b[0m\u001b[0m\n\u001b[0;32m   1043\u001b[0m \u001b[1;33m\u001b[0m\u001b[0m\n",
      "\u001b[1;32mc:\\venv\\ilumpy\\lib\\site-packages\\joblib\\parallel.py\u001b[0m in \u001b[0;36mdispatch_one_batch\u001b[1;34m(self, iterator)\u001b[0m\n\u001b[0;32m    857\u001b[0m                 \u001b[1;32mreturn\u001b[0m \u001b[1;32mFalse\u001b[0m\u001b[1;33m\u001b[0m\u001b[1;33m\u001b[0m\u001b[0m\n\u001b[0;32m    858\u001b[0m             \u001b[1;32melse\u001b[0m\u001b[1;33m:\u001b[0m\u001b[1;33m\u001b[0m\u001b[1;33m\u001b[0m\u001b[0m\n\u001b[1;32m--> 859\u001b[1;33m                 \u001b[0mself\u001b[0m\u001b[1;33m.\u001b[0m\u001b[0m_dispatch\u001b[0m\u001b[1;33m(\u001b[0m\u001b[0mtasks\u001b[0m\u001b[1;33m)\u001b[0m\u001b[1;33m\u001b[0m\u001b[1;33m\u001b[0m\u001b[0m\n\u001b[0m\u001b[0;32m    860\u001b[0m                 \u001b[1;32mreturn\u001b[0m \u001b[1;32mTrue\u001b[0m\u001b[1;33m\u001b[0m\u001b[1;33m\u001b[0m\u001b[0m\n\u001b[0;32m    861\u001b[0m \u001b[1;33m\u001b[0m\u001b[0m\n",
      "\u001b[1;32mc:\\venv\\ilumpy\\lib\\site-packages\\joblib\\parallel.py\u001b[0m in \u001b[0;36m_dispatch\u001b[1;34m(self, batch)\u001b[0m\n\u001b[0;32m    775\u001b[0m         \u001b[1;32mwith\u001b[0m \u001b[0mself\u001b[0m\u001b[1;33m.\u001b[0m\u001b[0m_lock\u001b[0m\u001b[1;33m:\u001b[0m\u001b[1;33m\u001b[0m\u001b[1;33m\u001b[0m\u001b[0m\n\u001b[0;32m    776\u001b[0m             \u001b[0mjob_idx\u001b[0m \u001b[1;33m=\u001b[0m \u001b[0mlen\u001b[0m\u001b[1;33m(\u001b[0m\u001b[0mself\u001b[0m\u001b[1;33m.\u001b[0m\u001b[0m_jobs\u001b[0m\u001b[1;33m)\u001b[0m\u001b[1;33m\u001b[0m\u001b[1;33m\u001b[0m\u001b[0m\n\u001b[1;32m--> 777\u001b[1;33m             \u001b[0mjob\u001b[0m \u001b[1;33m=\u001b[0m \u001b[0mself\u001b[0m\u001b[1;33m.\u001b[0m\u001b[0m_backend\u001b[0m\u001b[1;33m.\u001b[0m\u001b[0mapply_async\u001b[0m\u001b[1;33m(\u001b[0m\u001b[0mbatch\u001b[0m\u001b[1;33m,\u001b[0m \u001b[0mcallback\u001b[0m\u001b[1;33m=\u001b[0m\u001b[0mcb\u001b[0m\u001b[1;33m)\u001b[0m\u001b[1;33m\u001b[0m\u001b[1;33m\u001b[0m\u001b[0m\n\u001b[0m\u001b[0;32m    778\u001b[0m             \u001b[1;31m# A job can complete so quickly than its callback is\u001b[0m\u001b[1;33m\u001b[0m\u001b[1;33m\u001b[0m\u001b[0m\n\u001b[0;32m    779\u001b[0m             \u001b[1;31m# called before we get here, causing self._jobs to\u001b[0m\u001b[1;33m\u001b[0m\u001b[1;33m\u001b[0m\u001b[0m\n",
      "\u001b[1;32mc:\\venv\\ilumpy\\lib\\site-packages\\joblib\\_parallel_backends.py\u001b[0m in \u001b[0;36mapply_async\u001b[1;34m(self, func, callback)\u001b[0m\n\u001b[0;32m    206\u001b[0m     \u001b[1;32mdef\u001b[0m \u001b[0mapply_async\u001b[0m\u001b[1;33m(\u001b[0m\u001b[0mself\u001b[0m\u001b[1;33m,\u001b[0m \u001b[0mfunc\u001b[0m\u001b[1;33m,\u001b[0m \u001b[0mcallback\u001b[0m\u001b[1;33m=\u001b[0m\u001b[1;32mNone\u001b[0m\u001b[1;33m)\u001b[0m\u001b[1;33m:\u001b[0m\u001b[1;33m\u001b[0m\u001b[1;33m\u001b[0m\u001b[0m\n\u001b[0;32m    207\u001b[0m         \u001b[1;34m\"\"\"Schedule a func to be run\"\"\"\u001b[0m\u001b[1;33m\u001b[0m\u001b[1;33m\u001b[0m\u001b[0m\n\u001b[1;32m--> 208\u001b[1;33m         \u001b[0mresult\u001b[0m \u001b[1;33m=\u001b[0m \u001b[0mImmediateResult\u001b[0m\u001b[1;33m(\u001b[0m\u001b[0mfunc\u001b[0m\u001b[1;33m)\u001b[0m\u001b[1;33m\u001b[0m\u001b[1;33m\u001b[0m\u001b[0m\n\u001b[0m\u001b[0;32m    209\u001b[0m         \u001b[1;32mif\u001b[0m \u001b[0mcallback\u001b[0m\u001b[1;33m:\u001b[0m\u001b[1;33m\u001b[0m\u001b[1;33m\u001b[0m\u001b[0m\n\u001b[0;32m    210\u001b[0m             \u001b[0mcallback\u001b[0m\u001b[1;33m(\u001b[0m\u001b[0mresult\u001b[0m\u001b[1;33m)\u001b[0m\u001b[1;33m\u001b[0m\u001b[1;33m\u001b[0m\u001b[0m\n",
      "\u001b[1;32mc:\\venv\\ilumpy\\lib\\site-packages\\joblib\\_parallel_backends.py\u001b[0m in \u001b[0;36m__init__\u001b[1;34m(self, batch)\u001b[0m\n\u001b[0;32m    570\u001b[0m         \u001b[1;31m# Don't delay the application, to avoid keeping the input\u001b[0m\u001b[1;33m\u001b[0m\u001b[1;33m\u001b[0m\u001b[0m\n\u001b[0;32m    571\u001b[0m         \u001b[1;31m# arguments in memory\u001b[0m\u001b[1;33m\u001b[0m\u001b[1;33m\u001b[0m\u001b[0m\n\u001b[1;32m--> 572\u001b[1;33m         \u001b[0mself\u001b[0m\u001b[1;33m.\u001b[0m\u001b[0mresults\u001b[0m \u001b[1;33m=\u001b[0m \u001b[0mbatch\u001b[0m\u001b[1;33m(\u001b[0m\u001b[1;33m)\u001b[0m\u001b[1;33m\u001b[0m\u001b[1;33m\u001b[0m\u001b[0m\n\u001b[0m\u001b[0;32m    573\u001b[0m \u001b[1;33m\u001b[0m\u001b[0m\n\u001b[0;32m    574\u001b[0m     \u001b[1;32mdef\u001b[0m \u001b[0mget\u001b[0m\u001b[1;33m(\u001b[0m\u001b[0mself\u001b[0m\u001b[1;33m)\u001b[0m\u001b[1;33m:\u001b[0m\u001b[1;33m\u001b[0m\u001b[1;33m\u001b[0m\u001b[0m\n",
      "\u001b[1;32mc:\\venv\\ilumpy\\lib\\site-packages\\joblib\\parallel.py\u001b[0m in \u001b[0;36m__call__\u001b[1;34m(self)\u001b[0m\n\u001b[0;32m    260\u001b[0m         \u001b[1;31m# change the default number of processes to -1\u001b[0m\u001b[1;33m\u001b[0m\u001b[1;33m\u001b[0m\u001b[0m\n\u001b[0;32m    261\u001b[0m         \u001b[1;32mwith\u001b[0m \u001b[0mparallel_backend\u001b[0m\u001b[1;33m(\u001b[0m\u001b[0mself\u001b[0m\u001b[1;33m.\u001b[0m\u001b[0m_backend\u001b[0m\u001b[1;33m,\u001b[0m \u001b[0mn_jobs\u001b[0m\u001b[1;33m=\u001b[0m\u001b[0mself\u001b[0m\u001b[1;33m.\u001b[0m\u001b[0m_n_jobs\u001b[0m\u001b[1;33m)\u001b[0m\u001b[1;33m:\u001b[0m\u001b[1;33m\u001b[0m\u001b[1;33m\u001b[0m\u001b[0m\n\u001b[1;32m--> 262\u001b[1;33m             return [func(*args, **kwargs)\n\u001b[0m\u001b[0;32m    263\u001b[0m                     for func, args, kwargs in self.items]\n\u001b[0;32m    264\u001b[0m \u001b[1;33m\u001b[0m\u001b[0m\n",
      "\u001b[1;32mc:\\venv\\ilumpy\\lib\\site-packages\\joblib\\parallel.py\u001b[0m in \u001b[0;36m<listcomp>\u001b[1;34m(.0)\u001b[0m\n\u001b[0;32m    260\u001b[0m         \u001b[1;31m# change the default number of processes to -1\u001b[0m\u001b[1;33m\u001b[0m\u001b[1;33m\u001b[0m\u001b[0m\n\u001b[0;32m    261\u001b[0m         \u001b[1;32mwith\u001b[0m \u001b[0mparallel_backend\u001b[0m\u001b[1;33m(\u001b[0m\u001b[0mself\u001b[0m\u001b[1;33m.\u001b[0m\u001b[0m_backend\u001b[0m\u001b[1;33m,\u001b[0m \u001b[0mn_jobs\u001b[0m\u001b[1;33m=\u001b[0m\u001b[0mself\u001b[0m\u001b[1;33m.\u001b[0m\u001b[0m_n_jobs\u001b[0m\u001b[1;33m)\u001b[0m\u001b[1;33m:\u001b[0m\u001b[1;33m\u001b[0m\u001b[1;33m\u001b[0m\u001b[0m\n\u001b[1;32m--> 262\u001b[1;33m             return [func(*args, **kwargs)\n\u001b[0m\u001b[0;32m    263\u001b[0m                     for func, args, kwargs in self.items]\n\u001b[0;32m    264\u001b[0m \u001b[1;33m\u001b[0m\u001b[0m\n",
      "\u001b[1;32mc:\\venv\\ilumpy\\lib\\site-packages\\sklearn\\utils\\fixes.py\u001b[0m in \u001b[0;36m__call__\u001b[1;34m(self, *args, **kwargs)\u001b[0m\n\u001b[0;32m    220\u001b[0m     \u001b[1;32mdef\u001b[0m \u001b[0m__call__\u001b[0m\u001b[1;33m(\u001b[0m\u001b[0mself\u001b[0m\u001b[1;33m,\u001b[0m \u001b[1;33m*\u001b[0m\u001b[0margs\u001b[0m\u001b[1;33m,\u001b[0m \u001b[1;33m**\u001b[0m\u001b[0mkwargs\u001b[0m\u001b[1;33m)\u001b[0m\u001b[1;33m:\u001b[0m\u001b[1;33m\u001b[0m\u001b[1;33m\u001b[0m\u001b[0m\n\u001b[0;32m    221\u001b[0m         \u001b[1;32mwith\u001b[0m \u001b[0mconfig_context\u001b[0m\u001b[1;33m(\u001b[0m\u001b[1;33m**\u001b[0m\u001b[0mself\u001b[0m\u001b[1;33m.\u001b[0m\u001b[0mconfig\u001b[0m\u001b[1;33m)\u001b[0m\u001b[1;33m:\u001b[0m\u001b[1;33m\u001b[0m\u001b[1;33m\u001b[0m\u001b[0m\n\u001b[1;32m--> 222\u001b[1;33m             \u001b[1;32mreturn\u001b[0m \u001b[0mself\u001b[0m\u001b[1;33m.\u001b[0m\u001b[0mfunction\u001b[0m\u001b[1;33m(\u001b[0m\u001b[1;33m*\u001b[0m\u001b[0margs\u001b[0m\u001b[1;33m,\u001b[0m \u001b[1;33m**\u001b[0m\u001b[0mkwargs\u001b[0m\u001b[1;33m)\u001b[0m\u001b[1;33m\u001b[0m\u001b[1;33m\u001b[0m\u001b[0m\n\u001b[0m",
      "\u001b[1;32mc:\\venv\\ilumpy\\lib\\site-packages\\sklearn\\neighbors\\_base.py\u001b[0m in \u001b[0;36m_tree_query_parallel_helper\u001b[1;34m(tree, *args, **kwargs)\u001b[0m\n\u001b[0;32m    545\u001b[0m     \u001b[0munder\u001b[0m \u001b[0mPyPy\u001b[0m\u001b[1;33m.\u001b[0m\u001b[1;33m\u001b[0m\u001b[1;33m\u001b[0m\u001b[0m\n\u001b[0;32m    546\u001b[0m     \"\"\"\n\u001b[1;32m--> 547\u001b[1;33m     \u001b[1;32mreturn\u001b[0m \u001b[0mtree\u001b[0m\u001b[1;33m.\u001b[0m\u001b[0mquery\u001b[0m\u001b[1;33m(\u001b[0m\u001b[1;33m*\u001b[0m\u001b[0margs\u001b[0m\u001b[1;33m,\u001b[0m \u001b[1;33m**\u001b[0m\u001b[0mkwargs\u001b[0m\u001b[1;33m)\u001b[0m\u001b[1;33m\u001b[0m\u001b[1;33m\u001b[0m\u001b[0m\n\u001b[0m\u001b[0;32m    548\u001b[0m \u001b[1;33m\u001b[0m\u001b[0m\n\u001b[0;32m    549\u001b[0m \u001b[1;33m\u001b[0m\u001b[0m\n",
      "\u001b[1;31mKeyboardInterrupt\u001b[0m: "
     ]
    }
   ],
   "source": [
    "identificacaoknn(x_treino_en, y_treino_en, x_teste_en, y_teste_en, 'Energia por Átomo')"
   ]
  },
  {
   "cell_type": "markdown",
   "id": "471d135e-8f73-46a2-886c-d801e9ef118b",
   "metadata": {},
   "source": [
    "#### Para a energia de Fermi, o modelo de k-NN resultou em um RMSE cerca de 3.5 vezes menor que o baseline, já para a energia total por átomo resultou em um RMSE cerca de 3 vezes menor que o baseline. Ou seja, comparando os dois modelos, o k-NN é melhor."
   ]
  },
  {
   "cell_type": "markdown",
   "id": "c70996bd-a478-4795-8b1c-739b20fdf61d",
   "metadata": {},
   "source": [
    "# Modelo Linear (não normalizado):"
   ]
  },
  {
   "cell_type": "code",
   "execution_count": 15,
   "id": "2078b59e-e9ed-4345-b195-478f2a8fe541",
   "metadata": {},
   "outputs": [],
   "source": [
    "from sklearn.linear_model import LinearRegression"
   ]
  },
  {
   "cell_type": "code",
   "execution_count": 21,
   "id": "0ff27905-8b3c-4460-b8c6-62128811cda9",
   "metadata": {},
   "outputs": [],
   "source": [
    "# Cria o modelo de regressão linear e realiza a predição, além de calcular o RMSE\n",
    "\n",
    "def modelo_linear(x_treino, y_treino, x_teste, y_teste, target_name):\n",
    "    # cria o modelo\n",
    "    modelo_linear = LinearRegression()\n",
    "\n",
    "    # treina o modelo\n",
    "    modelo_linear.fit(x_treino, y_treino)\n",
    "\n",
    "    # realiza uma previsão usando o modelo treinado\n",
    "    previsao = modelo_linear.predict(x_teste)\n",
    "    #print(previsao)\n",
    "\n",
    "    y_verdadeiro = y_teste\n",
    "    y_previsao = modelo_linear.predict(x_teste)\n",
    "    RMSE = mean_squared_error(y_verdadeiro, y_previsao, squared=False)\n",
    "    \n",
    "    fig, ax2 = plt.subplots(1,1)\n",
    "    ax2.scatter(y_verdadeiro, y_previsao, c = 'orange')\n",
    "    ax2.plot(y_verdadeiro,y_verdadeiro,label=\"y=x\", c = 'r') ; ax2.legend(fontsize='small')\n",
    "    if target_name ==  'Energia de Fermi':\n",
    "        ax2.set_title('Previsão linear para Energia de Fermi')\n",
    "    if target_name == 'Energia por Átomo':\n",
    "        ax2.set_title('Previsão linear para Energia por Átomo')\n",
    "    ax2.set_xlabel('Verdadeiro (eV)')\n",
    "    ax2.set_ylabel('Previsão (eV)')\n",
    "    \n",
    "    print(f\"O modelo linear produziu um RMSE de {RMSE} eV\")"
   ]
  },
  {
   "cell_type": "markdown",
   "id": "9d13cea4-f089-44ce-8ccf-5a48a792b636",
   "metadata": {
    "tags": []
   },
   "source": [
    "### Energia de Fermi:"
   ]
  },
  {
   "cell_type": "code",
   "execution_count": 22,
   "id": "50217614-e891-4a80-ba0d-c9682adaceea",
   "metadata": {},
   "outputs": [
    {
     "name": "stdout",
     "output_type": "stream",
     "text": [
      "O modelo linear produziu um RMSE de 0.09438584636064325 eV\n"
     ]
    },
    {
     "data": {
      "image/png": "[encoded data removed]",
      "text/plain": [
       "<Figure size 432x288 with 1 Axes>"
      ]
     },
     "metadata": {
      "needs_background": "light"
     },
     "output_type": "display_data"
    }
   ],
   "source": [
    "#Testando o modelo para a energia de Fermi:\n",
    "modelo_linear(x_treino_fe, y_treino_fe, x_teste_fe, y_teste_fe, 'Energia de Fermi')"
   ]
  },
  {
   "cell_type": "markdown",
   "id": "6dec37ac-a4bd-4dc8-abd5-70e05588896e",
   "metadata": {},
   "source": [
    "Para a energia de Fermi o modelo linear deu um resultado melhor que o baseline, mas pior que o kNN"
   ]
  },
  {
   "cell_type": "markdown",
   "id": "51663928-d6b5-4876-bef7-2e3d38f34ed8",
   "metadata": {},
   "source": [
    "### Energia por átomo"
   ]
  },
  {
   "cell_type": "code",
   "execution_count": 23,
   "id": "f88ed6ae-2b71-4ff8-81fc-059016c2d823",
   "metadata": {},
   "outputs": [
    {
     "name": "stdout",
     "output_type": "stream",
     "text": [
      "O modelo linear produziu um RMSE de 0.42262044597555926 eV\n"
     ]
    },
    {
     "data": {
      "image/png": "[encoded data removed]",
      "text/plain": [
       "<Figure size 432x288 with 1 Axes>"
      ]
     },
     "metadata": {
      "needs_background": "light"
     },
     "output_type": "display_data"
    }
   ],
   "source": [
    "#Testando o modelo para energia por átomo\n",
    "modelo_linear(x_treino_en, y_treino_en, x_teste_en, y_teste_en, 'Energia por Átomo')"
   ]
  },
  {
   "cell_type": "markdown",
   "id": "bf62d213-3e6e-48f6-9048-b80806049214",
   "metadata": {},
   "source": [
    "Esse modelo se mostrou melhor para a energia por átomo do que o modelo baseline e kNN."
   ]
  },
  {
   "cell_type": "markdown",
   "id": "5f0e89bb-ed2a-4571-a96d-f633371b41b6",
   "metadata": {},
   "source": [
    "# Modelo Linear (normalizado):"
   ]
  },
  {
   "cell_type": "code",
   "execution_count": 24,
   "id": "683d0341-1057-40a3-8726-ddaae778f68c",
   "metadata": {},
   "outputs": [],
   "source": [
    "from sklearn.preprocessing import MinMaxScaler"
   ]
  },
  {
   "cell_type": "code",
   "execution_count": 25,
   "id": "76ee3f93-b4aa-4f54-afef-afcf96570bda",
   "metadata": {},
   "outputs": [],
   "source": [
    "# Cria o modelo linear normalizado e testa a predição\n",
    "def modelo_linear_normalizado(x_treino, y_treino, x_teste, y_teste, target_name):\n",
    "\n",
    "    normalizador_x = MinMaxScaler()\n",
    "    normalizador_y = MinMaxScaler()\n",
    "\n",
    "    normalizador_x.fit(x_treino)\n",
    "    normalizador_y.fit(y_treino)\n",
    "    # cria o modelo\n",
    "    modelo_linear = LinearRegression()\n",
    "\n",
    "    # treina o modelo\n",
    "    modelo_linear.fit(\n",
    "        normalizador_x.transform(x_treino),\n",
    "        normalizador_y.transform(y_treino),\n",
    "    )\n",
    "\n",
    "    # realiza uma previsão usando o modelo treinado\n",
    "    previsao = modelo_linear.predict(normalizador_x.transform(x_treino))\n",
    "    previsao = normalizador_y.inverse_transform(previsao)\n",
    "    #print(previsao)\n",
    "    y_verdadeiro = y_teste\n",
    "    y_previsao = modelo_linear.predict(normalizador_x.transform(x_teste))\n",
    "    y_previsao = normalizador_y.inverse_transform(y_previsao)\n",
    "\n",
    "    RMSE = mean_squared_error(y_verdadeiro, y_previsao, squared=False)\n",
    "    \n",
    "    fig, ax2 = plt.subplots(1,1)\n",
    "    ax2.scatter(y_verdadeiro, y_previsao, c = 'orange')\n",
    "    ax2.plot(y_verdadeiro,y_verdadeiro,label=\"y=x\", c = 'r') ; ax2.legend(fontsize='small')\n",
    "    if target_name ==  'Energia de Fermi':\n",
    "        ax2.set_title('Previsão linear (normalizado) para Energia de Fermi')\n",
    "    if target_name == 'Energia por Átomo':\n",
    "        ax2.set_title('Previsão linear (normalizado) para Energia por Átomo')\n",
    "    ax2.set_xlabel('Verdadeiro (eV)')\n",
    "    ax2.set_ylabel('Previsão (eV)')\n",
    "\n",
    "    print(f\"O RMSE do modelo linear normalizado foi de {RMSE} eV.\")"
   ]
  },
  {
   "cell_type": "markdown",
   "id": "dd96f2aa-deeb-49ae-8d25-7ee43d54ecc6",
   "metadata": {},
   "source": [
    "### Energia de Fermi"
   ]
  },
  {
   "cell_type": "code",
   "execution_count": 26,
   "id": "6cebbd79-3d09-496c-958e-8fd503ae5d52",
   "metadata": {},
   "outputs": [
    {
     "name": "stdout",
     "output_type": "stream",
     "text": [
      "O RMSE do modelo linear normalizado foi de 0.09438584636064316 eV.\n"
     ]
    },
    {
     "data": {
      "image/png": "[encoded data removed]",
      "text/plain": [
       "<Figure size 432x288 with 1 Axes>"
      ]
     },
     "metadata": {
      "needs_background": "light"
     },
     "output_type": "display_data"
    }
   ],
   "source": [
    "#Teste do modelo e RMSE\n",
    "modelo_linear_normalizado(x_treino_fe, y_treino_fe, x_teste_fe, y_teste_fe,'Energia de Fermi' )"
   ]
  },
  {
   "cell_type": "markdown",
   "id": "9ed18d5a-fa62-4155-9c47-af52213a6661",
   "metadata": {},
   "source": [
    "### Energia por Átomo"
   ]
  },
  {
   "cell_type": "code",
   "execution_count": 27,
   "id": "e3e4c2fe-96b5-44ef-b326-ececc4facaaf",
   "metadata": {},
   "outputs": [
    {
     "name": "stdout",
     "output_type": "stream",
     "text": [
      "O RMSE do modelo linear normalizado foi de 0.4226204459755563 eV.\n"
     ]
    },
    {
     "data": {
      "image/png": "[encoded data removed]",
      "text/plain": [
       "<Figure size 432x288 with 1 Axes>"
      ]
     },
     "metadata": {
      "needs_background": "light"
     },
     "output_type": "display_data"
    }
   ],
   "source": [
    "#Teste do modelo e RMSE\n",
    "modelo_linear_normalizado(x_treino_en, y_treino_en, x_teste_en, y_teste_en,'Energia por Átomo')"
   ]
  },
  {
   "cell_type": "markdown",
   "id": "efe76027-82e0-407a-8048-4ca96aa93962",
   "metadata": {},
   "source": [
    "Quando analisamo o RMSE, nota-se que a normalização não alterou a qualidade do modelo."
   ]
  },
  {
   "cell_type": "markdown",
   "id": "173391db-f5b3-447c-a4a2-8a5173ba79fc",
   "metadata": {
    "tags": []
   },
   "source": [
    "# Árvore de decisão:"
   ]
  },
  {
   "cell_type": "markdown",
   "id": "20aaf8e0-a3bf-46c7-9ac3-4ee9d931f585",
   "metadata": {
    "tags": []
   },
   "source": [
    "### Testando Hiperparâmetros - teste das features e quantidade exemplos utilizados"
   ]
  },
  {
   "cell_type": "code",
   "execution_count": 18,
   "id": "1b1737ee-a966-4b38-9db3-4f0c21b1e890",
   "metadata": {},
   "outputs": [],
   "source": [
    "from sklearn.tree import DecisionTreeRegressor\n",
    "\n",
    "from itertools import product\n",
    "def hiper_arvore(X_treino, y_treino, X_teste, y_teste):\n",
    "    \"Define o modelo de árvore de decisão e testando qual hiperparâmetro será melhor\"\n",
    "    # variar o número de exemplos que serão utilizados\n",
    "    NUM_FOLHAS =list( range(10,100,10))\n",
    "    NUM_FOLHAS.append(None)\n",
    "    \n",
    "    NUM_PROFUNDIDADE = list(range(10,100,10))\n",
    "    NUM_PROFUNDIDADE.append(None)\n",
    "    #cria uma biblioteca para RMSE\n",
    "    RMSEl = {}\n",
    "\n",
    "    #cria e testa o modelo para a variação de n° de folhas e profundidade: \n",
    "    for n_folhas, n_profundidade in product(NUM_FOLHAS, NUM_PROFUNDIDADE):\n",
    "        modelo_dt = DecisionTreeRegressor(\n",
    "            max_leaf_nodes=n_folhas,\n",
    "            max_depth=n_profundidade,\n",
    "            random_state=SEMENTE_ALEATORIA,\n",
    "        )\n",
    "\n",
    "        modelo_dt.fit(X_treino, y_treino)\n",
    "\n",
    "        y_verdadeiro = y_teste\n",
    "        y_previsao = modelo_dt.predict(X_teste)\n",
    "        RMSE = mean_squared_error(y_verdadeiro, y_previsao, squared=False)\n",
    "        RMSEl.update({RMSE: [n_folhas, n_profundidade]})\n",
    "\n",
    "    #vendo menor RMSE para identificar qual foi o melhor hiperparâmetro: \n",
    "    m = min(RMSEl.keys())\n",
    "    print(\n",
    "        f\"O menor RMSE usando o modelo AD foi de {m:.3f} ev, usando max_leaf_nodes={RMSEl[m][0]} \"\n",
    "        f\"e max_depth={RMSEl[m][1]}.\"\n",
    "    )\n",
    "    \n",
    "    \n",
    "    return RMSEl[m][0], RMSEl[m][1]"
   ]
  },
  {
   "cell_type": "code",
   "execution_count": 19,
   "id": "d84795b4-e749-441e-ab86-a2de85b15a91",
   "metadata": {},
   "outputs": [
    {
     "name": "stdout",
     "output_type": "stream",
     "text": [
      "O menor RMSE usando o modelo AD foi de 0.086 ev, usando max_leaf_nodes=50 e max_depth=None.\n"
     ]
    }
   ],
   "source": [
    "n_folhas_fe, n_profundidade_fe =  hiper_arvore(x_treino_fe, y_treino_fe, x_teste_fe, y_teste_fe)"
   ]
  },
  {
   "cell_type": "code",
   "execution_count": 20,
   "id": "381d0008-a5ac-4b4f-9829-bef4103d2daa",
   "metadata": {},
   "outputs": [
    {
     "name": "stdout",
     "output_type": "stream",
     "text": [
      "O menor RMSE usando o modelo AD foi de 0.035 ev, usando max_leaf_nodes=None e max_depth=None.\n"
     ]
    }
   ],
   "source": [
    "n_folhas_en, n_profundidade_en =  hiper_arvore(x_treino_en, y_treino_en, x_teste_en, y_teste_en)"
   ]
  },
  {
   "cell_type": "markdown",
   "id": "0c52fc2a-1dde-4b06-9acb-f501182c995d",
   "metadata": {},
   "source": [
    "## Definindo a árvore que usa os melhores hiperparâmetros identificados acima:"
   ]
  },
  {
   "cell_type": "code",
   "execution_count": null,
   "id": "674d9147-8efb-4d8b-9255-24c3b84ab1d3",
   "metadata": {},
   "outputs": [],
   "source": [
    "from sklearn import tree\n",
    "\n",
    "def arvore(x_treino, y_treino, x_teste, y_teste, target_name,n_folhas, n_profundidade):\n",
    "    \"Define e testa o modelo de árvore de decisão\"\n",
    "    \n",
    "    modelo_dt = DecisionTreeRegressor(random_state=SEMENTE_ALEATORIA, max_leaf_nodes=n_folhas,max_depth=n_profundidade,)\n",
    "\n",
    "    # treina o modelo\n",
    "    modelo_dt.fit(x_treino, y_treino)\n",
    "\n",
    "    # realiza uma previsão usando o modelo treinado\n",
    "    previsao = modelo_dt.predict(x_teste)\n",
    "    y_verdadeiro = y_teste\n",
    "    \n",
    "    y_previsao = modelo_dt.predict(x_teste)\n",
    "\n",
    "    RMSE = mean_squared_error(y_verdadeiro, y_previsao, squared=False)\n",
    "    \n",
    "    fig, ax2 = plt.subplots(1,1)\n",
    "    ax2.scatter(y_verdadeiro, y_previsao, c = 'orange')\n",
    "    ax2.plot(y_verdadeiro,y_verdadeiro,label=\"y=x\", c = 'r') ; ax2.legend(fontsize='small')\n",
    "\n",
    "    if target_name ==  'Energia de Fermi':\n",
    "        ax2.set_title('Previsão da arvore de decisão para Energia de Fermi')\n",
    "        F = FEATURES\n",
    "    if target_name == 'Energia por Átomo':\n",
    "        ax2.set_title('Previsão da árvore de decisão para Energia por Átomo')\n",
    "        F = features\n",
    "    ax2.set_xlabel('Verdadeiro (eV)')\n",
    "    ax2.set_ylabel('Previsão (eV)')\n",
    "    \n",
    "    # cria os objetos de figura e eixo\n",
    "    fig, axe = plt.subplots(\n",
    "        ncols=1,\n",
    "        nrows=1,\n",
    "        figsize=(7, 4),\n",
    "        dpi=150,\n",
    "    )\n",
    "\n",
    "    # plota o grafo da árvore de decisão\n",
    "    tree.plot_tree(\n",
    "        modelo_dt,\n",
    "        feature_names=F,\n",
    "        ax=axe,\n",
    "        impurity=False,\n",
    "        filled=True,\n",
    "        proportion=True,\n",
    "        precision=2,\n",
    "    \n",
    "    )\n",
    "    #print(y_verdadeiro,y_previsao) não deu certo\n",
    "    #confusion_matrix(list(y_verdadeiro), list(y_previsao))\n",
    "    \n",
    "    \n",
    "    # mostra o plot para o usuário\n",
    "    plt.show()\n",
    "\n",
    "\n",
    "    print(f\"O RMSE do modelo árvore de decisão foi de {RMSE} eV.\")"
   ]
  },
  {
   "cell_type": "code",
   "execution_count": null,
   "id": "f4187c9e-d941-491b-8d19-1f36b34df248",
   "metadata": {
    "tags": []
   },
   "outputs": [],
   "source": [
    "# Teste da árvore para energia de fermi\n",
    "arvore(x_treino_fe, y_treino_fe, x_teste_fe, y_teste_fe,'Energia de Fermi' ,n_folhas_fe, n_profundidade_fe)"
   ]
  },
  {
   "cell_type": "code",
   "execution_count": null,
   "id": "745032d4-05a9-43d1-aa2e-087249b6a754",
   "metadata": {
    "tags": []
   },
   "outputs": [],
   "source": [
    "# Teste da árvore para enregia por átomo\n",
    "arvore(x_treino_en, y_treino_en, x_teste_en, y_teste_en,'Energia por Átomo' ,n_folhas_en, n_profundidade_en)"
   ]
  },
  {
   "cell_type": "markdown",
   "id": "dd9bf371-086a-4cb1-b02a-89a50e0378b6",
   "metadata": {},
   "source": [
    "## Floresta Aleatória"
   ]
  },
  {
   "cell_type": "markdown",
   "id": "53600e85-4ef4-46af-b6c4-d87c013f156e",
   "metadata": {},
   "source": [
    "### definindo os melhores hiperparâmetros para a floresta aleatória"
   ]
  },
  {
   "cell_type": "code",
   "execution_count": 31,
   "id": "8e0d6e80-cfdf-467c-9495-c36c6bd15151",
   "metadata": {},
   "outputs": [],
   "source": [
    "from itertools import product\n",
    "from sklearn.ensemble import RandomForestRegressor\n",
    "\n",
    "\n",
    "def hiper_floresta(x_treino, y_treino, x_teste, y_teste, target_name):\n",
    "    \"Função que define modelo de floresta aleatória e testa qual hiperparâmetro será melhor\"\n",
    "    NUM_ARVORES = [100,200,300]\n",
    "    NUM_FOLHAS = [None,100,20]\n",
    "    NUM_PROFUNDIDADE = [None,5,10]\n",
    "    RMSEl = {}\n",
    "\n",
    "    #Variar o número dos hiperparâmetros\n",
    "    for n_folhas, n_profundidade, n_arvores in product(\n",
    "        NUM_FOLHAS, NUM_PROFUNDIDADE, NUM_ARVORES\n",
    "    ):\n",
    "        modelo_rf = RandomForestRegressor(\n",
    "            n_estimators=n_arvores,\n",
    "            max_leaf_nodes=n_folhas,\n",
    "            max_depth=n_profundidade,\n",
    "            random_state=SEMENTE_ALEATORIA,\n",
    "            n_jobs=4,\n",
    "        )\n",
    "\n",
    "        modelo_rf.fit(x_treino, y_treino.ravel()) \n",
    "\n",
    "        y_verdadeiro = (y_teste)\n",
    "        y_previsao = modelo_rf.predict(x_teste)\n",
    "        \n",
    "        #testa RMSE para cada caso, que identificará o melhor hiperparâmetro\n",
    "        RMSE = mean_squared_error(y_verdadeiro, y_previsao, squared=False) \n",
    "        RMSEl.update ({RMSE: [n_folhas, n_profundidade, n_arvores]})\n",
    "    \n",
    "    m = min(RMSEl.keys())\n",
    "\n",
    "    print(\n",
    "        f\"O menor RMSE achado do modelo RF usando para target_name \"\n",
    "        f\"n_estimators={RMSEl[m][2]} max_leaf_nodes={RMSEl[m][0]} \"\n",
    "        f\"e max_depth={RMSEl[m][1]} foi de {m} eV.\"\n",
    "    )\n",
    "    return RMSEl[m][0], RMSEl[m][1], RMSEl[m][2]"
   ]
  },
  {
   "cell_type": "code",
   "execution_count": 32,
   "id": "439cabcb-946f-4591-8d6f-982f3deab4d3",
   "metadata": {},
   "outputs": [
    {
     "name": "stdout",
     "output_type": "stream",
     "text": [
      "O menor RMSE achado do modelo RF usando para target_name n_estimators=300 max_leaf_nodes=None e max_depth=None foi de 0.08088742588577413 eV.\n"
     ]
    }
   ],
   "source": [
    "n_folhas_fe, n_profundidade_fe, n_arvores_fe = hiper_floresta(x_treino_fe, y_treino_fe, x_teste_fe, y_teste_fe, \"Energia de Fermi\")"
   ]
  },
  {
   "cell_type": "code",
   "execution_count": 33,
   "id": "3511e97d-ceea-4b03-af18-113f037e3c3f",
   "metadata": {},
   "outputs": [
    {
     "name": "stdout",
     "output_type": "stream",
     "text": [
      "O menor RMSE achado do modelo RF usando para target_name n_estimators=100 max_leaf_nodes=None e max_depth=None foi de 0.026130406662969147 eV.\n"
     ]
    }
   ],
   "source": [
    "n_folhas_en, n_profundidade_en, n_arvores_en = hiper_floresta(x_treino_en, y_treino_en, x_teste_en, y_teste_en, \"Energia por atomo\")"
   ]
  },
  {
   "cell_type": "markdown",
   "id": "dcaa1ee0-4a9e-4ec3-81ca-7ba4d7905e0e",
   "metadata": {},
   "source": [
    "## Fazendo a floresta aleatória com os parâmetros escolhidos pela função acima:"
   ]
  },
  {
   "cell_type": "code",
   "execution_count": 44,
   "id": "3671dd5a-1642-4a24-a52a-10ae33e355aa",
   "metadata": {},
   "outputs": [],
   "source": [
    "from sklearn.metrics import confusion_matrix\n",
    "\n",
    "def floresta(x_treino, y_treino, x_teste, y_teste, target_name, n_folhas, n_profundidade, n_arvores):\n",
    "    \"Teste e treino do modelo\"\n",
    "    # alterando o formato do target\n",
    "    #print(y_treino.shape, y_teste.shape)\n",
    "    y_treino = y_treino.ravel()\n",
    "    y_teste = y_teste.ravel()\n",
    "    #print(y_treino.shape, y_teste.shape)\n",
    "\n",
    "    # cria o modelo\n",
    "    modelo_rf = RandomForestRegressor(random_state=SEMENTE_ALEATORIA,n_estimators=n_arvores, max_leaf_nodes=n_folhas,max_depth=n_profundidade)\n",
    "\n",
    "    # treina o modelo\n",
    "    modelo_rf.fit(x_treino, y_treino)\n",
    "\n",
    "    # realiza uma previsão usando o modelo treinado\n",
    "    previsao = modelo_rf.predict(x_teste)\n",
    "\n",
    "    y_verdadeiro = y_teste\n",
    "    y_previsao = modelo_rf.predict(x_teste)\n",
    "\n",
    "    RMSE = mean_squared_error(y_verdadeiro, y_previsao, squared=False)\n",
    "    \n",
    "    #Criar gráficos\n",
    "    fig, ax2 = plt.subplots(1,1)\n",
    "    ax2.scatter(y_verdadeiro, y_previsao, c = 'orange')\n",
    "    ax2.plot(y_verdadeiro,y_verdadeiro,label=\"y=x\", c = 'r') ; ax2.legend(fontsize='small')\n",
    "\n",
    "    if target_name ==  'Energia de Fermi':\n",
    "        ax2.set_title('Previsão da floresta aleatória para Energia de Fermi')\n",
    "        F = FEATURES\n",
    "    if target_name == 'Energia por Átomo':\n",
    "        ax2.set_title('Previsão da floresta aleatória para Energia por Átomo')\n",
    "        F = features\n",
    "    ax2.set_xlabel('Verdadeiro (eV)')\n",
    "    ax2.set_ylabel('Previsão (eV)')\n",
    "    \n",
    "    importancia = modelo_rf.feature_importances_\n",
    "    desvio_padrao = np.std(\n",
    "        [arvore.feature_importances_ for arvore in modelo_rf.estimators_], axis=0\n",
    "    )\n",
    "\n",
    "    serie_importancia = pd.Series(importancia, index=F)\n",
    "\n",
    "    fig, axe = plt.subplots()\n",
    "    serie_importancia.plot.bar(yerr=desvio_padrao, ax=axe, color = 'g')\n",
    "    axe.set_ylabel(\"Redução média da impureza\")\n",
    "    plt.show()\n",
    "    \n",
    "    #print(y_verdadeiro,y_previsao) não deu certo\n",
    "    #confusion_matrix(list(y_verdadeiro), list(y_previsao))\n",
    "\n",
    "\n",
    "    print(f\"O RMSE do modelo floresta aleatória para {target_name} foi de {RMSE} eV.\")"
   ]
  },
  {
   "cell_type": "code",
   "execution_count": 45,
   "id": "db3e418b-1509-4fc8-a809-3088b5f61185",
   "metadata": {},
   "outputs": [
    {
     "data": {
      "image/png": "[encoded data removed]",
      "text/plain": [
       "<Figure size 432x288 with 1 Axes>"
      ]
     },
     "metadata": {
      "needs_background": "light"
     },
     "output_type": "display_data"
    },
    {
     "data": {
      "image/png": "[encoded data removed]",
      "text/plain": [
       "<Figure size 432x288 with 1 Axes>"
      ]
     },
     "metadata": {
      "needs_background": "light"
     },
     "output_type": "display_data"
    },
    {
     "name": "stdout",
     "output_type": "stream",
     "text": [
      "[-5.574  -4.6762 -5.3179 ... -4.5727 -4.8123 -5.1902] [-5.67546267 -4.692729   -5.38957533 ... -4.654658   -4.79847933\n",
      " -5.08031033]\n"
     ]
    },
    {
     "ename": "ValueError",
     "evalue": "continuous is not supported",
     "output_type": "error",
     "traceback": [
      "\u001b[1;31m---------------------------------------------------------------------------\u001b[0m",
      "\u001b[1;31mValueError\u001b[0m                                Traceback (most recent call last)",
      "\u001b[1;32mC:\\Users\\PAOLA2~1\\AppData\\Local\\Temp/ipykernel_4428/4009728847.py\u001b[0m in \u001b[0;36m<module>\u001b[1;34m\u001b[0m\n\u001b[0;32m      1\u001b[0m \u001b[1;31m#Teste do modelo para energia de fermi;\u001b[0m\u001b[1;33m\u001b[0m\u001b[1;33m\u001b[0m\u001b[0m\n\u001b[1;32m----> 2\u001b[1;33m \u001b[0mfloresta\u001b[0m\u001b[1;33m(\u001b[0m\u001b[0mx_treino_fe\u001b[0m\u001b[1;33m,\u001b[0m \u001b[0my_treino_fe\u001b[0m\u001b[1;33m,\u001b[0m \u001b[0mx_teste_fe\u001b[0m\u001b[1;33m,\u001b[0m \u001b[0my_teste_fe\u001b[0m\u001b[1;33m,\u001b[0m\u001b[1;34m'Energia de Fermi'\u001b[0m \u001b[1;33m,\u001b[0m\u001b[0mn_folhas_fe\u001b[0m\u001b[1;33m,\u001b[0m \u001b[0mn_profundidade_fe\u001b[0m\u001b[1;33m,\u001b[0m \u001b[0mn_arvores_fe\u001b[0m \u001b[1;33m)\u001b[0m\u001b[1;33m\u001b[0m\u001b[1;33m\u001b[0m\u001b[0m\n\u001b[0m",
      "\u001b[1;32mC:\\Users\\PAOLA2~1\\AppData\\Local\\Temp/ipykernel_4428/2439496685.py\u001b[0m in \u001b[0;36mfloresta\u001b[1;34m(x_treino, y_treino, x_teste, y_teste, target_name, n_folhas, n_profundidade, n_arvores)\u001b[0m\n\u001b[0;32m     50\u001b[0m \u001b[1;33m\u001b[0m\u001b[0m\n\u001b[0;32m     51\u001b[0m     \u001b[0mprint\u001b[0m\u001b[1;33m(\u001b[0m\u001b[0my_verdadeiro\u001b[0m\u001b[1;33m,\u001b[0m\u001b[0my_previsao\u001b[0m\u001b[1;33m)\u001b[0m\u001b[1;33m\u001b[0m\u001b[1;33m\u001b[0m\u001b[0m\n\u001b[1;32m---> 52\u001b[1;33m     \u001b[0mconfusion_matrix\u001b[0m\u001b[1;33m(\u001b[0m\u001b[0mlist\u001b[0m\u001b[1;33m(\u001b[0m\u001b[0my_verdadeiro\u001b[0m\u001b[1;33m)\u001b[0m\u001b[1;33m,\u001b[0m \u001b[0mlist\u001b[0m\u001b[1;33m(\u001b[0m\u001b[0my_previsao\u001b[0m\u001b[1;33m)\u001b[0m\u001b[1;33m)\u001b[0m\u001b[1;33m\u001b[0m\u001b[1;33m\u001b[0m\u001b[0m\n\u001b[0m\u001b[0;32m     53\u001b[0m \u001b[1;33m\u001b[0m\u001b[0m\n\u001b[0;32m     54\u001b[0m \u001b[1;33m\u001b[0m\u001b[0m\n",
      "\u001b[1;32mc:\\venv\\ilumpy\\lib\\site-packages\\sklearn\\utils\\validation.py\u001b[0m in \u001b[0;36minner_f\u001b[1;34m(*args, **kwargs)\u001b[0m\n\u001b[0;32m     61\u001b[0m             \u001b[0mextra_args\u001b[0m \u001b[1;33m=\u001b[0m \u001b[0mlen\u001b[0m\u001b[1;33m(\u001b[0m\u001b[0margs\u001b[0m\u001b[1;33m)\u001b[0m \u001b[1;33m-\u001b[0m \u001b[0mlen\u001b[0m\u001b[1;33m(\u001b[0m\u001b[0mall_args\u001b[0m\u001b[1;33m)\u001b[0m\u001b[1;33m\u001b[0m\u001b[1;33m\u001b[0m\u001b[0m\n\u001b[0;32m     62\u001b[0m             \u001b[1;32mif\u001b[0m \u001b[0mextra_args\u001b[0m \u001b[1;33m<=\u001b[0m \u001b[1;36m0\u001b[0m\u001b[1;33m:\u001b[0m\u001b[1;33m\u001b[0m\u001b[1;33m\u001b[0m\u001b[0m\n\u001b[1;32m---> 63\u001b[1;33m                 \u001b[1;32mreturn\u001b[0m \u001b[0mf\u001b[0m\u001b[1;33m(\u001b[0m\u001b[1;33m*\u001b[0m\u001b[0margs\u001b[0m\u001b[1;33m,\u001b[0m \u001b[1;33m**\u001b[0m\u001b[0mkwargs\u001b[0m\u001b[1;33m)\u001b[0m\u001b[1;33m\u001b[0m\u001b[1;33m\u001b[0m\u001b[0m\n\u001b[0m\u001b[0;32m     64\u001b[0m \u001b[1;33m\u001b[0m\u001b[0m\n\u001b[0;32m     65\u001b[0m             \u001b[1;31m# extra_args > 0\u001b[0m\u001b[1;33m\u001b[0m\u001b[1;33m\u001b[0m\u001b[0m\n",
      "\u001b[1;32mc:\\venv\\ilumpy\\lib\\site-packages\\sklearn\\metrics\\_classification.py\u001b[0m in \u001b[0;36mconfusion_matrix\u001b[1;34m(y_true, y_pred, labels, sample_weight, normalize)\u001b[0m\n\u001b[0;32m    297\u001b[0m \u001b[1;33m\u001b[0m\u001b[0m\n\u001b[0;32m    298\u001b[0m     \"\"\"\n\u001b[1;32m--> 299\u001b[1;33m     \u001b[0my_type\u001b[0m\u001b[1;33m,\u001b[0m \u001b[0my_true\u001b[0m\u001b[1;33m,\u001b[0m \u001b[0my_pred\u001b[0m \u001b[1;33m=\u001b[0m \u001b[0m_check_targets\u001b[0m\u001b[1;33m(\u001b[0m\u001b[0my_true\u001b[0m\u001b[1;33m,\u001b[0m \u001b[0my_pred\u001b[0m\u001b[1;33m)\u001b[0m\u001b[1;33m\u001b[0m\u001b[1;33m\u001b[0m\u001b[0m\n\u001b[0m\u001b[0;32m    300\u001b[0m     \u001b[1;32mif\u001b[0m \u001b[0my_type\u001b[0m \u001b[1;32mnot\u001b[0m \u001b[1;32min\u001b[0m \u001b[1;33m(\u001b[0m\u001b[1;34m\"binary\"\u001b[0m\u001b[1;33m,\u001b[0m \u001b[1;34m\"multiclass\"\u001b[0m\u001b[1;33m)\u001b[0m\u001b[1;33m:\u001b[0m\u001b[1;33m\u001b[0m\u001b[1;33m\u001b[0m\u001b[0m\n\u001b[0;32m    301\u001b[0m         \u001b[1;32mraise\u001b[0m \u001b[0mValueError\u001b[0m\u001b[1;33m(\u001b[0m\u001b[1;34m\"%s is not supported\"\u001b[0m \u001b[1;33m%\u001b[0m \u001b[0my_type\u001b[0m\u001b[1;33m)\u001b[0m\u001b[1;33m\u001b[0m\u001b[1;33m\u001b[0m\u001b[0m\n",
      "\u001b[1;32mc:\\venv\\ilumpy\\lib\\site-packages\\sklearn\\metrics\\_classification.py\u001b[0m in \u001b[0;36m_check_targets\u001b[1;34m(y_true, y_pred)\u001b[0m\n\u001b[0;32m     98\u001b[0m     \u001b[1;31m# No metrics support \"multiclass-multioutput\" format\u001b[0m\u001b[1;33m\u001b[0m\u001b[1;33m\u001b[0m\u001b[0m\n\u001b[0;32m     99\u001b[0m     \u001b[1;32mif\u001b[0m \u001b[1;33m(\u001b[0m\u001b[0my_type\u001b[0m \u001b[1;32mnot\u001b[0m \u001b[1;32min\u001b[0m \u001b[1;33m[\u001b[0m\u001b[1;34m\"binary\"\u001b[0m\u001b[1;33m,\u001b[0m \u001b[1;34m\"multiclass\"\u001b[0m\u001b[1;33m,\u001b[0m \u001b[1;34m\"multilabel-indicator\"\u001b[0m\u001b[1;33m]\u001b[0m\u001b[1;33m)\u001b[0m\u001b[1;33m:\u001b[0m\u001b[1;33m\u001b[0m\u001b[1;33m\u001b[0m\u001b[0m\n\u001b[1;32m--> 100\u001b[1;33m         \u001b[1;32mraise\u001b[0m \u001b[0mValueError\u001b[0m\u001b[1;33m(\u001b[0m\u001b[1;34m\"{0} is not supported\"\u001b[0m\u001b[1;33m.\u001b[0m\u001b[0mformat\u001b[0m\u001b[1;33m(\u001b[0m\u001b[0my_type\u001b[0m\u001b[1;33m)\u001b[0m\u001b[1;33m)\u001b[0m\u001b[1;33m\u001b[0m\u001b[1;33m\u001b[0m\u001b[0m\n\u001b[0m\u001b[0;32m    101\u001b[0m \u001b[1;33m\u001b[0m\u001b[0m\n\u001b[0;32m    102\u001b[0m     \u001b[1;32mif\u001b[0m \u001b[0my_type\u001b[0m \u001b[1;32min\u001b[0m \u001b[1;33m[\u001b[0m\u001b[1;34m\"binary\"\u001b[0m\u001b[1;33m,\u001b[0m \u001b[1;34m\"multiclass\"\u001b[0m\u001b[1;33m]\u001b[0m\u001b[1;33m:\u001b[0m\u001b[1;33m\u001b[0m\u001b[1;33m\u001b[0m\u001b[0m\n",
      "\u001b[1;31mValueError\u001b[0m: continuous is not supported"
     ]
    }
   ],
   "source": [
    "#Teste do modelo para energia de fermi;\n",
    "floresta(x_treino_fe, y_treino_fe, x_teste_fe, y_teste_fe,'Energia de Fermi' ,n_folhas_fe, n_profundidade_fe, n_arvores_fe )"
   ]
  },
  {
   "cell_type": "code",
   "execution_count": null,
   "id": "80c6a29a-fbed-4219-9e9a-0a458051ed80",
   "metadata": {},
   "outputs": [],
   "source": [
    "#Teste do modelo para energia por átomo:\n",
    "floresta(x_treino_en, y_treino_en, x_teste_en, y_teste_en,'Energia por Átomo',n_folhas_en, n_profundidade_en, n_arvores_en)"
   ]
  },
  {
   "cell_type": "markdown",
   "id": "cfccfd8e-b4cf-4751-ba94-c18c5e3e210a",
   "metadata": {},
   "source": [
    "# Classificação de Corrugação"
   ]
  },
  {
   "cell_type": "code",
   "execution_count": 51,
   "id": "d459ebd3-2d63-4f7b-92c2-f91a09dcc304",
   "metadata": {},
   "outputs": [],
   "source": [
    "#criando dataframe com todos os atributos\n",
    "bruto = pd.read_csv('Neutral_Graphene_Oxide_Nanoflake_Dataset.zip')\n",
    "\n",
    "# Excluir as colunas que tem NaN\n",
    "bruto_completo = bruto.dropna(axis = 1, how ='any')\n",
    "\n",
    "del bruto_completo['file_name']\n",
    "del bruto_completo['charge_state']\n",
    "del bruto_completo['ionization_potential']\n",
    "del bruto_completo['electron_affinity']\n",
    "\n",
    "E = []\n",
    "i = 0\n",
    "while i < len(bruto_completo['C']):\n",
    "    E.append(bruto_completo['total_energy'][i]/bruto_completo['atom_number_total'][i])\n",
    "    i = i+1\n",
    "df = bruto_completo.assign(energy_per_atom = E)\n",
    "\n",
    "del df['Shape']\n",
    "del df['max_oop']\n",
    "del df['mae_oop']\n",
    "del df['rmse_oop']\n",
    "del df['residual_oop']"
   ]
  },
  {
   "cell_type": "code",
   "execution_count": 52,
   "id": "9b185d66-8d2b-4338-9c41-ff6e775f2631",
   "metadata": {},
   "outputs": [],
   "source": [
    "#função para fazer histograma\n",
    "def histograma(x, density=False, c = 'r', bins = 'sqrt', save = False, legendas = ['x', 'Frequência']):\n",
    "    '''\n",
    "    Plota um histograma a partir de uma lista de dados.\n",
    "    Argumentos obrigatórios:\n",
    "    - x: Lista dos valores da medição/dados\n",
    "    \n",
    "    Argumentos opcionais:\n",
    "    - Density: bool que, se for True, faz com que o histograma mostre densidade de probabilidade (default: density=False)\n",
    "    - c: string para a cor das barras do histograma (default: c = 'r')\n",
    "    - bins: método de determinação do tamanho de intervalos do histograma (default: bins = 'sqrt')\n",
    "    - save: string com o nome do arquivo png para salvar o grafico. Se save = False, então não irá salvar. (default: save = False)\n",
    "    - legendas: lista das strings de legenda dos eixos (default: legendas = ['x', 'Frequência'])\n",
    "    \n",
    "    '''\n",
    "    config = {'axes.spines.right': False,\n",
    "    'axes.spines.top': False,\n",
    "    'axes.edgecolor': '.4',\n",
    "    'axes.labelcolor': '.0',\n",
    "    'axes.titlesize': 'large',\n",
    "    'axes.labelsize': 'medium',\n",
    "    'figure.autolayout': True,\n",
    "    'figure.figsize': (4.5, 3.5),\n",
    "    'font.family': ['serif'],\n",
    "    'font.size': 10.0,\n",
    "    'grid.linestyle': '--',\n",
    "    'legend.facecolor': '.9',\n",
    "    'legend.frameon': True,\n",
    "    'savefig.transparent': True,\n",
    "    'text.color': '.0',\n",
    "    'xtick.labelsize': 'small',\n",
    "    'ytick.labelsize': 'small',}\n",
    "\n",
    "    plt.style.use(['seaborn-whitegrid', 'seaborn-paper', 'seaborn-muted', config])\n",
    "    fig,axh = plt.subplots(1,1)\n",
    "    H = plt.hist(x,bins = bins, color = c,density = density)\n",
    "    axh.set_ylabel(legendas[1],fontsize=12)\n",
    "    axh.set_xlabel(legendas[0],fontsize=12)\n",
    "    if save != False:\n",
    "        plt.savefig(save, dpi=200)"
   ]
  },
  {
   "cell_type": "code",
   "execution_count": 53,
   "id": "5b59d28c-09af-450a-8223-89bd060b3e95",
   "metadata": {},
   "outputs": [
    {
     "data": {
      "image/png": "[encoded data removed]",
      "text/plain": [
       "<Figure size 324x252 with 1 Axes>"
      ]
     },
     "metadata": {},
     "output_type": "display_data"
    }
   ],
   "source": [
    "histograma(df['std_oop'], legendas = ['corrugação', 'frequência'])"
   ]
  },
  {
   "cell_type": "code",
   "execution_count": 54,
   "id": "1ab3fdef-9b83-49cd-9123-fc1bea8ae32d",
   "metadata": {},
   "outputs": [
    {
     "name": "stdout",
     "output_type": "stream",
     "text": [
      "6760 baixa\n",
      "7957 media\n",
      "5679 alta\n"
     ]
    }
   ],
   "source": [
    "logic = df[\"std_oop\"] <= 0.8\n",
    "print(len(df.loc[logic]),'baixa')\n",
    "logic = (df[\"std_oop\"] > 0.8) & (df[\"std_oop\"] <= 1.2)\n",
    "print(len(df.loc[logic]),'media')\n",
    "logic = (df[\"std_oop\"] > 1.2)\n",
    "print(len(df.loc[logic]),'alta')"
   ]
  },
  {
   "cell_type": "code",
   "execution_count": 55,
   "id": "7ad32d2e-38bc-4cea-b9ab-ca9601438592",
   "metadata": {
    "collapsed": true,
    "jupyter": {
     "outputs_hidden": true
    },
    "tags": []
   },
   "outputs": [
    {
     "name": "stdout",
     "output_type": "stream",
     "text": [
      "         C    H    O  atom_number_total  C_concentration  H_concentration  \\\n",
      "0      232   72   40                344         0.674419         0.209302   \n",
      "1      232   71   39                342         0.678363         0.207602   \n",
      "2      232   72   40                344         0.674419         0.209302   \n",
      "3      232   72   40                344         0.674419         0.209302   \n",
      "4      232   72   40                344         0.674419         0.209302   \n",
      "...    ...  ...  ...                ...              ...              ...   \n",
      "20391  576  166  300               1042         0.552783         0.159309   \n",
      "20392  576  166  300               1042         0.552783         0.159309   \n",
      "20393  576  166  300               1042         0.552783         0.159309   \n",
      "20394  576  164  298               1038         0.554913         0.157996   \n",
      "20395  576  166  300               1042         0.552783         0.159309   \n",
      "\n",
      "       O_concentration  avg_diameter  max_diameter  min_diameter  ...  \\\n",
      "0             0.116279      2.560777      3.247976      1.846442  ...   \n",
      "1             0.114035      2.560777      3.247976      1.846442  ...   \n",
      "2             0.116279      2.560777      3.247976      1.846442  ...   \n",
      "3             0.116279      2.560777      3.247976      1.846442  ...   \n",
      "4             0.116279      2.560777      3.247976      1.846442  ...   \n",
      "...                ...           ...           ...           ...  ...   \n",
      "20391         0.287908      4.179231      5.639054      3.010109  ...   \n",
      "20392         0.287908      4.179231      5.639054      3.010109  ...   \n",
      "20393         0.287908      4.179231      5.639054      3.010109  ...   \n",
      "20394         0.287091      4.179231      5.639054      3.010109  ...   \n",
      "20395         0.287908      4.179231      5.639054      3.010109  ...   \n",
      "\n",
      "       prox_norm_Ixx_bar_hydro_area  prox_norm_Iyy_bar_hydro_area  \\\n",
      "0                          0.000269                      0.000157   \n",
      "1                          0.000195                      0.000237   \n",
      "2                          0.000230                      0.000264   \n",
      "3                          0.000258                      0.000217   \n",
      "4                          0.000196                      0.000219   \n",
      "...                             ...                           ...   \n",
      "20391                      0.000213                      0.000201   \n",
      "20392                      0.000223                      0.000208   \n",
      "20393                      0.000222                      0.000206   \n",
      "20394                      0.000221                      0.000204   \n",
      "20395                      0.000219                      0.000205   \n",
      "\n",
      "       prox_norm_Izz_bar_hydro_area  prox_norm_Ixy_hydro_area  \\\n",
      "0                          0.000201                 -0.163181   \n",
      "1                          0.000221                  0.738653   \n",
      "2                          0.000250                 -0.862771   \n",
      "3                          0.000232                 -0.402486   \n",
      "4                          0.000210                 -0.229840   \n",
      "...                             ...                       ...   \n",
      "20391                      0.000207                 -0.270044   \n",
      "20392                      0.000216                  0.520328   \n",
      "20393                      0.000214                 -0.551143   \n",
      "20394                      0.000212                  0.108162   \n",
      "20395                      0.000212                  0.750072   \n",
      "\n",
      "       prox_norm_Iyz_hydro_area  prox_norm_Ixz_hydro_area  total_energy  \\\n",
      "0                     -0.007053                  0.053927   -15255.7364   \n",
      "1                      0.042467                  0.049864   -15150.9467   \n",
      "2                      0.065263                  0.005521   -15249.6253   \n",
      "3                      0.009995                 -0.016657   -15251.4089   \n",
      "4                      0.001422                 -0.075733   -15242.3217   \n",
      "...                         ...                       ...           ...   \n",
      "20391                 -0.054167                 -0.591800   -55634.4016   \n",
      "20392                  0.035008                  0.450677   -55643.6534   \n",
      "20393                 -0.037248                  0.097826   -55650.0682   \n",
      "20394                  0.364831                  0.493365   -55439.2723   \n",
      "20395                  0.130308                  0.205827   -55646.4588   \n",
      "\n",
      "       Fermi_energy  energy_per_atom  oop_categorico  \n",
      "0           -4.6472       -44.348071           media  \n",
      "1           -4.6371       -44.301014           baixa  \n",
      "2           -4.6591       -44.330306           media  \n",
      "3           -4.7337       -44.335491           baixa  \n",
      "4           -4.5991       -44.309075           baixa  \n",
      "...             ...              ...             ...  \n",
      "20391       -5.8973       -53.391940            alta  \n",
      "20392       -5.5005       -53.400819            alta  \n",
      "20393       -5.6595       -53.406975            alta  \n",
      "20394       -5.6054       -53.409704            alta  \n",
      "20395       -5.8262       -53.403511            alta  \n",
      "\n",
      "[20396 rows x 649 columns]\n"
     ]
    }
   ],
   "source": [
    "df['oop_categorico'] = None\n",
    "\n",
    "logic = df[\"std_oop\"] <= 0.8\n",
    "df.loc[logic, 'oop_categorico'] = 'baixa'\n",
    "logic = (df[\"std_oop\"] > 0.8) & (df[\"std_oop\"] <= 1.2)\n",
    "df.loc[logic, 'oop_categorico'] = 'media'\n",
    "logic = (df[\"std_oop\"] > 1.2)\n",
    "df.loc[logic, 'oop_categorico'] = 'alta'\n",
    "print(df)"
   ]
  },
  {
   "cell_type": "code",
   "execution_count": 67,
   "id": "49a644a0-2c26-4208-9d87-bbad6d4ae164",
   "metadata": {},
   "outputs": [],
   "source": [
    "del df['std_oop']"
   ]
  },
  {
   "cell_type": "markdown",
   "id": "6d39eaf8-4a0e-47ff-ab9e-455661544910",
   "metadata": {},
   "source": [
    "## Classificação com k-NN"
   ]
  },
  {
   "cell_type": "code",
   "execution_count": 70,
   "id": "43906c3a-1dee-4489-8fad-72ff0afa0be6",
   "metadata": {},
   "outputs": [],
   "source": [
    "#separando teste e treino\n",
    "import seaborn as sns\n",
    "from sklearn.model_selection import train_test_split\n",
    "\n",
    "TAMANHO_TESTE = 0.1\n",
    "SEMENTE_ALEATORIA = 61455\n",
    "FEATURES = df.columns.drop('oop_categorico')\n",
    "\n",
    "TARGET = [\"oop_categorico\"]\n",
    "\n",
    "indices = df.index\n",
    "indices_treino, indices_teste = train_test_split(\n",
    "    indices, test_size=TAMANHO_TESTE, random_state=SEMENTE_ALEATORIA\n",
    ")\n",
    "\n",
    "df_treino = df.loc[indices_treino]\n",
    "df_teste = df.loc[indices_teste]\n",
    "\n",
    "# observe que usamos o .values aqui pois queremos apenas os valores\n",
    "X_treino = df_treino.reindex(FEATURES, axis=1).values\n",
    "y_treino = df_treino.reindex(TARGET, axis=1).values.ravel()\n",
    "X_teste = df_teste.reindex(FEATURES, axis=1).values\n",
    "y_teste = df_teste.reindex(TARGET, axis=1).values.ravel()"
   ]
  },
  {
   "cell_type": "code",
   "execution_count": 71,
   "id": "1ca00fe4-d0cb-4314-9256-b9829e19421b",
   "metadata": {},
   "outputs": [
    {
     "name": "stdout",
     "output_type": "stream",
     "text": [
      "['baixa' 'media' 'media' ... 'baixa' 'baixa' 'baixa']\n"
     ]
    }
   ],
   "source": [
    "#treinando o modelo classificador\n",
    "from sklearn.neighbors import KNeighborsClassifier\n",
    "\n",
    "# cria o modelo\n",
    "modelo_knn = KNeighborsClassifier()\n",
    "\n",
    "# treina o modelo\n",
    "modelo_knn.fit(X_treino, y_treino)\n",
    "\n",
    "# realiza uma previsão usando o modelo treinado\n",
    "previsao = modelo_knn.predict(X_teste)\n",
    "print(previsao)"
   ]
  },
  {
   "cell_type": "code",
   "execution_count": 72,
   "id": "f046c24e-5f18-460f-9b7b-b96e9eec1d7f",
   "metadata": {},
   "outputs": [
    {
     "name": "stdout",
     "output_type": "stream",
     "text": [
      "Accuracy: 0.5553921568627451\n"
     ]
    }
   ],
   "source": [
    "#calculando a acurácia da predição\n",
    "from sklearn import metrics\n",
    "\n",
    "print(\"Accuracy:\",metrics.accuracy_score(y_teste, previsao))"
   ]
  },
  {
   "cell_type": "markdown",
   "id": "5db32f02-431b-4830-92e2-abf6619dacbf",
   "metadata": {},
   "source": [
    "## Classificação com Árvore de Decisão"
   ]
  },
  {
   "cell_type": "code",
   "execution_count": 73,
   "id": "dca2e6f9-d5e0-4d9b-a466-f1d550f0ee72",
   "metadata": {},
   "outputs": [
    {
     "name": "stdout",
     "output_type": "stream",
     "text": [
      "['baixa' 'media' 'media' ... 'baixa' 'baixa' 'alta']\n",
      "['baixa' 'media' 'media' ... 'baixa' 'baixa' 'media']\n"
     ]
    }
   ],
   "source": [
    "from sklearn.tree import DecisionTreeClassifier\n",
    "\n",
    "# cria o modelo\n",
    "modelo_dt = DecisionTreeClassifier(random_state=SEMENTE_ALEATORIA)\n",
    "\n",
    "# treina o modelo\n",
    "modelo_dt.fit(X_treino, y_treino)\n",
    "\n",
    "# realiza uma previsão usando o modelo treinado\n",
    "previsao = modelo_dt.predict(X_teste)\n",
    "print(y_teste)\n",
    "print(previsao)\n",
    "\n"
   ]
  },
  {
   "cell_type": "code",
   "execution_count": 74,
   "id": "1288b4c9-afc7-4e7f-ae9e-b2b324fb4654",
   "metadata": {},
   "outputs": [
    {
     "name": "stdout",
     "output_type": "stream",
     "text": [
      "Accuracy: 0.5588235294117647\n"
     ]
    }
   ],
   "source": [
    "#calculando a acurácia da predição\n",
    "print(\"Accuracy:\",metrics.accuracy_score(y_teste, previsao))"
   ]
  },
  {
   "cell_type": "markdown",
   "id": "7a04f5f2-802f-4c4e-9cb7-5fd236a677e2",
   "metadata": {},
   "source": [
    "## Classificação com floresta aleatória"
   ]
  },
  {
   "cell_type": "code",
   "execution_count": 75,
   "id": "7fc08cfe-b5f5-40ce-846d-7284043cb04a",
   "metadata": {},
   "outputs": [
    {
     "name": "stdout",
     "output_type": "stream",
     "text": [
      "['baixa' 'media' 'baixa' ... 'baixa' 'baixa' 'media']\n"
     ]
    }
   ],
   "source": [
    "from sklearn.ensemble import RandomForestClassifier\n",
    "\n",
    "# cria o modelo\n",
    "modelo_rf = RandomForestClassifier(random_state=SEMENTE_ALEATORIA)\n",
    "\n",
    "# treina o modelo\n",
    "modelo_rf.fit(X_treino, y_treino)\n",
    "\n",
    "# realiza uma previsão usando o modelo treinado\n",
    "previsao = modelo_rf.predict(X_teste)\n",
    "\n",
    "importancia = modelo_rf.feature_importances_\n",
    "desvio_padrao = np.std(\n",
    "    [arvore.feature_importances_ for arvore in modelo_rf.estimators_], axis=0\n",
    ")\n",
    "\n",
    "serie_importancia = pd.Series(importancia, index=FEATURES)\n",
    "\n",
    "print(previsao)"
   ]
  },
  {
   "cell_type": "code",
   "execution_count": 76,
   "id": "789aad17-0a4f-4ca6-8dd3-2673828e232f",
   "metadata": {},
   "outputs": [
    {
     "name": "stdout",
     "output_type": "stream",
     "text": [
      "Accuracy: 0.6651960784313725\n"
     ]
    }
   ],
   "source": [
    "print(\"Accuracy:\",metrics.accuracy_score(y_teste, previsao))"
   ]
  },
  {
   "cell_type": "code",
   "execution_count": 77,
   "id": "61124cc2-8273-43ee-b464-4116f4c9e3f3",
   "metadata": {},
   "outputs": [
    {
     "data": {
      "image/png": "[encoded data removed]",
      "text/plain": [
       "<Figure size 324x252 with 1 Axes>"
      ]
     },
     "metadata": {},
     "output_type": "display_data"
    }
   ],
   "source": [
    "C = serie_importancia.sort_values(ascending = False)\n",
    "\n",
    "fig, axe = plt.subplots()\n",
    "C[0:12].plot.bar(ax=axe, color = 'g')\n",
    "axe.set_ylabel(\"Redução média da impureza\")\n",
    "axe.set_title(f\"Atributos com maior importância\")\n",
    "plt.show()"
   ]
  },
  {
   "cell_type": "code",
   "execution_count": null,
   "id": "64df7c7b-552c-4443-9e20-999055266e13",
   "metadata": {},
   "outputs": [],
   "source": []
  },
  {
   "cell_type": "code",
   "execution_count": null,
   "id": "d159e908-9483-49a4-bebd-d8bb65b4c5b1",
   "metadata": {},
   "outputs": [],
   "source": [
    "import matplotlib.pyplot as plt\n",
    "conf = sklearn.metrics.confusion_matrix(y_true, y_pred)\n",
    "plt.imshow(conf, cmap='binary', interpolation='None')\n",
    "plt.show()"
   ]
  }
 ],
 "metadata": {
  "kernelspec": {
   "display_name": "ilumpy",
   "language": "python",
   "name": "ilumpy"
  },
  "language_info": {
   "codemirror_mode": {
    "name": "ipython",
    "version": 3
   },
   "file_extension": ".py",
   "mimetype": "text/x-python",
   "name": "python",
   "nbconvert_exporter": "python",
   "pygments_lexer": "ipython3",
   "version": "3.9.7"
  }
 },
 "nbformat": 4,
 "nbformat_minor": 5
}
