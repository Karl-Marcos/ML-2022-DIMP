{
 "cells": [
  {
   "cell_type": "code",
   "execution_count": 12,
   "id": "a485757f-78ab-4c7b-b0f5-0a0f42f98fc1",
   "metadata": {},
   "outputs": [],
   "source": [
    "import pandas as pd"
   ]
  },
  {
   "cell_type": "code",
   "execution_count": 13,
   "id": "3b7a8660-33fd-4fae-96be-6d6fa2e226f2",
   "metadata": {},
   "outputs": [],
   "source": [
    "#caminhos para fazer os DataFrames\n",
    "df_fermi = pd.read_csv (\"CSVs\\Dados_Fermi.csv\")\n",
    "df_energia = pd.read_csv(\"CSVs\\Dados_energia.csv\")"
   ]
  },
  {
   "cell_type": "markdown",
   "id": "ace9910a-8d99-4e6c-b76b-d95c39d08edd",
   "metadata": {},
   "source": [
    "## Métricas:"
   ]
  },
  {
   "cell_type": "code",
   "execution_count": 84,
   "id": "28285a7a-ba8a-4344-8aad-c2d98b3072eb",
   "metadata": {},
   "outputs": [],
   "source": [
    "# RMSE\n",
    "from sklearn.metrics import mean_squared_error\n",
    "def RMSE(x_teste, y_teste, modelo):\n",
    "    y_verdadeiro = y_teste\n",
    "    y_previsao = modelo.predict(x_teste)\n",
    "\n",
    "    RMSE = mean_squared_error(y_verdadeiro, y_previsao, squared=False)\n",
    "    \n",
    "\n",
    "    return print(f\"O RMSE do modelo baseline foi de {RMSE}, porcentagem em relação a média: {abs((RMSE/y_teste.mean()) * 100)}.\")"
   ]
  },
  {
   "cell_type": "markdown",
   "id": "55032754-030d-461b-837c-9c9d8b25b2c2",
   "metadata": {},
   "source": [
    "## Para a energia de fermi"
   ]
  },
  {
   "cell_type": "code",
   "execution_count": 60,
   "id": "37b9e61b-7287-486b-8f2b-4b8bcb4b7d98",
   "metadata": {},
   "outputs": [],
   "source": [
    "from sklearn.model_selection import train_test_split\n",
    "\n",
    "#escolhe o tamanho do nosso teste\n",
    "TAMANHO_TESTE = 0.1\n",
    "# fixa quais dados que vão ser selecionados para teste e treino\n",
    "SEMENTE_ALEATORIA = 24569\n",
    "DATASET_NAME = \"df_fermi\"\n",
    "# faz uma lista de features que queremos usar, no caso são todas\n",
    "FEATURES = list(df_fermi.keys())\n",
    "# tira o nosso target entre as features\n",
    "FEATURES.remove(\"Fermi_energy\")\n",
    "FEATURES.remove(\"Unnamed: 0\")\n",
    "#o que queremos achar\n",
    "TARGET = [\"Fermi_energy\"]\n",
    "\n",
    "\n",
    "indices = df_fermi.index\n",
    "indices_treino, indices_teste = train_test_split(\n",
    "    indices, test_size=TAMANHO_TESTE, random_state=SEMENTE_ALEATORIA\n",
    ")\n",
    "\n",
    "df_treino_fe = df_fermi.loc[indices_treino]\n",
    "df_teste_fe = df_fermi.loc[indices_teste]\n",
    "\n",
    "# observe que usamos o .values aqui pois queremos apenas os valores\n",
    "x_treino_fe = df_treino_fe.reindex(FEATURES, axis=1).values\n",
    "y_treino_fe = df_treino_fe.reindex(TARGET, axis=1).values\n",
    "x_teste_fe = df_teste_fe.reindex(FEATURES, axis=1).values\n",
    "y_teste_fe = df_teste_fe.reindex(TARGET, axis=1).values\n"
   ]
  },
  {
   "cell_type": "markdown",
   "id": "6a598ef5-f718-463d-b3fd-d0afcb18618a",
   "metadata": {},
   "source": [
    "### Baseline média"
   ]
  },
  {
   "cell_type": "code",
   "execution_count": 82,
   "id": "11c1dd08-ca1c-48ac-8969-c06831cce27a",
   "metadata": {},
   "outputs": [
    {
     "name": "stdout",
     "output_type": "stream",
     "text": [
      "[-4.95704166 -4.95704166 -4.95704166 ... -4.95704166 -4.95704166\n",
      " -4.95704166]\n"
     ]
    }
   ],
   "source": [
    "from sklearn.dummy import DummyRegressor\n",
    "\n",
    "# cria o modelo\n",
    "modelo_baseline_fe = DummyRegressor()\n",
    "\n",
    "# treina o modelo\n",
    "modelo_baseline_fe.fit(x_treino_fe, y_treino_fe)\n",
    "\n",
    "# realiza uma previsão usando o modelo treinado\n",
    "previsao_fe = modelo_baseline_fe.predict(x_teste_fe)\n",
    "\n",
    "print(previsao)"
   ]
  },
  {
   "cell_type": "code",
   "execution_count": 85,
   "id": "9d181e5e-87b6-4dfc-ad41-752a7e48943e",
   "metadata": {},
   "outputs": [
    {
     "name": "stdout",
     "output_type": "stream",
     "text": [
      "O RMSE do modelo baseline foi de 0.30151342169015477, porcentagem em relação a média: 6.078721445684178.\n"
     ]
    }
   ],
   "source": [
    "# testando a qualidade do nosso modelo:\n",
    "RMSE(x_teste_fe, y_teste_fe, modelo_baseline_fe )"
   ]
  },
  {
   "cell_type": "markdown",
   "id": "7b6bbb10-c007-49ef-991d-a553a41d2894",
   "metadata": {},
   "source": [
    "## Agora para energia por átomo"
   ]
  },
  {
   "cell_type": "code",
   "execution_count": 49,
   "id": "60186e02-95db-4a1b-b7e7-66bb5b302fa4",
   "metadata": {},
   "outputs": [],
   "source": [
    "#escolhe o tamanho do nosso teste\n",
    "tamanho_teste = 0.1\n",
    "# fixa quais dados que vão ser selecionados para teste e treino\n",
    "semente_aleatoria = 24569\n",
    "# faz uma lista de features que queremos usar, no caso são todas\n",
    "features = list(df_energia.keys())\n",
    "# tira o nosso target entre as features\n",
    "features.remove(\"energy_per_atom\")\n",
    "features.remove(\"Unnamed: 0\")\n",
    "#o que queremos achar\n",
    "target = [\"energy_per_atom\"]\n",
    "\n",
    "\n",
    "indices = df_energia.index\n",
    "indices_treino, indices_teste = train_test_split(\n",
    "    indices, test_size=tamanho_teste, random_state= semente_aleatoria\n",
    ")\n",
    "\n",
    "df_treino_en = df_energia.loc[indices_treino]\n",
    "df_teste_en = df_energia.loc[indices_teste]\n",
    "\n",
    "# observe que usamos o .values aqui pois queremos apenas os valores\n",
    "x_treino_en = df_treino_en.reindex(features, axis=1).values\n",
    "y_treino_en = df_treino_en.reindex(target, axis=1).values\n",
    "x_teste_en = df_teste_en.reindex(features, axis=1).values\n",
    "y_teste_en = df_teste_en.reindex(target, axis=1).values"
   ]
  },
  {
   "cell_type": "markdown",
   "id": "0db9667d-b9d7-469d-a0d1-3cca50d8eb1c",
   "metadata": {},
   "source": [
    "### Baseline média"
   ]
  },
  {
   "cell_type": "code",
   "execution_count": null,
   "id": "dacd8fe5-27c4-49e1-9927-9ea0d313a095",
   "metadata": {},
   "outputs": [],
   "source": [
    "# cria o modelo\n",
    "modelo_baseline_en = DummyRegressor()\n",
    "\n",
    "# treina o modelo\n",
    "modelo_baseline_en.fit(x_treino_en, y_treino_en)\n",
    "\n",
    "# realiza uma previsão usando o modelo treinado\n",
    "previsao_en = modelo_baseline_en.predict(x_teste_en)\n",
    "\n",
    "print(previsao)"
   ]
  }
 ],
 "metadata": {
  "kernelspec": {
   "display_name": "ilumpy",
   "language": "python",
   "name": "ilumpy"
  },
  "language_info": {
   "codemirror_mode": {
    "name": "ipython",
    "version": 3
   },
   "file_extension": ".py",
   "mimetype": "text/x-python",
   "name": "python",
   "nbconvert_exporter": "python",
   "pygments_lexer": "ipython3",
   "version": "3.9.7"
  }
 },
 "nbformat": 4,
 "nbformat_minor": 5
}
