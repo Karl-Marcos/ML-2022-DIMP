{
 "cells": [
  {
   "cell_type": "code",
   "execution_count": 16,
   "id": "a485757f-78ab-4c7b-b0f5-0a0f42f98fc1",
   "metadata": {},
   "outputs": [],
   "source": [
    "import pandas as pd\n",
    "import matplotlib.pyplot as plt\n",
    "plt.style.use('seaborn-bright')\n",
    "import numpy as np"
   ]
  },
  {
   "cell_type": "code",
   "execution_count": 2,
   "id": "3b7a8660-33fd-4fae-96be-6d6fa2e226f2",
   "metadata": {},
   "outputs": [],
   "source": [
    "#caminhos para fazer os DataFrames\n",
    "df_fermi = pd.read_csv (\"CSVs\\Dados_Fermi.csv\")\n",
    "df_energia = pd.read_csv(\"CSVs\\Dados_energia.csv\")"
   ]
  },
  {
   "cell_type": "markdown",
   "id": "ace9910a-8d99-4e6c-b76b-d95c39d08edd",
   "metadata": {},
   "source": [
    "## Métricas:"
   ]
  },
  {
   "cell_type": "code",
   "execution_count": 3,
   "id": "28285a7a-ba8a-4344-8aad-c2d98b3072eb",
   "metadata": {},
   "outputs": [],
   "source": [
    "# RMSE\n",
    "from sklearn.metrics import mean_squared_error\n",
    "def RMSE(x_teste, y_teste, modelo):\n",
    "    y_verdadeiro = y_teste\n",
    "    y_previsao = modelo.predict(x_teste)\n",
    "\n",
    "    RMSE = mean_squared_error(y_verdadeiro, y_previsao, squared=False)\n",
    "    \n",
    "\n",
    "    return print(f\"O RMSE do modelo baseline foi de {RMSE}, porcentagem em relação a média: {abs((RMSE/y_teste.mean()) * 100)}.\")"
   ]
  },
  {
   "cell_type": "markdown",
   "id": "55032754-030d-461b-837c-9c9d8b25b2c2",
   "metadata": {},
   "source": [
    "## Para a energia de fermi"
   ]
  },
  {
   "cell_type": "code",
   "execution_count": 4,
   "id": "37b9e61b-7287-486b-8f2b-4b8bcb4b7d98",
   "metadata": {},
   "outputs": [],
   "source": [
    "from sklearn.model_selection import train_test_split\n",
    "\n",
    "#escolhe o tamanho do nosso teste\n",
    "TAMANHO_TESTE = 0.1\n",
    "# fixa quais dados que vão ser selecionados para teste e treino\n",
    "SEMENTE_ALEATORIA = 24569\n",
    "DATASET_NAME = \"df_fermi\"\n",
    "# faz uma lista de features que queremos usar, no caso são todas\n",
    "FEATURES = list(df_fermi.keys())\n",
    "# tira o nosso target entre as features\n",
    "FEATURES.remove(\"Fermi_energy\")\n",
    "FEATURES.remove(\"Unnamed: 0\")\n",
    "#o que queremos achar\n",
    "TARGET = [\"Fermi_energy\"]\n",
    "\n",
    "\n",
    "indices = df_fermi.index\n",
    "indices_treino, indices_teste = train_test_split(\n",
    "    indices, test_size=TAMANHO_TESTE, random_state=SEMENTE_ALEATORIA\n",
    ")\n",
    "\n",
    "df_treino_fe = df_fermi.loc[indices_treino]\n",
    "df_teste_fe = df_fermi.loc[indices_teste]\n",
    "\n",
    "# observe que usamos o .values aqui pois queremos apenas os valores\n",
    "x_treino_fe = df_treino_fe.reindex(FEATURES, axis=1).values\n",
    "y_treino_fe = df_treino_fe.reindex(TARGET, axis=1).values\n",
    "x_teste_fe = df_teste_fe.reindex(FEATURES, axis=1).values\n",
    "y_teste_fe = df_teste_fe.reindex(TARGET, axis=1).values\n"
   ]
  },
  {
   "cell_type": "markdown",
   "id": "6a598ef5-f718-463d-b3fd-d0afcb18618a",
   "metadata": {},
   "source": [
    "### Baseline média"
   ]
  },
  {
   "cell_type": "code",
   "execution_count": 5,
   "id": "11c1dd08-ca1c-48ac-8969-c06831cce27a",
   "metadata": {},
   "outputs": [
    {
     "name": "stdout",
     "output_type": "stream",
     "text": [
      "[-4.95704166 -4.95704166 -4.95704166 ... -4.95704166 -4.95704166\n",
      " -4.95704166]\n"
     ]
    }
   ],
   "source": [
    "from sklearn.dummy import DummyRegressor\n",
    "\n",
    "# cria o modelo\n",
    "modelo_baseline_fe = DummyRegressor()\n",
    "\n",
    "# treina o modelo\n",
    "modelo_baseline_fe.fit(x_treino_fe, y_treino_fe)\n",
    "\n",
    "# realiza uma previsão usando o modelo treinado\n",
    "previsao_fe = modelo_baseline_fe.predict(x_teste_fe)\n",
    "\n",
    "print(previsao_fe)"
   ]
  },
  {
   "cell_type": "code",
   "execution_count": 6,
   "id": "9d181e5e-87b6-4dfc-ad41-752a7e48943e",
   "metadata": {},
   "outputs": [
    {
     "name": "stdout",
     "output_type": "stream",
     "text": [
      "O RMSE do modelo baseline foi de 0.30151342169015477, porcentagem em relação a média: 6.078721445684178.\n"
     ]
    }
   ],
   "source": [
    "# testando a qualidade do nosso modelo:\n",
    "RMSE(x_teste_fe, y_teste_fe, modelo_baseline_fe )"
   ]
  },
  {
   "cell_type": "markdown",
   "id": "7b6bbb10-c007-49ef-991d-a553a41d2894",
   "metadata": {},
   "source": [
    "## Agora para energia por átomo"
   ]
  },
  {
   "cell_type": "code",
   "execution_count": 7,
   "id": "60186e02-95db-4a1b-b7e7-66bb5b302fa4",
   "metadata": {},
   "outputs": [],
   "source": [
    "#escolhe o tamanho do nosso teste\n",
    "tamanho_teste = 0.1\n",
    "# fixa quais dados que vão ser selecionados para teste e treino\n",
    "semente_aleatoria = 24569\n",
    "# faz uma lista de features que queremos usar, no caso são todas\n",
    "features = list(df_energia.keys())\n",
    "# tira o nosso target entre as features\n",
    "features.remove(\"energy_per_atom\")\n",
    "features.remove(\"Unnamed: 0\")\n",
    "#o que queremos achar\n",
    "target = [\"energy_per_atom\"]\n",
    "\n",
    "\n",
    "indices = df_energia.index\n",
    "indices_treino, indices_teste = train_test_split(\n",
    "    indices, test_size=tamanho_teste, random_state= semente_aleatoria\n",
    ")\n",
    "\n",
    "df_treino_en = df_energia.loc[indices_treino]\n",
    "df_teste_en = df_energia.loc[indices_teste]\n",
    "\n",
    "# observe que usamos o .values aqui pois queremos apenas os valores\n",
    "x_treino_en = df_treino_en.reindex(features, axis=1).values\n",
    "y_treino_en = df_treino_en.reindex(target, axis=1).values\n",
    "x_teste_en = df_teste_en.reindex(features, axis=1).values\n",
    "y_teste_en = df_teste_en.reindex(target, axis=1).values"
   ]
  },
  {
   "cell_type": "markdown",
   "id": "0db9667d-b9d7-469d-a0d1-3cca50d8eb1c",
   "metadata": {},
   "source": [
    "### Baseline média"
   ]
  },
  {
   "cell_type": "code",
   "execution_count": 8,
   "id": "dacd8fe5-27c4-49e1-9927-9ea0d313a095",
   "metadata": {},
   "outputs": [
    {
     "name": "stdout",
     "output_type": "stream",
     "text": [
      "[-47.41313446 -47.41313446 -47.41313446 ... -47.41313446 -47.41313446\n",
      " -47.41313446]\n"
     ]
    }
   ],
   "source": [
    "# cria o modelo\n",
    "modelo_baseline_en = DummyRegressor()\n",
    "\n",
    "# treina o modelo\n",
    "modelo_baseline_en.fit(x_treino_en, y_treino_en)\n",
    "\n",
    "# realiza uma previsão usando o modelo treinado\n",
    "previsao_en = modelo_baseline_en.predict(x_teste_en)\n",
    "\n",
    "print(previsao_en)"
   ]
  },
  {
   "cell_type": "code",
   "execution_count": 9,
   "id": "7f7d47c6-7853-4411-aab5-6795d4df21ad",
   "metadata": {},
   "outputs": [
    {
     "name": "stdout",
     "output_type": "stream",
     "text": [
      "O RMSE do modelo baseline foi de 2.353630547946566, porcentagem em relação a média: 4.965411373597822.\n"
     ]
    }
   ],
   "source": [
    "# testando a qualidade do nosso modelo:\n",
    "RMSE(x_teste_en, y_teste_en, modelo_baseline_en )"
   ]
  },
  {
   "cell_type": "markdown",
   "id": "8a5787a6-4385-434e-b7ae-85f038a4c7ce",
   "metadata": {},
   "source": [
    "# Modelo KNN"
   ]
  },
  {
   "cell_type": "code",
   "execution_count": 17,
   "id": "83f44f02-b7e8-4c93-b9ea-0eb6a544351c",
   "metadata": {},
   "outputs": [],
   "source": [
    "#Cria o algoritmo de identificação de vizinhos mais próximos;\n",
    "\n",
    "def identificacaoknn(x_treino, y_treino, x_teste, y_teste): #Definir uma função para calcular os vizinhos, já que temos dois targets numéricos\n",
    "    \"\"\n",
    "    media_teste = y_teste.mean()\n",
    "    media_treino = y_treino.mean()\n",
    "\n",
    "    from sklearn.metrics import mean_squared_error \n",
    "    from sklearn.neighbors import KNeighborsRegressor\n",
    "\n",
    "    numero_vizinhos = range(1, 101) #lista para testar diferentes números de vixinhos\n",
    "    rmse = []\n",
    "    for n in numero_vizinhos: #for para testar\n",
    "        # função para criar o modelo com a qtde n de vizinhos\n",
    "        modelo_knn = KNeighborsRegressor(n_neighbors=n)\n",
    "\n",
    "        # treina o modelo\n",
    "        modelo_knn.fit(x_treino, y_treino)\n",
    "\n",
    "        # realiza uma previsão usando o modelo treinado\n",
    "        previsao = modelo_knn.predict(x_teste)\n",
    "        #print(previsao)\n",
    "\n",
    "        y_verdadeiro = y_teste\n",
    "        y_previsao = modelo_knn.predict(x_teste)\n",
    "        RMSE = mean_squared_error(y_verdadeiro, y_previsao, squared=False)\n",
    "        rmse.append(RMSE)\n",
    "        \n",
    "    fig, ax1 = plt.subplots(1,1)\n",
    "    ax1.plot(numero_vizinhos, rmse, c = 'r')\n",
    "    ax1.set_xlabel('Número de vizinhos')\n",
    "    ax1.set_ylabel('RMSE (eV)')\n",
    "    \n",
    "    m = min(rmse)\n",
    "    km = numero_vizinhos[rmse.index(m)]\n",
    "    print(f\"O RMSE do modelo k-NN usando k={km} foi de {m} eV. O erro percentual é, {abs((m/media_teste) * 100)} %\")"
   ]
  },
  {
   "cell_type": "code",
   "execution_count": 18,
   "id": "e2f5cb4d-c3e7-4817-a7ad-632986078280",
   "metadata": {},
   "outputs": [
    {
     "name": "stdout",
     "output_type": "stream",
     "text": [
      "O RMSE do modelo k-NN usando k=25 foi de 0.08594171465090313 eV. O erro percentual é, 1.7326450709851542 %\n"
     ]
    },
    {
     "data": {
      "image/png": "[encoded data removed]",
      "text/plain": [
       "<Figure size 432x288 with 1 Axes>"
      ]
     },
     "metadata": {
      "needs_background": "light"
     },
     "output_type": "display_data"
    }
   ],
   "source": [
    "identificacaoknn(x_treino_fe, y_treino_fe, x_teste_fe, y_teste_fe)"
   ]
  },
  {
   "cell_type": "code",
   "execution_count": 19,
   "id": "494898c9-5967-4f61-b8ea-e2c81c2e76fb",
   "metadata": {},
   "outputs": [
    {
     "name": "stdout",
     "output_type": "stream",
     "text": [
      "O RMSE do modelo k-NN usando k=3 foi de 0.8057468565124171 eV. O erro percentual é, 1.6998694247310895 %\n"
     ]
    },
    {
     "data": {
      "image/png": "[encoded data removed]",
      "text/plain": [
       "<Figure size 432x288 with 1 Axes>"
      ]
     },
     "metadata": {
      "needs_background": "light"
     },
     "output_type": "display_data"
    }
   ],
   "source": [
    "identificacaoknn(x_treino_en, y_treino_en, x_teste_en, y_teste_en)"
   ]
  },
  {
   "cell_type": "markdown",
   "id": "471d135e-8f73-46a2-886c-d801e9ef118b",
   "metadata": {},
   "source": [
    "## Para a energia de Fermi, o modelo de k-NN resultou em um RMSE cerca de 3.5 vezes menor que o baseline, já para a energia total por átomo resultou em um RMSE cerca de 3 vezes menor que o baseline."
   ]
  },
  {
   "cell_type": "markdown",
   "id": "c70996bd-a478-4795-8b1c-739b20fdf61d",
   "metadata": {},
   "source": [
    "# Modelo Linear (não normalizado)"
   ]
  },
  {
   "cell_type": "code",
   "execution_count": 37,
   "id": "2078b59e-e9ed-4345-b195-478f2a8fe541",
   "metadata": {},
   "outputs": [],
   "source": [
    "from sklearn.linear_model import LinearRegression"
   ]
  },
  {
   "cell_type": "code",
   "execution_count": 38,
   "id": "0ff27905-8b3c-4460-b8c6-62128811cda9",
   "metadata": {},
   "outputs": [],
   "source": [
    "\n",
    "def modelo_linear(x_treino, y_treino, x_teste, y_teste):\n",
    "    # cria o modelo\n",
    "    modelo_linear = LinearRegression()\n",
    "\n",
    "    # treina o modelo\n",
    "    modelo_linear.fit(x_treino, y_treino)\n",
    "\n",
    "    # realiza uma previsão usando o modelo treinado\n",
    "    previsao = modelo_linear.predict(x_teste)\n",
    "    #print(previsao)\n",
    "\n",
    "    y_verdadeiro = y_teste\n",
    "    y_previsao = modelo_linear.predict(x_teste)\n",
    "    RMSE = mean_squared_error(y_verdadeiro, y_previsao, squared=False)\n",
    "    \n",
    "    print(f\"O modelo linear produziu um RMSE de {RMSE} eV\")"
   ]
  },
  {
   "cell_type": "markdown",
   "id": "9d13cea4-f089-44ce-8ccf-5a48a792b636",
   "metadata": {
    "tags": []
   },
   "source": [
    "### Energia de Fermi:"
   ]
  },
  {
   "cell_type": "code",
   "execution_count": 39,
   "id": "50217614-e891-4a80-ba0d-c9682adaceea",
   "metadata": {},
   "outputs": [
    {
     "name": "stdout",
     "output_type": "stream",
     "text": [
      "O modelo linear produziu um RMSE de 0.09438584636064312 eV\n"
     ]
    }
   ],
   "source": [
    "modelo_linear(x_treino_fe, y_treino_fe, x_teste_fe, y_teste_fe)"
   ]
  },
  {
   "cell_type": "markdown",
   "id": "6dec37ac-a4bd-4dc8-abd5-70e05588896e",
   "metadata": {},
   "source": [
    "Para a energia de Fermi o modelo linear deu um resultado melhor que o baseline, mas pior que o kNN"
   ]
  },
  {
   "cell_type": "markdown",
   "id": "51663928-d6b5-4876-bef7-2e3d38f34ed8",
   "metadata": {},
   "source": [
    "### Energia por Átomo"
   ]
  },
  {
   "cell_type": "code",
   "execution_count": 40,
   "id": "f88ed6ae-2b71-4ff8-81fc-059016c2d823",
   "metadata": {},
   "outputs": [
    {
     "name": "stdout",
     "output_type": "stream",
     "text": [
      "O modelo linear produziu um RMSE de 0.4226204459755578 eV\n"
     ]
    }
   ],
   "source": [
    "modelo_linear(x_treino_en, y_treino_en, x_teste_en, y_teste_en)"
   ]
  },
  {
   "cell_type": "markdown",
   "id": "bf62d213-3e6e-48f6-9048-b80806049214",
   "metadata": {},
   "source": [
    "Para a energia por átomo o modelo linear deu resultado melhor que o baseline e que o kNN"
   ]
  },
  {
   "cell_type": "markdown",
   "id": "5f0e89bb-ed2a-4571-a96d-f633371b41b6",
   "metadata": {},
   "source": [
    "# Modelo Linear (normalizado)"
   ]
  },
  {
   "cell_type": "code",
   "execution_count": 43,
   "id": "683d0341-1057-40a3-8726-ddaae778f68c",
   "metadata": {},
   "outputs": [],
   "source": [
    "from sklearn.preprocessing import MinMaxScaler"
   ]
  },
  {
   "cell_type": "code",
   "execution_count": 47,
   "id": "76ee3f93-b4aa-4f54-afef-afcf96570bda",
   "metadata": {},
   "outputs": [],
   "source": [
    "def modelo_linear_normalizado(x_treino, y_treino, x_teste, y_teste):\n",
    "\n",
    "    normalizador_x = MinMaxScaler()\n",
    "    normalizador_y = MinMaxScaler()\n",
    "\n",
    "    normalizador_x.fit(x_treino)\n",
    "    normalizador_y.fit(y_treino)\n",
    "    # cria o modelo\n",
    "    modelo_linear = LinearRegression()\n",
    "\n",
    "    # treina o modelo\n",
    "    modelo_linear.fit(\n",
    "        normalizador_x.transform(x_treino),\n",
    "        normalizador_y.transform(y_treino),\n",
    "    )\n",
    "\n",
    "    # realiza uma previsão usando o modelo treinado\n",
    "    previsao = modelo_linear.predict(normalizador_x.transform(x_treino))\n",
    "    previsao = normalizador_y.inverse_transform(previsao)\n",
    "    #print(previsao)\n",
    "    y_verdadeiro = y_teste\n",
    "    y_previsao = modelo_linear.predict(normalizador_x.transform(x_teste))\n",
    "    y_previsao = normalizador_y.inverse_transform(y_previsao)\n",
    "\n",
    "    RMSE = mean_squared_error(y_verdadeiro, y_previsao, squared=False)\n",
    "\n",
    "    print(f\"O RMSE do modelo linear normalizado foi de {RMSE} eV.\")"
   ]
  },
  {
   "cell_type": "markdown",
   "id": "dd96f2aa-deeb-49ae-8d25-7ee43d54ecc6",
   "metadata": {},
   "source": [
    "### Energia de Fermi"
   ]
  },
  {
   "cell_type": "code",
   "execution_count": 48,
   "id": "6cebbd79-3d09-496c-958e-8fd503ae5d52",
   "metadata": {},
   "outputs": [
    {
     "name": "stdout",
     "output_type": "stream",
     "text": [
      "O RMSE do modelo linear normalizado foi de 0.09438584636064316 eV.\n"
     ]
    }
   ],
   "source": [
    "modelo_linear_normalizado(x_treino_fe, y_treino_fe, x_teste_fe, y_teste_fe)"
   ]
  },
  {
   "cell_type": "markdown",
   "id": "9ed18d5a-fa62-4155-9c47-af52213a6661",
   "metadata": {},
   "source": [
    "### Energia por Átomo"
   ]
  },
  {
   "cell_type": "code",
   "execution_count": 49,
   "id": "e3e4c2fe-96b5-44ef-b326-ececc4facaaf",
   "metadata": {},
   "outputs": [
    {
     "name": "stdout",
     "output_type": "stream",
     "text": [
      "O RMSE do modelo linear normalizado foi de 0.42262044597555626 eV.\n"
     ]
    }
   ],
   "source": [
    "modelo_linear_normalizado(x_treino_en, y_treino_en, x_teste_en, y_teste_en)"
   ]
  },
  {
   "cell_type": "markdown",
   "id": "efe76027-82e0-407a-8048-4ca96aa93962",
   "metadata": {},
   "source": [
    "Nota-se que a normalização não alterou a qualidade do modelo."
   ]
  },
  {
   "cell_type": "code",
   "execution_count": null,
   "id": "006b8456-b866-482a-9704-3363d212131e",
   "metadata": {},
   "outputs": [],
   "source": []
  }
 ],
 "metadata": {
  "kernelspec": {
   "display_name": "ilumpy",
   "language": "python",
   "name": "ilumpy"
  },
  "language_info": {
   "codemirror_mode": {
    "name": "ipython",
    "version": 3
   },
   "file_extension": ".py",
   "mimetype": "text/x-python",
   "name": "python",
   "nbconvert_exporter": "python",
   "pygments_lexer": "ipython3",
   "version": "3.9.7"
  }
 },
 "nbformat": 4,
 "nbformat_minor": 5
}
