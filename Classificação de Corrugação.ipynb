{
 "cells": [
  {
   "cell_type": "markdown",
   "id": "e4f130a5-b54d-4e96-ae99-7f8664039e37",
   "metadata": {},
   "source": [
    "# Classificação de Corrugação"
   ]
  },
  {
   "cell_type": "code",
   "execution_count": 1,
   "id": "6154061c-e01c-443e-bbd7-3227f9426bf4",
   "metadata": {},
   "outputs": [],
   "source": [
    "import numpy as np\n",
    "import pandas as pd\n",
    "import matplotlib.pyplot as plt"
   ]
  },
  {
   "cell_type": "code",
   "execution_count": 2,
   "id": "00671195-34af-4227-bb60-76b26ceba9fc",
   "metadata": {},
   "outputs": [],
   "source": [
    "#criando dataframe com todos os atributos\n",
    "bruto = pd.read_csv('Neutral_Graphene_Oxide_Nanoflake_Dataset.zip')\n",
    "\n",
    "# Excluir as colunas que tem NaN\n",
    "bruto_completo = bruto.dropna(axis = 1, how ='any')\n",
    "\n",
    "del bruto_completo['file_name']\n",
    "del bruto_completo['charge_state']\n",
    "del bruto_completo['ionization_potential']\n",
    "del bruto_completo['electron_affinity']\n",
    "\n",
    "E = []\n",
    "i = 0\n",
    "while i < len(bruto_completo['C']):\n",
    "    E.append(bruto_completo['total_energy'][i]/bruto_completo['atom_number_total'][i])\n",
    "    i = i+1\n",
    "df = bruto_completo.assign(energy_per_atom = E)\n",
    "\n",
    "del df['Shape']\n",
    "del df['max_oop']\n",
    "del df['mae_oop']\n",
    "del df['rmse_oop']\n",
    "del df['residual_oop']"
   ]
  },
  {
   "cell_type": "code",
   "execution_count": 3,
   "id": "8e234b09-8617-426a-8fef-1fcb31ae15dc",
   "metadata": {},
   "outputs": [],
   "source": [
    "#função para fazer histograma\n",
    "def histograma(x, density=False, c = 'r', bins = 'sqrt', save = False, legendas = ['x', 'Frequência']):\n",
    "    '''\n",
    "    Plota um histograma a partir de uma lista de dados.\n",
    "    Argumentos obrigatórios:\n",
    "    - x: Lista dos valores da medição/dados\n",
    "    \n",
    "    Argumentos opcionais:\n",
    "    - Density: bool que, se for True, faz com que o histograma mostre densidade de probabilidade (default: density=False)\n",
    "    - c: string para a cor das barras do histograma (default: c = 'r')\n",
    "    - bins: método de determinação do tamanho de intervalos do histograma (default: bins = 'sqrt')\n",
    "    - save: string com o nome do arquivo png para salvar o grafico. Se save = False, então não irá salvar. (default: save = False)\n",
    "    - legendas: lista das strings de legenda dos eixos (default: legendas = ['x', 'Frequência'])\n",
    "    \n",
    "    '''\n",
    "    config = {'axes.spines.right': False,\n",
    "    'axes.spines.top': False,\n",
    "    'axes.edgecolor': '.4',\n",
    "    'axes.labelcolor': '.0',\n",
    "    'axes.titlesize': 'large',\n",
    "    'axes.labelsize': 'medium',\n",
    "    'figure.autolayout': True,\n",
    "    'figure.figsize': (4.5, 3.5),\n",
    "    'font.family': ['serif'],\n",
    "    'font.size': 10.0,\n",
    "    'grid.linestyle': '--',\n",
    "    'legend.facecolor': '.9',\n",
    "    'legend.frameon': True,\n",
    "    'savefig.transparent': True,\n",
    "    'text.color': '.0',\n",
    "    'xtick.labelsize': 'small',\n",
    "    'ytick.labelsize': 'small',}\n",
    "\n",
    "    plt.style.use(['seaborn-whitegrid', 'seaborn-paper', 'seaborn-muted', config])\n",
    "    fig,axh = plt.subplots(1,1)\n",
    "    H = plt.hist(x,bins = bins, color = c,density = density)\n",
    "    axh.set_ylabel(legendas[1],fontsize=12)\n",
    "    axh.set_xlabel(legendas[0],fontsize=12)\n",
    "    if save != False:\n",
    "        plt.savefig(save, dpi=200)"
   ]
  },
  {
   "cell_type": "code",
   "execution_count": 4,
   "id": "b045b3dd-cec5-442c-85bd-2ec4cfb52d9a",
   "metadata": {},
   "outputs": [
    {
     "data": {
      "image/png": "[encoded data removed]",
      "text/plain": [
       "<Figure size 324x252 with 1 Axes>"
      ]
     },
     "metadata": {},
     "output_type": "display_data"
    }
   ],
   "source": [
    "histograma(df['std_oop'], legendas = ['corrugação', 'frequência'])"
   ]
  },
  {
   "cell_type": "code",
   "execution_count": 5,
   "id": "432896a9-7216-4d9b-bda9-d687cc4a4ec6",
   "metadata": {},
   "outputs": [
    {
     "name": "stdout",
     "output_type": "stream",
     "text": [
      "6760 baixa\n",
      "7957 media\n",
      "5679 alta\n"
     ]
    }
   ],
   "source": [
    "logic = df[\"std_oop\"] <= 0.8\n",
    "print(len(df.loc[logic]),'baixa')\n",
    "logic = (df[\"std_oop\"] > 0.8) & (df[\"std_oop\"] <= 1.2)\n",
    "print(len(df.loc[logic]),'media')\n",
    "logic = (df[\"std_oop\"] > 1.2)\n",
    "print(len(df.loc[logic]),'alta')"
   ]
  },
  {
   "cell_type": "code",
   "execution_count": 6,
   "id": "5d33a978-4f24-443d-875b-6d2f9537c05c",
   "metadata": {
    "tags": []
   },
   "outputs": [
    {
     "name": "stdout",
     "output_type": "stream",
     "text": [
      "         C    H    O  atom_number_total  C_concentration  H_concentration  \\\n",
      "0      232   72   40                344         0.674419         0.209302   \n",
      "1      232   71   39                342         0.678363         0.207602   \n",
      "2      232   72   40                344         0.674419         0.209302   \n",
      "3      232   72   40                344         0.674419         0.209302   \n",
      "4      232   72   40                344         0.674419         0.209302   \n",
      "...    ...  ...  ...                ...              ...              ...   \n",
      "20391  576  166  300               1042         0.552783         0.159309   \n",
      "20392  576  166  300               1042         0.552783         0.159309   \n",
      "20393  576  166  300               1042         0.552783         0.159309   \n",
      "20394  576  164  298               1038         0.554913         0.157996   \n",
      "20395  576  166  300               1042         0.552783         0.159309   \n",
      "\n",
      "       O_concentration  avg_diameter  max_diameter  min_diameter  ...  \\\n",
      "0             0.116279      2.560777      3.247976      1.846442  ...   \n",
      "1             0.114035      2.560777      3.247976      1.846442  ...   \n",
      "2             0.116279      2.560777      3.247976      1.846442  ...   \n",
      "3             0.116279      2.560777      3.247976      1.846442  ...   \n",
      "4             0.116279      2.560777      3.247976      1.846442  ...   \n",
      "...                ...           ...           ...           ...  ...   \n",
      "20391         0.287908      4.179231      5.639054      3.010109  ...   \n",
      "20392         0.287908      4.179231      5.639054      3.010109  ...   \n",
      "20393         0.287908      4.179231      5.639054      3.010109  ...   \n",
      "20394         0.287091      4.179231      5.639054      3.010109  ...   \n",
      "20395         0.287908      4.179231      5.639054      3.010109  ...   \n",
      "\n",
      "       prox_norm_Ixx_bar_hydro_area  prox_norm_Iyy_bar_hydro_area  \\\n",
      "0                          0.000269                      0.000157   \n",
      "1                          0.000195                      0.000237   \n",
      "2                          0.000230                      0.000264   \n",
      "3                          0.000258                      0.000217   \n",
      "4                          0.000196                      0.000219   \n",
      "...                             ...                           ...   \n",
      "20391                      0.000213                      0.000201   \n",
      "20392                      0.000223                      0.000208   \n",
      "20393                      0.000222                      0.000206   \n",
      "20394                      0.000221                      0.000204   \n",
      "20395                      0.000219                      0.000205   \n",
      "\n",
      "       prox_norm_Izz_bar_hydro_area  prox_norm_Ixy_hydro_area  \\\n",
      "0                          0.000201                 -0.163181   \n",
      "1                          0.000221                  0.738653   \n",
      "2                          0.000250                 -0.862771   \n",
      "3                          0.000232                 -0.402486   \n",
      "4                          0.000210                 -0.229840   \n",
      "...                             ...                       ...   \n",
      "20391                      0.000207                 -0.270044   \n",
      "20392                      0.000216                  0.520328   \n",
      "20393                      0.000214                 -0.551143   \n",
      "20394                      0.000212                  0.108162   \n",
      "20395                      0.000212                  0.750072   \n",
      "\n",
      "       prox_norm_Iyz_hydro_area  prox_norm_Ixz_hydro_area  total_energy  \\\n",
      "0                     -0.007053                  0.053927   -15255.7364   \n",
      "1                      0.042467                  0.049864   -15150.9467   \n",
      "2                      0.065263                  0.005521   -15249.6253   \n",
      "3                      0.009995                 -0.016657   -15251.4089   \n",
      "4                      0.001422                 -0.075733   -15242.3217   \n",
      "...                         ...                       ...           ...   \n",
      "20391                 -0.054167                 -0.591800   -55634.4016   \n",
      "20392                  0.035008                  0.450677   -55643.6534   \n",
      "20393                 -0.037248                  0.097826   -55650.0682   \n",
      "20394                  0.364831                  0.493365   -55439.2723   \n",
      "20395                  0.130308                  0.205827   -55646.4588   \n",
      "\n",
      "       Fermi_energy  energy_per_atom  oop_categorico  \n",
      "0           -4.6472       -44.348071           media  \n",
      "1           -4.6371       -44.301014           baixa  \n",
      "2           -4.6591       -44.330306           media  \n",
      "3           -4.7337       -44.335491           baixa  \n",
      "4           -4.5991       -44.309075           baixa  \n",
      "...             ...              ...             ...  \n",
      "20391       -5.8973       -53.391940            alta  \n",
      "20392       -5.5005       -53.400819            alta  \n",
      "20393       -5.6595       -53.406975            alta  \n",
      "20394       -5.6054       -53.409704            alta  \n",
      "20395       -5.8262       -53.403511            alta  \n",
      "\n",
      "[20396 rows x 649 columns]\n"
     ]
    }
   ],
   "source": [
    "df['oop_categorico'] = None\n",
    "\n",
    "logic = df[\"std_oop\"] <= 0.8\n",
    "df.loc[logic, 'oop_categorico'] = 'baixa'\n",
    "logic = (df[\"std_oop\"] > 0.8) & (df[\"std_oop\"] <= 1.2)\n",
    "df.loc[logic, 'oop_categorico'] = 'media'\n",
    "logic = (df[\"std_oop\"] > 1.2)\n",
    "df.loc[logic, 'oop_categorico'] = 'alta'\n",
    "print(df)"
   ]
  },
  {
   "cell_type": "code",
   "execution_count": 7,
   "id": "736bcb6e-3d26-47d8-917d-437093b211de",
   "metadata": {},
   "outputs": [],
   "source": [
    "del df['std_oop']"
   ]
  },
  {
   "cell_type": "markdown",
   "id": "b30d2965-a2c2-4d14-a327-162835b98f57",
   "metadata": {},
   "source": [
    "## Classificação com k-NN"
   ]
  },
  {
   "cell_type": "code",
   "execution_count": 8,
   "id": "d9226b00-9fac-4185-9cfa-757bf90e6598",
   "metadata": {},
   "outputs": [],
   "source": [
    "#separando teste e treino\n",
    "import seaborn as sns\n",
    "from sklearn.model_selection import train_test_split\n",
    "\n",
    "TAMANHO_TESTE = 0.1\n",
    "SEMENTE_ALEATORIA = 61455\n",
    "FEATURES = df.columns.drop('oop_categorico')\n",
    "\n",
    "TARGET = [\"oop_categorico\"]\n",
    "\n",
    "indices = df.index\n",
    "indices_treino, indices_teste = train_test_split(\n",
    "    indices, test_size=TAMANHO_TESTE, random_state=SEMENTE_ALEATORIA\n",
    ")\n",
    "\n",
    "df_treino = df.loc[indices_treino]\n",
    "df_teste = df.loc[indices_teste]\n",
    "\n",
    "# observe que usamos o .values aqui pois queremos apenas os valores\n",
    "X_treino = df_treino.reindex(FEATURES, axis=1).values\n",
    "y_treino = df_treino.reindex(TARGET, axis=1).values.ravel()\n",
    "X_teste = df_teste.reindex(FEATURES, axis=1).values\n",
    "y_teste = df_teste.reindex(TARGET, axis=1).values.ravel()"
   ]
  },
  {
   "cell_type": "code",
   "execution_count": 9,
   "id": "cb086b61-75a5-411f-ae9b-158809530898",
   "metadata": {},
   "outputs": [
    {
     "name": "stdout",
     "output_type": "stream",
     "text": [
      "['baixa' 'media' 'media' ... 'baixa' 'baixa' 'baixa']\n"
     ]
    }
   ],
   "source": [
    "#treinando o modelo classificador\n",
    "from sklearn.neighbors import KNeighborsClassifier\n",
    "\n",
    "# cria o modelo\n",
    "modelo_knn = KNeighborsClassifier()\n",
    "\n",
    "# treina o modelo\n",
    "modelo_knn.fit(X_treino, y_treino)\n",
    "\n",
    "# realiza uma previsão usando o modelo treinado\n",
    "previsao = modelo_knn.predict(X_teste)\n",
    "print(previsao)"
   ]
  },
  {
   "cell_type": "code",
   "execution_count": 10,
   "id": "6d038832-7e49-4d11-922b-3a9f3f01c89e",
   "metadata": {},
   "outputs": [
    {
     "name": "stdout",
     "output_type": "stream",
     "text": [
      "Accuracy: 0.5553921568627451\n"
     ]
    }
   ],
   "source": [
    "#calculando a acurácia da predição\n",
    "from sklearn import metrics\n",
    "\n",
    "print(\"Accuracy:\",metrics.accuracy_score(y_teste, previsao))"
   ]
  },
  {
   "cell_type": "markdown",
   "id": "5f3f680f-4c91-4569-a457-de62049d862a",
   "metadata": {},
   "source": [
    "## Classificação com Árvore de Decisão"
   ]
  },
  {
   "cell_type": "code",
   "execution_count": 11,
   "id": "d951f139-6338-4051-a3be-4840d63e4862",
   "metadata": {},
   "outputs": [
    {
     "name": "stdout",
     "output_type": "stream",
     "text": [
      "['baixa' 'media' 'media' ... 'baixa' 'baixa' 'alta']\n",
      "['baixa' 'media' 'media' ... 'baixa' 'baixa' 'media']\n"
     ]
    }
   ],
   "source": [
    "from sklearn.tree import DecisionTreeClassifier\n",
    "\n",
    "# cria o modelo\n",
    "modelo_dt = DecisionTreeClassifier(random_state=SEMENTE_ALEATORIA)\n",
    "\n",
    "# treina o modelo\n",
    "modelo_dt.fit(X_treino, y_treino)\n",
    "\n",
    "# realiza uma previsão usando o modelo treinado\n",
    "previsao = modelo_dt.predict(X_teste)\n",
    "print(y_teste)\n",
    "print(previsao)\n",
    "\n"
   ]
  },
  {
   "cell_type": "code",
   "execution_count": 12,
   "id": "5b53f8bd-ab19-4365-aa4b-5486468e0bb1",
   "metadata": {},
   "outputs": [
    {
     "name": "stdout",
     "output_type": "stream",
     "text": [
      "Accuracy: 0.5588235294117647\n"
     ]
    }
   ],
   "source": [
    "#calculando a acurácia da predição\n",
    "print(\"Accuracy:\",metrics.accuracy_score(y_teste, previsao))"
   ]
  },
  {
   "cell_type": "markdown",
   "id": "cf2f7400-d6fd-4847-9d17-8dfa651aac48",
   "metadata": {},
   "source": [
    "## Classificação com floresta aleatória"
   ]
  },
  {
   "cell_type": "code",
   "execution_count": 13,
   "id": "8e5c417b-b527-4a62-8013-21736fd81a5d",
   "metadata": {},
   "outputs": [
    {
     "name": "stdout",
     "output_type": "stream",
     "text": [
      "['baixa' 'media' 'baixa' ... 'baixa' 'baixa' 'media']\n"
     ]
    }
   ],
   "source": [
    "from sklearn.ensemble import RandomForestClassifier\n",
    "\n",
    "# cria o modelo\n",
    "modelo_rf = RandomForestClassifier(random_state=SEMENTE_ALEATORIA)\n",
    "\n",
    "# treina o modelo\n",
    "modelo_rf.fit(X_treino, y_treino)\n",
    "\n",
    "# realiza uma previsão usando o modelo treinado\n",
    "previsao = modelo_rf.predict(X_teste)\n",
    "\n",
    "importancia = modelo_rf.feature_importances_\n",
    "desvio_padrao = np.std(\n",
    "    [arvore.feature_importances_ for arvore in modelo_rf.estimators_], axis=0\n",
    ")\n",
    "\n",
    "serie_importancia = pd.Series(importancia, index=FEATURES)\n",
    "\n",
    "print(previsao)"
   ]
  },
  {
   "cell_type": "code",
   "execution_count": 14,
   "id": "8bd55dc7-98da-413b-826c-93088117ffc8",
   "metadata": {},
   "outputs": [
    {
     "name": "stdout",
     "output_type": "stream",
     "text": [
      "Accuracy: 0.6651960784313725\n"
     ]
    }
   ],
   "source": [
    "print(\"Accuracy:\",metrics.accuracy_score(y_teste, previsao))"
   ]
  },
  {
   "cell_type": "code",
   "execution_count": 15,
   "id": "ae24137d-5df9-42d7-a6c8-fd0fef495f4d",
   "metadata": {},
   "outputs": [
    {
     "data": {
      "image/png": "[encoded data removed]",
      "text/plain": [
       "<Figure size 324x252 with 1 Axes>"
      ]
     },
     "metadata": {},
     "output_type": "display_data"
    }
   ],
   "source": [
    "C = serie_importancia.sort_values(ascending = False)\n",
    "\n",
    "fig, axe = plt.subplots()\n",
    "C[0:12].plot.bar(ax=axe, color = 'g')\n",
    "axe.set_ylabel(\"Redução média da impureza\")\n",
    "axe.set_title(f\"Atributos com maior importância\")\n",
    "plt.show()"
   ]
  },
  {
   "cell_type": "code",
   "execution_count": 16,
   "id": "0074bd0d-3728-46b3-a335-ed89b804e521",
   "metadata": {},
   "outputs": [
    {
     "data": {
      "image/png": "[encoded data removed]",
      "text/plain": [
       "<Figure size 324x252 with 1 Axes>"
      ]
     },
     "metadata": {},
     "output_type": "display_data"
    }
   ],
   "source": [
    "import sklearn\n",
    "conf = sklearn.metrics.confusion_matrix(y_teste, previsao)\n",
    "plt.imshow(conf, cmap='binary', interpolation='None')\n",
    "plt.show()"
   ]
  },
  {
   "cell_type": "code",
   "execution_count": null,
   "id": "4ac74186-d851-45fa-9fe8-28b6ba01748b",
   "metadata": {},
   "outputs": [],
   "source": []
  }
 ],
 "metadata": {
  "kernelspec": {
   "display_name": "ilumpy",
   "language": "python",
   "name": "ilumpy"
  },
  "language_info": {
   "codemirror_mode": {
    "name": "ipython",
    "version": 3
   },
   "file_extension": ".py",
   "mimetype": "text/x-python",
   "name": "python",
   "nbconvert_exporter": "python",
   "pygments_lexer": "ipython3",
   "version": "3.9.7"
  }
 },
 "nbformat": 4,
 "nbformat_minor": 5
}
