{
 "cells": [
  {
   "cell_type": "markdown",
   "id": "4a633655-312d-410f-a2d4-8e69a16cdffa",
   "metadata": {
    "tags": []
   },
   "source": [
    "# Validação Cruzada"
   ]
  },
  {
   "cell_type": "markdown",
   "id": "ff7147f8-56ed-409a-b3aa-789e9ed47630",
   "metadata": {},
   "source": [
    "-----------"
   ]
  },
  {
   "cell_type": "markdown",
   "id": "0393b8f3-d8ad-4207-8a00-763e2000bbd7",
   "metadata": {},
   "source": [
    "#  k-fold"
   ]
  },
  {
   "cell_type": "code",
   "execution_count": 1,
   "id": "f815ee78-dfc9-4fab-834a-b5d7e07b5c97",
   "metadata": {},
   "outputs": [],
   "source": [
    "import pandas as pd\n",
    "import matplotlib.pyplot as plt\n",
    "plt.style.use('seaborn-bright')\n",
    "import numpy as np\n",
    "import lmfit"
   ]
  },
  {
   "cell_type": "code",
   "execution_count": 2,
   "id": "3de89fbe-5cf2-4eae-af8a-2c1e4c1bba74",
   "metadata": {},
   "outputs": [],
   "source": [
    "#caminhos para fazer os DataFrames\n",
    "df_fermi = pd.read_csv (\"CSVs\\Dados_Fermi.csv\")\n",
    "df_energia = pd.read_csv(\"CSVs\\Dados_energia.csv\")"
   ]
  },
  {
   "cell_type": "markdown",
   "id": "eb699d54-d760-4920-ac4c-03532c2f118c",
   "metadata": {},
   "source": [
    "### Separando dados em treino e teste (energia de fermi)"
   ]
  },
  {
   "cell_type": "code",
   "execution_count": 3,
   "id": "a73cab85-7329-4c8d-9a8a-4458f3514a41",
   "metadata": {},
   "outputs": [],
   "source": [
    "# Energia de Fermi\n",
    "import seaborn as sns\n",
    "from sklearn.model_selection import train_test_split\n",
    "\n",
    "TAMANHO_TESTE = 0.1\n",
    "SEMENTE_ALEATORIA = 61455\n",
    "\n",
    "DATASET_NAME = \"df_fermi\"\n",
    "# faz uma lista de features que queremos usar, no caso são todas\n",
    "FEATURES = list(df_fermi.keys())\n",
    "# tira o nosso target entre as features\n",
    "FEATURES.remove(\"Fermi_energy\")\n",
    "#o que queremos achar\n",
    "TARGET = [\"Fermi_energy\"]\n",
    "\n",
    "indices = df_fermi.index\n",
    "indices_treino, indices_teste = train_test_split(\n",
    "    indices, test_size=TAMANHO_TESTE, random_state=SEMENTE_ALEATORIA\n",
    ")\n",
    "\n",
    "df_treino_fe = df_fermi.loc[indices_treino]\n",
    "df_teste_fe = df_fermi.loc[indices_teste]\n",
    "\n",
    "# observe que usamos o .values aqui pois queremos apenas os valores\n",
    "x_treino_fe = df_treino_fe.reindex(FEATURES, axis=1).values\n",
    "y_treino_fe = np.ravel(df_treino_fe.reindex(TARGET, axis=1).values)\n",
    "x_teste_fe = df_teste_fe.reindex(FEATURES, axis=1).values\n",
    "y_teste_fe = np.ravel(df_teste_fe.reindex(TARGET, axis=1).values)"
   ]
  },
  {
   "cell_type": "markdown",
   "id": "d6959129-01b6-4cb9-8e89-fdac8c0a30f4",
   "metadata": {},
   "source": [
    "### Cross Validation para floresta aleatória com 10 arvores"
   ]
  },
  {
   "cell_type": "code",
   "execution_count": 4,
   "id": "019f7479-d192-4a91-8f3e-42218e373f0b",
   "metadata": {},
   "outputs": [
    {
     "name": "stdout",
     "output_type": "stream",
     "text": [
      "Os scores foram de:  [0.08352257 0.08794675 0.08216868 0.08071747 0.08281219 0.08213065\n",
      " 0.08156525 0.0820736  0.0790669  0.08911839]\n",
      "\n",
      "A média dos scores é de:  0.08311224565705681\n"
     ]
    }
   ],
   "source": [
    "from sklearn.ensemble import RandomForestRegressor\n",
    "from sklearn.model_selection import cross_val_score\n",
    "\n",
    "NUM_ARVORES = 10\n",
    "NUM_FOLDS = 10\n",
    "NUM_CPU_CORES = 4\n",
    "\n",
    "modelo_rf = RandomForestRegressor(\n",
    "    n_estimators=NUM_ARVORES,\n",
    "    random_state=SEMENTE_ALEATORIA,\n",
    "    n_jobs=NUM_CPU_CORES,\n",
    ")\n",
    "scores = cross_val_score(\n",
    "    modelo_rf,\n",
    "    x_treino_fe,\n",
    "    y_treino_fe,\n",
    "    cv=NUM_FOLDS,\n",
    "    scoring=\"neg_root_mean_squared_error\",\n",
    ")\n",
    "\n",
    "print(\"Os scores foram de: \", - scores)\n",
    "print()\n",
    "print(\"A média dos scores é de: \", - scores.mean())"
   ]
  },
  {
   "cell_type": "markdown",
   "id": "23218827-0c7f-4d7a-afe7-14e0f999b009",
   "metadata": {},
   "source": [
    "### Agora aumentando o número de arvores para 100"
   ]
  },
  {
   "cell_type": "code",
   "execution_count": 11,
   "id": "738f2e8a-a5fa-44d6-a3e8-2990e30aa8c7",
   "metadata": {},
   "outputs": [
    {
     "name": "stdout",
     "output_type": "stream",
     "text": [
      "Os scores foram de:  [0.08066141 0.08337735 0.0793137  0.07713305 0.07872059 0.07928557\n",
      " 0.07749854 0.07830351 0.07778786 0.08515371]\n",
      "\n",
      "A média dos scores é de:  0.07972352781543643\n"
     ]
    }
   ],
   "source": [
    "NUM_ARVORES = 100\n",
    "NUM_FOLDS = 10\n",
    "NUM_CPU_CORES = 4\n",
    "\n",
    "modelo_rf = RandomForestRegressor(\n",
    "    n_estimators=NUM_ARVORES,\n",
    "    random_state=SEMENTE_ALEATORIA,\n",
    "    n_jobs=NUM_CPU_CORES,\n",
    ")\n",
    "scores = cross_val_score(\n",
    "    modelo_rf,\n",
    "    x_treino_fe,\n",
    "    y_treino_fe,\n",
    "    cv=NUM_FOLDS,\n",
    "    scoring=\"neg_root_mean_squared_error\",\n",
    ")\n",
    "\n",
    "print(\"Os scores foram de: \",- scores)\n",
    "print()\n",
    "print(\"A média dos scores é de: \",- scores.mean())"
   ]
  },
  {
   "cell_type": "markdown",
   "id": "b190db42-1d2c-4e4f-b777-50063153dfdf",
   "metadata": {},
   "source": [
    "### Agora aumentando o número de arvores para 150"
   ]
  },
  {
   "cell_type": "code",
   "execution_count": 6,
   "id": "3352abf0-d65a-4bc0-b027-57e479d287e9",
   "metadata": {},
   "outputs": [
    {
     "name": "stdout",
     "output_type": "stream",
     "text": [
      "Os scores foram de:  [0.08029373 0.08311214 0.07912048 0.07719975 0.07854994 0.07919589\n",
      " 0.07722991 0.07817052 0.07766677 0.08523038]\n",
      "\n",
      "A média dos scores é de:  0.0795769507320801\n"
     ]
    }
   ],
   "source": [
    "NUM_ARVORES = 150\n",
    "NUM_FOLDS = 10\n",
    "NUM_CPU_CORES = 4\n",
    "\n",
    "modelo_rf = RandomForestRegressor(\n",
    "    n_estimators=NUM_ARVORES,\n",
    "    random_state=SEMENTE_ALEATORIA,\n",
    "    n_jobs=NUM_CPU_CORES,\n",
    ")\n",
    "scores = cross_val_score(\n",
    "    modelo_rf,\n",
    "    x_treino_fe,\n",
    "    y_treino_fe,\n",
    "    cv=NUM_FOLDS,\n",
    "    scoring=\"neg_root_mean_squared_error\",\n",
    ")\n",
    "\n",
    "print(\"Os scores foram de: \",- scores)\n",
    "print()\n",
    "print(\"A média dos scores é de: \",- scores.mean())"
   ]
  },
  {
   "cell_type": "markdown",
   "id": "b6bd66d0-4f60-4e88-a1dd-b813b6ad278f",
   "metadata": {},
   "source": [
    "### Agora sim vamos aplicar o modelo aos dados de teste para verificar o desempenho, sendo com 100 ávores"
   ]
  },
  {
   "cell_type": "code",
   "execution_count": 6,
   "id": "dda1e958-f8e5-494e-a573-e051c4d67269",
   "metadata": {},
   "outputs": [
    {
     "name": "stdout",
     "output_type": "stream",
     "text": [
      "O RMSE do modelo floresta aleatória no conjunto de teste foi de 0.07992165733552065 eV.\n"
     ]
    },
    {
     "data": {
      "image/png": "[encoded data removed]",
      "text/plain": [
       "<Figure size 432x288 with 1 Axes>"
      ]
     },
     "metadata": {
      "needs_background": "light"
     },
     "output_type": "display_data"
    }
   ],
   "source": [
    "from sklearn.metrics import mean_squared_error\n",
    "\n",
    "NUM_ARVORES = 100\n",
    "NUM_CPU_CORES = 4\n",
    "\n",
    "modelo_rf = RandomForestRegressor(\n",
    "    n_estimators=NUM_ARVORES,\n",
    "    random_state=SEMENTE_ALEATORIA,\n",
    "    n_jobs=NUM_CPU_CORES,\n",
    ")\n",
    "modelo_rf.fit(x_treino_fe, y_treino_fe)\n",
    "\n",
    "y_previsao_fe = modelo_rf.predict(x_teste_fe)\n",
    "RMSE = mean_squared_error(y_teste_fe, y_previsao_fe, squared=False)\n",
    "\n",
    "y_verdadeiro = y_teste_fe\n",
    "y_previsao = modelo_rf.predict(x_teste_fe)\n",
    "#Criar gráficos\n",
    "fig, ax = plt.subplots(1,1)\n",
    "ax.scatter(y_verdadeiro, y_previsao, c = 'orange',label = f'RMSE:{RMSE:.4f}')\n",
    "ax.plot(y_verdadeiro,y_verdadeiro,label=\"y=x\", c = 'r') ; ax.legend(fontsize='small')\n",
    "\n",
    "ax.set_title('Floresta Aleatória Energia de Fermi', fontsize = 22)\n",
    "\n",
    "ax.set_xlabel('Verdadeiro (eV)')\n",
    "ax.set_ylabel('Previsão (eV)')\n",
    "\n",
    "\n",
    "print(f\"O RMSE do modelo floresta aleatória no conjunto de teste foi de {RMSE} eV.\")"
   ]
  },
  {
   "cell_type": "markdown",
   "id": "e0a9adea-8da9-48ca-9e78-6999b8b25d51",
   "metadata": {},
   "source": [
    "**deu OverFit?** O modelo de teste ainda foi 0,0002 maior que a cross validation."
   ]
  },
  {
   "cell_type": "markdown",
   "id": "98465f4f-15c4-4f4e-abef-f32ff582fb34",
   "metadata": {},
   "source": [
    "### Separando dados em treino e teste (energia por átomo)"
   ]
  },
  {
   "cell_type": "code",
   "execution_count": 7,
   "id": "e566b735-92e7-42bb-b65e-85358254c9cf",
   "metadata": {},
   "outputs": [],
   "source": [
    "TAMANHO_TESTE = 0.1\n",
    "SEMENTE_ALEATORIA = 61455\n",
    "\n",
    "DATASET_NAME = \"df_energia\"\n",
    "# faz uma lista de features que queremos usar, no caso são todas\n",
    "FEATURES = list(df_energia.keys())\n",
    "# tira o nosso target entre as features\n",
    "FEATURES.remove(\"energy_per_atom\")\n",
    "#o que queremos achar\n",
    "TARGET = [\"energy_per_atom\"]\n",
    "\n",
    "indices = df_energia.index\n",
    "indices_treino, indices_teste = train_test_split(\n",
    "    indices, test_size=TAMANHO_TESTE, random_state=SEMENTE_ALEATORIA\n",
    ")\n",
    "\n",
    "df_treino_en = df_energia.loc[indices_treino]\n",
    "df_teste_en = df_energia.loc[indices_teste]\n",
    "\n",
    "# observe que usamos o .values aqui pois queremos apenas os valores\n",
    "x_treino_en = df_treino_en.reindex(FEATURES, axis=1).values\n",
    "y_treino_en = np.ravel(df_treino_en.reindex(TARGET, axis=1).values)\n",
    "x_teste_en = df_teste_en.reindex(FEATURES, axis=1).values\n",
    "y_teste_en = np.ravel(df_teste_en.reindex(TARGET, axis=1).values)"
   ]
  },
  {
   "cell_type": "markdown",
   "id": "96e30f70-aec8-435e-94dd-1213bade3d49",
   "metadata": {},
   "source": [
    "### Cross Validation para floresta aleatória com 10 arvores"
   ]
  },
  {
   "cell_type": "code",
   "execution_count": 8,
   "id": "7641a0ab-488b-4d93-ac97-5d230aa2f7c6",
   "metadata": {},
   "outputs": [
    {
     "name": "stdout",
     "output_type": "stream",
     "text": [
      "Os scores foram de:  [0.06521117 0.04989111 0.03095488 0.02978581 0.02914325 0.06032792\n",
      " 0.04143166 0.04110675 0.03938741 0.03593437]\n",
      "\n",
      "A média dos scores é de:  0.04231743230003028\n"
     ]
    }
   ],
   "source": [
    "NUM_ARVORES = 10\n",
    "NUM_FOLDS = 10\n",
    "NUM_CPU_CORES = 4\n",
    "\n",
    "modelo_rf = RandomForestRegressor(\n",
    "    n_estimators=NUM_ARVORES,\n",
    "    random_state=SEMENTE_ALEATORIA,\n",
    "    n_jobs=NUM_CPU_CORES,\n",
    ")\n",
    "scores = cross_val_score(\n",
    "    modelo_rf,\n",
    "    x_treino_en,\n",
    "    y_treino_en,\n",
    "    cv=NUM_FOLDS,\n",
    "    scoring=\"neg_root_mean_squared_error\",\n",
    ")\n",
    "\n",
    "print(\"Os scores foram de: \", - scores)\n",
    "print()\n",
    "print(\"A média dos scores é de: \", - scores.mean())"
   ]
  },
  {
   "cell_type": "markdown",
   "id": "468c78ef-ecf5-4778-9d60-d01ac9717139",
   "metadata": {},
   "source": [
    "### Agora aumentando o número de árvores para 100"
   ]
  },
  {
   "cell_type": "code",
   "execution_count": 9,
   "id": "c7a49be2-08fe-4b89-8190-e99e9c53ea57",
   "metadata": {},
   "outputs": [
    {
     "name": "stdout",
     "output_type": "stream",
     "text": [
      "Os scores foram de:  [0.03802986 0.04220244 0.02707044 0.02709005 0.02793302 0.05360136\n",
      " 0.03756991 0.04151985 0.03521157 0.03750428]\n",
      "\n",
      "A média dos scores é de:  0.036773277435550825\n"
     ]
    }
   ],
   "source": [
    "NUM_ARVORES = 100\n",
    "NUM_FOLDS = 10\n",
    "NUM_CPU_CORES = 4\n",
    "\n",
    "modelo_rf = RandomForestRegressor(\n",
    "    n_estimators=NUM_ARVORES,\n",
    "    random_state=SEMENTE_ALEATORIA,\n",
    "    n_jobs=NUM_CPU_CORES,\n",
    ")\n",
    "scores = cross_val_score(\n",
    "    modelo_rf,\n",
    "    x_treino_en,\n",
    "    y_treino_en,\n",
    "    cv=NUM_FOLDS,\n",
    "    scoring=\"neg_root_mean_squared_error\",\n",
    ")\n",
    "\n",
    "print(\"Os scores foram de: \",- scores)\n",
    "print()\n",
    "print(\"A média dos scores é de: \",- scores.mean())"
   ]
  },
  {
   "cell_type": "markdown",
   "id": "cca5cb13-42a7-4877-9af3-6a98b1e0bef8",
   "metadata": {},
   "source": [
    "### Agora aumentando o número de árvores para 150"
   ]
  },
  {
   "cell_type": "code",
   "execution_count": 10,
   "id": "a96ba9ee-e64c-4619-af46-764fd3682be0",
   "metadata": {},
   "outputs": [
    {
     "name": "stdout",
     "output_type": "stream",
     "text": [
      "Os scores foram de:  [0.03715128 0.04114269 0.02700494 0.02712938 0.02859147 0.05419674\n",
      " 0.0360676  0.04146878 0.03375025 0.03768659]\n",
      "\n",
      "A média dos scores é de:  0.03641897336840906\n"
     ]
    }
   ],
   "source": [
    "NUM_ARVORES = 150\n",
    "NUM_FOLDS = 10\n",
    "NUM_CPU_CORES = 4\n",
    "\n",
    "modelo_rf = RandomForestRegressor(\n",
    "    n_estimators=NUM_ARVORES,\n",
    "    random_state=SEMENTE_ALEATORIA,\n",
    "    n_jobs=NUM_CPU_CORES,\n",
    ")\n",
    "scores = cross_val_score(\n",
    "    modelo_rf,\n",
    "    x_treino_en,\n",
    "    y_treino_en,\n",
    "    cv=NUM_FOLDS,\n",
    "    scoring=\"neg_root_mean_squared_error\",\n",
    ")\n",
    "\n",
    "print(\"Os scores foram de: \",- scores)\n",
    "print()\n",
    "print(\"A média dos scores é de: \",- scores.mean())"
   ]
  },
  {
   "cell_type": "markdown",
   "id": "d37fd4b1-b130-4a0d-842b-93218559e9bd",
   "metadata": {},
   "source": [
    "### Agora sim vamos aplicar o modelo aos dados de teste para verificar o desempenho com 100 árvores\n"
   ]
  },
  {
   "cell_type": "code",
   "execution_count": 10,
   "id": "b926e17d-1855-4b4b-a73a-ea96f58e47d8",
   "metadata": {},
   "outputs": [
    {
     "name": "stdout",
     "output_type": "stream",
     "text": [
      "O RMSE do modelo floresta aleatória no conjunto de teste foi de 0.020550037336711003 eV.\n"
     ]
    },
    {
     "data": {
      "image/png": "[encoded data removed]",
      "text/plain": [
       "<Figure size 432x288 with 1 Axes>"
      ]
     },
     "metadata": {
      "needs_background": "light"
     },
     "output_type": "display_data"
    }
   ],
   "source": [
    "NUM_ARVORES = 100\n",
    "NUM_CPU_CORES = 4\n",
    "\n",
    "modelo_rf = RandomForestRegressor(\n",
    "    n_estimators=NUM_ARVORES,\n",
    "    random_state=SEMENTE_ALEATORIA,\n",
    "    n_jobs=NUM_CPU_CORES,\n",
    ")\n",
    "modelo_rf.fit(x_treino_en, y_treino_en)\n",
    "\n",
    "y_previsao_en = modelo_rf.predict(x_teste_en)\n",
    "RMSE = mean_squared_error(y_teste_en, y_previsao_en, squared=False)\n",
    "\n",
    "y_verdadeiro = y_teste_en\n",
    "y_previsao = modelo_rf.predict(x_teste_en)\n",
    "#Criar gráficos\n",
    "fig, ax = plt.subplots(1,1)\n",
    "ax.scatter(y_verdadeiro, y_previsao, c = 'orange',label = f'RMSE:{RMSE:.4f}')\n",
    "ax.plot(y_verdadeiro,y_verdadeiro,label=\"y=x\", c = 'r') ; ax.legend(fontsize='small')\n",
    "\n",
    "ax.set_title('Floresta Aleatória Energia por Átomo', fontsize = 22)\n",
    "\n",
    "ax.set_xlabel('Verdadeiro (eV)')\n",
    "ax.set_ylabel('Previsão (eV)')\n",
    "\n",
    "\n",
    "print(f\"O RMSE do modelo floresta aleatória no conjunto de teste foi de {RMSE} eV.\")"
   ]
  },
  {
   "cell_type": "markdown",
   "id": "20fe6f20-0515-4148-8295-0b4ac7ce8f7a",
   "metadata": {},
   "source": [
    "**Deu overfit?** NÃO, houve uma diferença de 0.01615 entre as performances, sendo que a validação cruzada ficou com menos. "
   ]
  },
  {
   "cell_type": "markdown",
   "id": "0a4aa3d6-633d-43ce-99ba-c0ee67a79e8b",
   "metadata": {},
   "source": [
    "# Pipelines"
   ]
  },
  {
   "cell_type": "markdown",
   "id": "65449cdc-04c7-4788-af4d-a1cfaeff1c9d",
   "metadata": {},
   "source": [
    "### Vamos fazer um pipeline que normaliza e treina, e testar para um modelo de k-NN"
   ]
  },
  {
   "cell_type": "markdown",
   "id": "33337452-01cd-4781-86fb-1c2878a74db0",
   "metadata": {},
   "source": [
    "### Energia de Fermi:"
   ]
  },
  {
   "cell_type": "code",
   "execution_count": 11,
   "id": "a9abf8e0-bf45-4bd5-b006-7e72d18fe872",
   "metadata": {},
   "outputs": [
    {
     "name": "stdout",
     "output_type": "stream",
     "text": [
      "Os scores foram de:  [0.08279198 0.08750753 0.08178513 0.07943426 0.08265423 0.08224767\n",
      " 0.08123651 0.08136519 0.08089224 0.08919629]\n",
      "\n",
      "A média dos scores é de:  0.08291110279256561\n"
     ]
    }
   ],
   "source": [
    "from sklearn.neighbors import KNeighborsRegressor\n",
    "from sklearn.pipeline import make_pipeline\n",
    "from sklearn.preprocessing import MinMaxScaler\n",
    "\n",
    "NUM_VIZINHOS = 10\n",
    "NUM_FOLDS = 10\n",
    "\n",
    "modelo_knn_composto = make_pipeline(\n",
    "    MinMaxScaler(),\n",
    "    KNeighborsRegressor(n_neighbors=NUM_VIZINHOS),\n",
    ")\n",
    "\n",
    "scores = cross_val_score(\n",
    "    modelo_knn_composto,\n",
    "    x_treino_fe,\n",
    "    y_treino_fe,\n",
    "    cv=NUM_FOLDS,\n",
    "    scoring=\"neg_root_mean_squared_error\",\n",
    ")\n",
    "\n",
    "print(\"Os scores foram de: \", -scores)\n",
    "print()\n",
    "print(\"A média dos scores é de: \", -scores.mean())"
   ]
  },
  {
   "cell_type": "markdown",
   "id": "d52bf4bf-1b9b-44b2-a599-a67686a6a434",
   "metadata": {},
   "source": [
    "### Vamos comparar um modelo de 10 vizinhos com um de 20 vizinhos:"
   ]
  },
  {
   "cell_type": "code",
   "execution_count": 12,
   "id": "b561d0c3-7498-41d2-a665-dd6002bce677",
   "metadata": {},
   "outputs": [
    {
     "name": "stdout",
     "output_type": "stream",
     "text": [
      "Os scores foram de:  [0.08294936 0.08451272 0.08003449 0.07840578 0.08174162 0.08008714\n",
      " 0.07939196 0.07885623 0.08125018 0.08665321]\n",
      "\n",
      "A média dos scores é de:  0.08138826849661662\n"
     ]
    }
   ],
   "source": [
    "NUM_VIZINHOS = 20\n",
    "NUM_FOLDS = 10\n",
    "\n",
    "modelo_knn_composto = make_pipeline(\n",
    "    MinMaxScaler(),\n",
    "    KNeighborsRegressor(n_neighbors=NUM_VIZINHOS),\n",
    ")\n",
    "\n",
    "scores = cross_val_score(\n",
    "    modelo_knn_composto,\n",
    "    x_treino_fe,\n",
    "    y_treino_fe,\n",
    "    cv=NUM_FOLDS,\n",
    "    scoring=\"neg_root_mean_squared_error\",\n",
    ")\n",
    "\n",
    "print(\"Os scores foram de: \", -scores)\n",
    "print()\n",
    "print(\"A média dos scores é de: \", -scores.mean())"
   ]
  },
  {
   "cell_type": "markdown",
   "id": "456d97cc-d31a-4490-b191-228602ad2765",
   "metadata": {},
   "source": [
    "com 20 vizinhos ficou melhor"
   ]
  },
  {
   "cell_type": "markdown",
   "id": "4b7562b8-b4ce-4d35-9256-4c9498bce278",
   "metadata": {},
   "source": [
    "### E agora treinando o modelo:"
   ]
  },
  {
   "cell_type": "code",
   "execution_count": 13,
   "id": "328827ae-7bf2-452e-b6c1-dbbfd9093bbd",
   "metadata": {},
   "outputs": [
    {
     "name": "stdout",
     "output_type": "stream",
     "text": [
      "O RMSE do modelo k-NN no conjunto de teste foi de 0.08200900090963235 eV.\n"
     ]
    },
    {
     "data": {
      "image/png": "[encoded data removed]",
      "text/plain": [
       "<Figure size 432x288 with 1 Axes>"
      ]
     },
     "metadata": {
      "needs_background": "light"
     },
     "output_type": "display_data"
    }
   ],
   "source": [
    "NUM_VIZINHOS = 20\n",
    "\n",
    "modelo_knn_composto = make_pipeline(\n",
    "    MinMaxScaler(),\n",
    "    KNeighborsRegressor(n_neighbors=NUM_VIZINHOS),\n",
    ")\n",
    "modelo_knn_composto.fit(x_treino_fe, y_treino_fe)\n",
    "\n",
    "y_verdadeiro = y_teste_fe\n",
    "y_previsao = modelo_knn_composto.predict(x_teste_fe)\n",
    "RMSE = mean_squared_error(y_teste_fe, y_previsao, squared=False)\n",
    "#Criar gráficos\n",
    "fig, ax = plt.subplots(1,1)\n",
    "ax.scatter(y_verdadeiro, y_previsao, c = 'orange',label = f'RMSE:{RMSE:.4f}')\n",
    "ax.plot(y_verdadeiro,y_verdadeiro,label=\"y=x\", c = 'r') ; ax.legend(fontsize='small')\n",
    "\n",
    "ax.set_title('k-NN Energia de Fermi', fontsize = 22)\n",
    "\n",
    "ax.set_xlabel('Verdadeiro (eV)')\n",
    "ax.set_ylabel('Previsão (eV)')\n",
    "\n",
    "\n",
    "print(f\"O RMSE do modelo k-NN no conjunto de teste foi de {RMSE} eV.\")"
   ]
  },
  {
   "cell_type": "markdown",
   "id": "12f6c2be-2b1b-47d0-be5b-1003e62849ff",
   "metadata": {},
   "source": [
    "### Energia total por átomo:"
   ]
  },
  {
   "cell_type": "code",
   "execution_count": 14,
   "id": "0e2f0be8-b5f7-4763-9e36-17b3ac9f909d",
   "metadata": {},
   "outputs": [
    {
     "name": "stdout",
     "output_type": "stream",
     "text": [
      "Os scores foram de:  [0.07052708 0.05162752 0.0562143  0.05169767 0.06622688 0.05407783\n",
      " 0.05837459 0.06291007 0.08438067 0.05476482]\n",
      "\n",
      "A média dos scores é de:  0.06108014360795747\n"
     ]
    }
   ],
   "source": [
    "from sklearn.neighbors import KNeighborsRegressor\n",
    "from sklearn.pipeline import make_pipeline\n",
    "from sklearn.preprocessing import MinMaxScaler\n",
    "\n",
    "NUM_VIZINHOS = 10\n",
    "NUM_FOLDS = 10\n",
    "\n",
    "modelo_knn_composto = make_pipeline(\n",
    "    MinMaxScaler(),\n",
    "    KNeighborsRegressor(n_neighbors=NUM_VIZINHOS),\n",
    ")\n",
    "\n",
    "scores = cross_val_score(\n",
    "    modelo_knn_composto,\n",
    "    x_treino_en,\n",
    "    y_treino_en,\n",
    "    cv=NUM_FOLDS,\n",
    "    scoring=\"neg_root_mean_squared_error\",\n",
    ")\n",
    "\n",
    "print(\"Os scores foram de: \", -scores)\n",
    "print()\n",
    "print(\"A média dos scores é de: \", -scores.mean())"
   ]
  },
  {
   "cell_type": "markdown",
   "id": "3af34ca3-877b-4fc8-b9f7-5112ba976404",
   "metadata": {},
   "source": [
    "### Vamos comparar um modelo de 10 vizinhos com um de 20 vizinhos:"
   ]
  },
  {
   "cell_type": "code",
   "execution_count": 15,
   "id": "7a708c4a-6a78-4c09-a6af-e7508bccea6b",
   "metadata": {},
   "outputs": [
    {
     "name": "stdout",
     "output_type": "stream",
     "text": [
      "Os scores foram de:  [0.08935409 0.06576329 0.06450601 0.06269914 0.088142   0.06533301\n",
      " 0.07298089 0.07444457 0.08532271 0.07034787]\n",
      "\n",
      "A média dos scores é de:  0.07388935677813532\n"
     ]
    }
   ],
   "source": [
    "NUM_VIZINHOS = 20\n",
    "NUM_FOLDS = 10\n",
    "\n",
    "modelo_knn_composto = make_pipeline(\n",
    "    MinMaxScaler(),\n",
    "    KNeighborsRegressor(n_neighbors=NUM_VIZINHOS),\n",
    ")\n",
    "\n",
    "scores = cross_val_score(\n",
    "    modelo_knn_composto,\n",
    "    x_treino_en,\n",
    "    y_treino_en,\n",
    "    cv=NUM_FOLDS,\n",
    "    scoring=\"neg_root_mean_squared_error\",\n",
    ")\n",
    "\n",
    "print(\"Os scores foram de: \", -scores)\n",
    "print()\n",
    "print(\"A média dos scores é de: \", -scores.mean())"
   ]
  },
  {
   "cell_type": "markdown",
   "id": "e195fc47-4205-4088-a7ec-bfa83917d59f",
   "metadata": {},
   "source": [
    "com 10 vizinhos ficou melhor"
   ]
  },
  {
   "cell_type": "markdown",
   "id": "a8647edb-168b-4b8a-b8b9-82c035c943c1",
   "metadata": {},
   "source": [
    "### E agora treinando o modelo:"
   ]
  },
  {
   "cell_type": "code",
   "execution_count": 16,
   "id": "f8b528af-7dc0-4362-b802-23c9857043d2",
   "metadata": {},
   "outputs": [
    {
     "name": "stdout",
     "output_type": "stream",
     "text": [
      "O RMSE do modelo k-NN no conjunto de teste foi de 0.05312847648212496 eV.\n"
     ]
    },
    {
     "data": {
      "image/png": "[encoded data removed]",
      "text/plain": [
       "<Figure size 432x288 with 1 Axes>"
      ]
     },
     "metadata": {
      "needs_background": "light"
     },
     "output_type": "display_data"
    }
   ],
   "source": [
    "NUM_VIZINHOS = 10\n",
    "\n",
    "modelo_knn_composto = make_pipeline(\n",
    "    MinMaxScaler(),\n",
    "    KNeighborsRegressor(n_neighbors=NUM_VIZINHOS),\n",
    ")\n",
    "modelo_knn_composto.fit(x_treino_en, y_treino_en)\n",
    "\n",
    "y_verdadeiro = y_teste_en\n",
    "y_previsao = modelo_knn_composto.predict(x_teste_en)\n",
    "RMSE = mean_squared_error(y_teste_en, y_previsao, squared=False)\n",
    "#Criar gráficos\n",
    "fig, ax = plt.subplots(1,1)\n",
    "ax.scatter(y_verdadeiro, y_previsao, c = 'orange',label = f'RMSE:{RMSE:.4f}')\n",
    "ax.plot(y_verdadeiro,y_verdadeiro,label=\"y=x\", c = 'r') ; ax.legend(fontsize='small')\n",
    "\n",
    "ax.set_title('k-NN Energia por Átomo', fontsize = 22)\n",
    "\n",
    "ax.set_xlabel('Verdadeiro (eV)')\n",
    "ax.set_ylabel('Previsão (eV)')\n",
    "\n",
    "\n",
    "print(f\"O RMSE do modelo k-NN no conjunto de teste foi de {RMSE} eV.\")"
   ]
  },
  {
   "cell_type": "code",
   "execution_count": null,
   "id": "ed405bff-5c79-4437-a1e0-41d598b75fa5",
   "metadata": {},
   "outputs": [],
   "source": []
  },
  {
   "cell_type": "markdown",
   "id": "42e2f13f-1ede-4d9b-8b36-9ecd88ad3dd6",
   "metadata": {},
   "source": [
    "## Discussão"
   ]
  },
  {
   "cell_type": "markdown",
   "id": "00f21f94-3c24-4cba-8b07-93ed1291c496",
   "metadata": {},
   "source": [
    "Despois da Validação Cruzada, o RMSE continuou bem pequeno, na segunda casa decimal de diferença para os targets diferentes, sendo que para a energia por átomo e para energia de fermi a floresta aleatória e a árvore de decisções foram os melhores modelos, de forma que a energia por átomo ficou melhor, como podemos ver nos gráficos que já foram plotados anteriormente"
   ]
  },
  {
   "cell_type": "code",
   "execution_count": null,
   "id": "618bdc16-c27e-426f-9ea5-bc3337aa492e",
   "metadata": {},
   "outputs": [],
   "source": []
  }
 ],
 "metadata": {
  "kernelspec": {
   "display_name": "ilumpy",
   "language": "python",
   "name": "ilumpy"
  },
  "language_info": {
   "codemirror_mode": {
    "name": "ipython",
    "version": 3
   },
   "file_extension": ".py",
   "mimetype": "text/x-python",
   "name": "python",
   "nbconvert_exporter": "python",
   "pygments_lexer": "ipython3",
   "version": "3.9.7"
  }
 },
 "nbformat": 4,
 "nbformat_minor": 5
}
