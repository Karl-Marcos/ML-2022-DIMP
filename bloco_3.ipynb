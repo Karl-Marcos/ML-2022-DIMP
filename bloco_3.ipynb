{
 "cells": [
  {
   "cell_type": "markdown",
   "id": "315b06e6-0761-4dca-9727-fbef9eb506d7",
   "metadata": {},
   "source": [
    "# Aprendizado de máquina não supervisionado"
   ]
  },
  {
   "cell_type": "code",
   "execution_count": 1,
   "id": "14c6d98f-96a8-481f-a7cb-1a0f17710608",
   "metadata": {},
   "outputs": [],
   "source": [
    "# Importando bibliotecas\n",
    "import seaborn as sns\n",
    "import pandas as pd\n",
    "from sklearn.model_selection import train_test_split\n",
    "import numpy as np\n",
    "import seaborn as sns\n",
    "import pandas as pd\n",
    "from sklearn.preprocessing import StandardScaler\n",
    "from sklearn.decomposition import PCA\n",
    "import matplotlib.pyplot as plt"
   ]
  },
  {
   "cell_type": "code",
   "execution_count": 2,
   "id": "46c88336-862f-4dbe-88be-067c3873ac53",
   "metadata": {},
   "outputs": [],
   "source": [
    "# Importando dados\n",
    "bruto = pd.read_csv('Neutral_Graphene_Oxide_Nanoflake_Dataset.zip')\n",
    "\n",
    "# Excluir as colunas que tem NaN\n",
    "bruto_completo = bruto.dropna(axis = 1, how ='any')\n",
    "\n",
    "# Excluir colunas de targets\n",
    "del bruto_completo['file_name']\n",
    "del bruto_completo['charge_state']\n",
    "del bruto_completo['ionization_potential']\n",
    "del bruto_completo['electron_affinity']\n",
    "del bruto_completo['Shape']\n",
    "\n",
    "dados = bruto_completo.copy()\n",
    "\n",
    "del dados['total_energy']\n",
    "del dados['Fermi_energy']"
   ]
  },
  {
   "cell_type": "code",
   "execution_count": 3,
   "id": "72961e36-b07f-4b61-b7bb-e7559ff48a44",
   "metadata": {},
   "outputs": [
    {
     "name": "stdout",
     "output_type": "stream",
     "text": [
      "['C', 'H', 'O', 'atom_number_total', 'C_concentration', 'H_concentration', 'O_concentration', 'avg_diameter', 'max_diameter', 'min_diameter', 'std_diameter', 'skew_diameter', 'kurt_diameter', 'anisotropy', 'area', 'AC_edge', 'ZZ_edge', 'total_edge', 'defects_count', 'defects_concentration', 'max_oop', 'mae_oop', 'std_oop', 'rmse_oop', 'residual_oop', 'ether_count', 'hydroxyl_count', 'carboxyl_count', 'edge_hydrogen_count', 'all_agent_group_count', 'ether_concentration', 'hydroxyl_concentration', 'carboxyl_concentration', 'def_local_ether_count', 'def_local_hydroxyl_count', 'def_local_carboxyl_count', 'def_local_other_count', 'max_bond_angle', 'max_bond_length', 'volume_per_atom', 'density_of_dangling_bonds', 'mass_density', 'particle_density', 'C-C:total_number', 'C-C:mean_value', 'C-C:error', 'C-C_sp2-sp3:total_number', 'C-C_sp2-sp3:mean_value', 'C-C_sp2-sp3:error', 'C-C_sp3-sp3:total_number', 'C-C_sp3-sp3:mean_value', 'C-C_sp3-sp3:error', 'C-C-C:total_number', 'C-C-C:mean_value', 'C-C-C:error', 'C-C-C_C-sp2-C:total_number', 'C-C-C_C-sp2-C:mean_value', 'C-C-C_C-sp2-C:error', 'C-C-C_C-sp3-C:total_number', 'C-C-C_C-sp3-C:mean_value', 'C-C-C_C-sp3-C:error', 'C-C-O:total_number', 'C-C-O:mean_value', 'C-C-O:error', 'C-C-O_C-sp3-O:total_number', 'C-C-O_C-sp3-O:mean_value', 'C-C-O_C-sp3-O:error', 'C-O:total_number', 'C-O:mean_value', 'C-O:error', 'C-O_sp3-sp1:total_number', 'C-O_sp3-sp1:mean_value', 'C-O_sp3-sp1:error', 'C-O_sp3-strained:total_number', 'C-O_sp3-strained:mean_value', 'C-O_sp3-strained:error', 'C-O-C:total_number', 'C-O-C:mean_value', 'C-O-C:error', 'C-O-C_C-strained-C:total_number', 'C-O-C_C-strained-C:mean_value', 'C-O-C_C-strained-C:error', 'C-O-H:total_number', 'C-O-H:mean_value', 'C-O-H:error', 'C-O-H_C-sp1-H:total_number', 'C-O-H_C-sp1-H:mean_value', 'C-O-H_C-sp1-H:error', 'O-H:total_number', 'O-H:mean_value', 'O-H:error', 'C_atoms_sp2-like_total', 'C_atoms_sp3-like_total', 'O_atoms_sp1-like_total', 'C-C_coordination_number', 'C-H_coordination_number', 'C-O_coordination_number', 'C_n10_m1', 'C_n10_m10', 'C_n10_m2', 'C_n10_m3', 'C_n10_m4', 'C_n10_m5', 'C_n10_m6', 'C_n10_m7', 'C_n10_m8', 'C_n10_m9', 'C_n11_m1', 'C_n11_m10', 'C_n11_m11', 'C_n11_m2', 'C_n11_m3', 'C_n11_m4', 'C_n11_m5', 'C_n11_m6', 'C_n11_m7', 'C_n11_m8', 'C_n11_m9', 'C_n12_m1', 'C_n12_m10', 'C_n12_m11', 'C_n12_m12', 'C_n12_m2', 'C_n12_m3', 'C_n12_m4', 'C_n12_m5', 'C_n12_m6', 'C_n12_m7', 'C_n12_m8', 'C_n12_m9', 'C_n3_m1', 'C_n3_m2', 'C_n3_m3', 'C_n4_m1', 'C_n4_m2', 'C_n4_m3', 'C_n4_m4', 'C_n5_m1', 'C_n5_m2', 'C_n5_m3', 'C_n5_m4', 'C_n5_m5', 'C_n6_m1', 'C_n6_m2', 'C_n6_m3', 'C_n6_m4', 'C_n6_m5', 'C_n6_m6', 'C_n7_m1', 'C_n7_m2', 'C_n7_m3', 'C_n7_m4', 'C_n7_m5', 'C_n7_m6', 'C_n7_m7', 'C_n8_m1', 'C_n8_m2', 'C_n8_m3', 'C_n8_m4', 'C_n8_m5', 'C_n8_m6', 'C_n8_m7', 'C_n8_m8', 'C_n9_m1', 'C_n9_m2', 'C_n9_m3', 'C_n9_m4', 'C_n9_m5', 'C_n9_m6', 'C_n9_m7', 'C_n9_m8', 'C_n9_m9', 'H-C_coordination_number', 'H-O_coordination_number', 'O-C_coordination_number', 'O-H_coordination_number', 'O-O_coordination_number', 'O_atoms_with_bond_angles_<_90_deg._total', 'O_n10_m1', 'O_n10_m10', 'O_n10_m2', 'O_n10_m3', 'O_n10_m4', 'O_n10_m5', 'O_n10_m6', 'O_n10_m7', 'O_n10_m8', 'O_n10_m9', 'O_n11_m1', 'O_n11_m10', 'O_n11_m11', 'O_n11_m2', 'O_n11_m3', 'O_n11_m4', 'O_n11_m5', 'O_n11_m6', 'O_n11_m7', 'O_n11_m8', 'O_n11_m9', 'O_n12_m1', 'O_n12_m10', 'O_n12_m11', 'O_n12_m12', 'O_n12_m2', 'O_n12_m3', 'O_n12_m4', 'O_n12_m5', 'O_n12_m6', 'O_n12_m7', 'O_n12_m8', 'O_n12_m9', 'O_n3_m1', 'O_n3_m2', 'O_n3_m3', 'O_n4_m1', 'O_n4_m2', 'O_n4_m3', 'O_n4_m4', 'O_n5_m1', 'O_n5_m2', 'O_n5_m3', 'O_n5_m4', 'O_n5_m5', 'O_n6_m1', 'O_n6_m2', 'O_n6_m3', 'O_n6_m4', 'O_n6_m5', 'O_n6_m6', 'O_n7_m1', 'O_n7_m2', 'O_n7_m3', 'O_n7_m4', 'O_n7_m5', 'O_n7_m6', 'O_n7_m7', 'O_n8_m1', 'O_n8_m2', 'O_n8_m3', 'O_n8_m4', 'O_n8_m5', 'O_n8_m6', 'O_n8_m7', 'O_n8_m8', 'O_n9_m1', 'O_n9_m2', 'O_n9_m3', 'O_n9_m4', 'O_n9_m5', 'O_n9_m6', 'O_n9_m7', 'O_n9_m8', 'O_n9_m9', 'ring_density_10_irreducible_sp', 'ring_density_10_reducible_all', 'ring_density_11_irreducible_sp', 'ring_density_11_reducible_all', 'ring_density_12_irreducible_sp', 'ring_density_12_reducible_all', 'ring_density_3_irreducible_sp', 'ring_density_3_reducible_all', 'ring_density_4_irreducible_sp', 'ring_density_4_reducible_all', 'ring_density_5_irreducible_sp', 'ring_density_5_reducible_all', 'ring_density_6_irreducible_sp', 'ring_density_6_reducible_all', 'ring_density_7_irreducible_sp', 'ring_density_7_reducible_all', 'ring_density_8_irreducible_sp', 'ring_density_8_reducible_all', 'ring_density_9_irreducible_sp', 'ring_density_9_reducible_all', 'rings_total_number_10_all', 'rings_total_number_10_sp', 'rings_total_number_11_all', 'rings_total_number_11_sp', 'rings_total_number_12_all', 'rings_total_number_12_sp', 'rings_total_number_3_all', 'rings_total_number_3_sp', 'rings_total_number_4_all', 'rings_total_number_4_sp', 'rings_total_number_5_all', 'rings_total_number_5_sp', 'rings_total_number_6_all', 'rings_total_number_6_sp', 'rings_total_number_7_all', 'rings_total_number_7_sp', 'rings_total_number_8_all', 'rings_total_number_8_sp', 'rings_total_number_9_all', 'rings_total_number_9_sp', 'sp2-like_n10_m1', 'sp2-like_n10_m10', 'sp2-like_n10_m2', 'sp2-like_n10_m3', 'sp2-like_n10_m4', 'sp2-like_n10_m5', 'sp2-like_n10_m6', 'sp2-like_n10_m7', 'sp2-like_n10_m8', 'sp2-like_n10_m9', 'sp2-like_n11_m1', 'sp2-like_n11_m10', 'sp2-like_n11_m11', 'sp2-like_n11_m2', 'sp2-like_n11_m3', 'sp2-like_n11_m4', 'sp2-like_n11_m5', 'sp2-like_n11_m6', 'sp2-like_n11_m7', 'sp2-like_n11_m8', 'sp2-like_n11_m9', 'sp2-like_n12_m1', 'sp2-like_n12_m10', 'sp2-like_n12_m11', 'sp2-like_n12_m12', 'sp2-like_n12_m2', 'sp2-like_n12_m3', 'sp2-like_n12_m4', 'sp2-like_n12_m5', 'sp2-like_n12_m6', 'sp2-like_n12_m7', 'sp2-like_n12_m8', 'sp2-like_n12_m9', 'sp2-like_n3_m1', 'sp2-like_n3_m2', 'sp2-like_n3_m3', 'sp2-like_n4_m1', 'sp2-like_n4_m2', 'sp2-like_n4_m3', 'sp2-like_n4_m4', 'sp2-like_n5_m1', 'sp2-like_n5_m2', 'sp2-like_n5_m3', 'sp2-like_n5_m4', 'sp2-like_n5_m5', 'sp2-like_n6_m1', 'sp2-like_n6_m2', 'sp2-like_n6_m3', 'sp2-like_n6_m4', 'sp2-like_n6_m5', 'sp2-like_n6_m6', 'sp2-like_n7_m1', 'sp2-like_n7_m2', 'sp2-like_n7_m3', 'sp2-like_n7_m4', 'sp2-like_n7_m5', 'sp2-like_n7_m6', 'sp2-like_n7_m7', 'sp2-like_n8_m1', 'sp2-like_n8_m2', 'sp2-like_n8_m3', 'sp2-like_n8_m4', 'sp2-like_n8_m5', 'sp2-like_n8_m6', 'sp2-like_n8_m7', 'sp2-like_n8_m8', 'sp2-like_n9_m1', 'sp2-like_n9_m2', 'sp2-like_n9_m3', 'sp2-like_n9_m4', 'sp2-like_n9_m5', 'sp2-like_n9_m6', 'sp2-like_n9_m7', 'sp2-like_n9_m8', 'sp2-like_n9_m9', 'r_OO_mean', 'r_ether_ether_mean', 'r_hydro_hydro_mean', 'r_ether_hydro_mean', 'r_OO_std', 'r_ether_ether_std', 'r_hydro_hydro_std', 'r_ether_hydro_std', 'r_OE_mean', 'r_ether_E_mean', 'r_E_hydro_mean', 'r_OE_std', 'r_ether_E_std', 'density_loc_C_mean', 'density_loc_O_mean', 'density_loc_ether_mean', 'density_loc_hydro_mean', 'density_loc_C_std', 'density_loc_O_std', 'density_loc_ether_std', 'density_loc_hydro_std', 'density_loc_C_skew', 'density_loc_O_skew', 'density_loc_ether_skew', 'density_loc_hydro_skew', 'density_loc_C_kurt', 'density_loc_O_kurt', 'density_loc_ether_kurt', 'density_loc_hydro_kurt', 'prox_density_O_mean', 'prox_density_ether_mean', 'prox_density_hydro_mean', 'prox_density_O_std', 'prox_density_ether_std', 'prox_density_hydro_std', 'prox_density_O_skew', 'prox_density_ether_skew', 'prox_density_hydro_skew', 'prox_density_O_kurt', 'prox_density_ether_kurt', 'prox_density_hydro_kurt', 'norm_density_O_mean', 'norm_density_ether_mean', 'norm_density_hydro_mean', 'norm_density_O_std', 'norm_density_ether_std', 'norm_density_hydro_std', 'norm_density_O_skew', 'norm_density_ether_skew', 'norm_density_hydro_skew', 'norm_density_O_kurt', 'norm_density_ether_kurt', 'norm_density_hydro_kurt', 'prox_norm_density_O_mean', 'prox_norm_density_ether_mean', 'prox_norm_density_hydro_mean', 'prox_norm_density_O_std', 'prox_norm_density_ether_std', 'prox_norm_density_hydro_std', 'prox_norm_density_O_skew', 'prox_norm_density_ether_skew', 'prox_norm_density_hydro_skew', 'prox_norm_density_O_kurt', 'prox_norm_density_ether_kurt', 'prox_norm_density_hydro_kurt', 'Ixx_O', 'Iyy_O', 'Izz_O', 'Ixx_bar_O', 'Iyy_bar_O', 'Izz_bar_O', 'Ixy_O', 'Iyz_O', 'Ixz_O', 'Ixx_ether', 'Iyy_ether', 'Izz_ether', 'Ixx_bar_ether', 'Iyy_bar_ether', 'Izz_bar_ether', 'Ixy_ether', 'Iyz_ether', 'Ixz_ether', 'Ixx_hydro', 'Iyy_hydro', 'Izz_hydro', 'Ixx_bar_hydro', 'Iyy_bar_hydro', 'Izz_bar_hydro', 'Ixy_hydro', 'Iyz_hydro', 'Ixz_hydro', 'prox_Ixx_O', 'prox_Iyy_O', 'prox_Izz_O', 'prox_Ixx_bar_O', 'prox_Iyy_bar_O', 'prox_Izz_bar_O', 'prox_Ixy_O', 'prox_Iyz_O', 'prox_Ixz_O', 'prox_Ixx_ether', 'prox_Iyy_ether', 'prox_Izz_ether', 'prox_Ixx_bar_ether', 'prox_Iyy_bar_ether', 'prox_Izz_bar_ether', 'prox_Ixy_ether', 'prox_Iyz_ether', 'prox_Ixz_ether', 'prox_Ixx_hydro', 'prox_Iyy_hydro', 'prox_Izz_hydro', 'prox_Ixx_bar_hydro', 'prox_Iyy_bar_hydro', 'prox_Izz_bar_hydro', 'prox_Ixy_hydro', 'prox_Iyz_hydro', 'prox_Ixz_hydro', 'norm_Ixx_O', 'norm_Iyy_O', 'norm_Izz_O', 'norm_Ixx_bar_O', 'norm_Iyy_bar_O', 'norm_Izz_bar_O', 'norm_Ixy_O', 'norm_Iyz_O', 'norm_Ixz_O', 'norm_Ixx_ether', 'norm_Iyy_ether', 'norm_Izz_ether', 'norm_Ixx_bar_ether', 'norm_Iyy_bar_ether', 'norm_Izz_bar_ether', 'norm_Ixy_ether', 'norm_Iyz_ether', 'norm_Ixz_ether', 'norm_Ixx_hydro', 'norm_Iyy_hydro', 'norm_Izz_hydro', 'norm_Ixx_bar_hydro', 'norm_Iyy_bar_hydro', 'norm_Izz_bar_hydro', 'norm_Ixy_hydro', 'norm_Iyz_hydro', 'norm_Ixz_hydro', 'prox_norm_Ixx_O', 'prox_norm_Iyy_O', 'prox_norm_Izz_O', 'prox_norm_Ixx_bar_O', 'prox_norm_Iyy_bar_O', 'prox_norm_Izz_bar_O', 'prox_norm_Ixy_O', 'prox_norm_Iyz_O', 'prox_norm_Ixz_O', 'prox_norm_Ixx_ether', 'prox_norm_Iyy_ether', 'prox_norm_Izz_ether', 'prox_norm_Ixx_bar_ether', 'prox_norm_Iyy_bar_ether', 'prox_norm_Izz_bar_ether', 'prox_norm_Ixy_ether', 'prox_norm_Iyz_ether', 'prox_norm_Ixz_ether', 'prox_norm_Ixx_hydro', 'prox_norm_Iyy_hydro', 'prox_norm_Izz_hydro', 'prox_norm_Ixx_bar_hydro', 'prox_norm_Iyy_bar_hydro', 'prox_norm_Izz_bar_hydro', 'prox_norm_Ixy_hydro', 'prox_norm_Iyz_hydro', 'prox_norm_Ixz_hydro', 'Ixx_O_area', 'Iyy_O_area', 'Izz_O_area', 'Ixx_bar_O_area', 'Iyy_bar_O_area', 'Izz_bar_O_area', 'Ixy_O_area', 'Iyz_O_area', 'Ixz_O_area', 'Ixx_ether_area', 'Iyy_ether_area', 'Izz_ether_area', 'Ixx_bar_ether_area', 'Iyy_bar_ether_area', 'Izz_bar_ether_area', 'Ixy_ether_area', 'Iyz_ether_area', 'Ixz_ether_area', 'Ixx_hydro_area', 'Iyy_hydro_area', 'Izz_hydro_area', 'Ixx_bar_hydro_area', 'Iyy_bar_hydro_area', 'Izz_bar_hydro_area', 'Ixy_hydro_area', 'Iyz_hydro_area', 'Ixz_hydro_area', 'prox_Ixx_O_area', 'prox_Iyy_O_area', 'prox_Izz_O_area', 'prox_Ixx_bar_O_area', 'prox_Iyy_bar_O_area', 'prox_Izz_bar_O_area', 'prox_Ixy_O_area', 'prox_Iyz_O_area', 'prox_Ixz_O_area', 'prox_Ixx_ether_area', 'prox_Iyy_ether_area', 'prox_Izz_ether_area', 'prox_Ixx_bar_ether_area', 'prox_Iyy_bar_ether_area', 'prox_Izz_bar_ether_area', 'prox_Ixy_ether_area', 'prox_Iyz_ether_area', 'prox_Ixz_ether_area', 'prox_Ixx_hydro_area', 'prox_Iyy_hydro_area', 'prox_Izz_hydro_area', 'prox_Ixx_bar_hydro_area', 'prox_Iyy_bar_hydro_area', 'prox_Izz_bar_hydro_area', 'prox_Ixy_hydro_area', 'prox_Iyz_hydro_area', 'prox_Ixz_hydro_area', 'norm_Ixx_O_area', 'norm_Iyy_O_area', 'norm_Izz_O_area', 'norm_Ixx_bar_O_area', 'norm_Iyy_bar_O_area', 'norm_Izz_bar_O_area', 'norm_Ixy_O_area', 'norm_Iyz_O_area', 'norm_Ixz_O_area', 'norm_Ixx_ether_area', 'norm_Iyy_ether_area', 'norm_Izz_ether_area', 'norm_Ixx_bar_ether_area', 'norm_Iyy_bar_ether_area', 'norm_Izz_bar_ether_area', 'norm_Ixy_ether_area', 'norm_Iyz_ether_area', 'norm_Ixz_ether_area', 'norm_Ixx_hydro_area', 'norm_Iyy_hydro_area', 'norm_Izz_hydro_area', 'norm_Ixx_bar_hydro_area', 'norm_Iyy_bar_hydro_area', 'norm_Izz_bar_hydro_area', 'norm_Ixy_hydro_area', 'norm_Iyz_hydro_area', 'norm_Ixz_hydro_area', 'prox_norm_Ixx_O_area', 'prox_norm_Iyy_O_area', 'prox_norm_Izz_O_area', 'prox_norm_Ixx_bar_O_area', 'prox_norm_Iyy_bar_O_area', 'prox_norm_Izz_bar_O_area', 'prox_norm_Ixy_O_area', 'prox_norm_Iyz_O_area', 'prox_norm_Ixz_O_area', 'prox_norm_Ixx_ether_area', 'prox_norm_Iyy_ether_area', 'prox_norm_Izz_ether_area', 'prox_norm_Ixx_bar_ether_area', 'prox_norm_Iyy_bar_ether_area', 'prox_norm_Izz_bar_ether_area', 'prox_norm_Ixy_ether_area', 'prox_norm_Iyz_ether_area', 'prox_norm_Ixz_ether_area', 'prox_norm_Ixx_hydro_area', 'prox_norm_Iyy_hydro_area', 'prox_norm_Izz_hydro_area', 'prox_norm_Ixx_bar_hydro_area', 'prox_norm_Iyy_bar_hydro_area', 'prox_norm_Izz_bar_hydro_area', 'prox_norm_Ixy_hydro_area', 'prox_norm_Iyz_hydro_area', 'prox_norm_Ixz_hydro_area']\n"
     ]
    }
   ],
   "source": [
    "# indexando atributos\n",
    "FEATURES = list(dados.keys())\n",
    "print(FEATURES)\n",
    "\n",
    "X = dados.reindex(FEATURES, axis=1)"
   ]
  },
  {
   "cell_type": "code",
   "execution_count": 4,
   "id": "78f96d29-edfe-4487-878a-d8faefacba31",
   "metadata": {},
   "outputs": [],
   "source": [
    "# normalização\n",
    "sc = StandardScaler()\n",
    "sc.fit(X)\n",
    "X_norm = sc.transform(X)"
   ]
  },
  {
   "cell_type": "markdown",
   "id": "f2c186a7-2178-489d-a647-10541eff848b",
   "metadata": {},
   "source": [
    "# Principal Component Analysis"
   ]
  },
  {
   "cell_type": "code",
   "execution_count": 5,
   "id": "f9f19dfc-4c44-4eb2-ade3-31e6209367f4",
   "metadata": {},
   "outputs": [],
   "source": [
    "# Fazendo a transformação de PCA\n",
    "pca = PCA()\n",
    "pca.fit(X_norm)\n",
    "X_pca = pca.transform(X_norm)"
   ]
  },
  {
   "cell_type": "code",
   "execution_count": 6,
   "id": "084cbbae-fe53-4dc4-bd3e-6883a6eebf90",
   "metadata": {},
   "outputs": [
    {
     "data": {
      "image/png": "[encoded data removed]",
      "text/plain": [
       "<Figure size 432x288 with 1 Axes>"
      ]
     },
     "metadata": {
      "needs_background": "light"
     },
     "output_type": "display_data"
    }
   ],
   "source": [
    "# plotando dois primeiros componentes\n",
    "plt.scatter(X_norm[:, 0], X_norm[:, 1], alpha=0.2)\n",
    "plt.scatter(X_pca[:, 0], X_pca[:, 1], alpha=0.1)\n",
    "plt.xlabel('component 1')\n",
    "plt.ylabel('component 2')\n",
    "plt.axis('equal');"
   ]
  },
  {
   "cell_type": "code",
   "execution_count": 7,
   "id": "6744f03a-d3e3-4e49-bcf3-ae98b0ccb2a0",
   "metadata": {},
   "outputs": [
    {
     "data": {
      "text/plain": [
       "<mpl_toolkits.mplot3d.art3d.Path3DCollection at 0x112de338d30>"
      ]
     },
     "execution_count": 7,
     "metadata": {},
     "output_type": "execute_result"
    },
    {
     "data": {
      "image/png": "[encoded data removed]",
      "text/plain": [
       "<Figure size 432x288 with 1 Axes>"
      ]
     },
     "metadata": {
      "needs_background": "light"
     },
     "output_type": "display_data"
    }
   ],
   "source": [
    "# plotando tres primeiros componentes\n",
    "from mpl_toolkits import mplot3d\n",
    "\n",
    "fig = plt.figure()\n",
    "ax = plt.axes(projection='3d')\n",
    "ax.scatter3D(X_pca[:, 0], X_pca[:, 1], X_pca[:, 2], c=bruto_completo[\"Fermi_energy\"].values)"
   ]
  },
  {
   "cell_type": "code",
   "execution_count": 8,
   "id": "1d04780b-6994-48d9-bb44-e34b0d0aa944",
   "metadata": {},
   "outputs": [
    {
     "data": {
      "text/html": [
       "<div>\n",
       "<style scoped>\n",
       "    .dataframe tbody tr th:only-of-type {\n",
       "        vertical-align: middle;\n",
       "    }\n",
       "\n",
       "    .dataframe tbody tr th {\n",
       "        vertical-align: top;\n",
       "    }\n",
       "\n",
       "    .dataframe thead th {\n",
       "        text-align: right;\n",
       "    }\n",
       "</style>\n",
       "<table border=\"1\" class=\"dataframe\">\n",
       "  <thead>\n",
       "    <tr style=\"text-align: right;\">\n",
       "      <th></th>\n",
       "      <th>PC1</th>\n",
       "      <th>PC2</th>\n",
       "      <th>PC3</th>\n",
       "      <th>PC4</th>\n",
       "      <th>PC5</th>\n",
       "      <th>PC6</th>\n",
       "      <th>PC7</th>\n",
       "      <th>PC8</th>\n",
       "      <th>PC9</th>\n",
       "      <th>PC10</th>\n",
       "      <th>...</th>\n",
       "      <th>PC640</th>\n",
       "      <th>PC641</th>\n",
       "      <th>PC642</th>\n",
       "      <th>PC643</th>\n",
       "      <th>PC644</th>\n",
       "      <th>PC645</th>\n",
       "      <th>PC646</th>\n",
       "      <th>PC647</th>\n",
       "      <th>PC648</th>\n",
       "      <th>PC649</th>\n",
       "    </tr>\n",
       "  </thead>\n",
       "  <tbody>\n",
       "    <tr>\n",
       "      <th>C</th>\n",
       "      <td>-0.006772</td>\n",
       "      <td>0.085127</td>\n",
       "      <td>0.015486</td>\n",
       "      <td>0.024565</td>\n",
       "      <td>-0.002083</td>\n",
       "      <td>-0.001013</td>\n",
       "      <td>-0.002243</td>\n",
       "      <td>-0.018484</td>\n",
       "      <td>0.056690</td>\n",
       "      <td>0.026901</td>\n",
       "      <td>...</td>\n",
       "      <td>0.000000e+00</td>\n",
       "      <td>-0.000000e+00</td>\n",
       "      <td>0.000000e+00</td>\n",
       "      <td>0.000000e+00</td>\n",
       "      <td>-0.000000e+00</td>\n",
       "      <td>0.000000e+00</td>\n",
       "      <td>-0.000000e+00</td>\n",
       "      <td>0.000000e+00</td>\n",
       "      <td>-0.000000e+00</td>\n",
       "      <td>0.000000e+00</td>\n",
       "    </tr>\n",
       "    <tr>\n",
       "      <th>H</th>\n",
       "      <td>0.025345</td>\n",
       "      <td>0.083335</td>\n",
       "      <td>-0.027824</td>\n",
       "      <td>0.011479</td>\n",
       "      <td>-0.001176</td>\n",
       "      <td>0.003700</td>\n",
       "      <td>-0.000625</td>\n",
       "      <td>0.012678</td>\n",
       "      <td>-0.026709</td>\n",
       "      <td>-0.018539</td>\n",
       "      <td>...</td>\n",
       "      <td>1.163359e-04</td>\n",
       "      <td>-1.142400e-04</td>\n",
       "      <td>3.225575e-05</td>\n",
       "      <td>2.841543e-04</td>\n",
       "      <td>-8.123420e-04</td>\n",
       "      <td>-2.424619e-04</td>\n",
       "      <td>-1.159900e-04</td>\n",
       "      <td>2.350565e-04</td>\n",
       "      <td>7.138174e-04</td>\n",
       "      <td>1.138932e-03</td>\n",
       "    </tr>\n",
       "    <tr>\n",
       "      <th>O</th>\n",
       "      <td>0.041393</td>\n",
       "      <td>0.077523</td>\n",
       "      <td>-0.009302</td>\n",
       "      <td>0.000682</td>\n",
       "      <td>0.000689</td>\n",
       "      <td>0.002081</td>\n",
       "      <td>0.000778</td>\n",
       "      <td>-0.000510</td>\n",
       "      <td>-0.012163</td>\n",
       "      <td>-0.008690</td>\n",
       "      <td>...</td>\n",
       "      <td>-3.656801e-14</td>\n",
       "      <td>1.081198e-14</td>\n",
       "      <td>1.697735e-14</td>\n",
       "      <td>2.165213e-15</td>\n",
       "      <td>-4.339444e-14</td>\n",
       "      <td>1.660103e-15</td>\n",
       "      <td>-7.303398e-15</td>\n",
       "      <td>-3.334887e-15</td>\n",
       "      <td>4.894017e-14</td>\n",
       "      <td>4.855522e-14</td>\n",
       "    </tr>\n",
       "    <tr>\n",
       "      <th>atom_number_total</th>\n",
       "      <td>0.010851</td>\n",
       "      <td>0.088520</td>\n",
       "      <td>0.001987</td>\n",
       "      <td>0.017776</td>\n",
       "      <td>-0.001363</td>\n",
       "      <td>0.000597</td>\n",
       "      <td>-0.001335</td>\n",
       "      <td>-0.009221</td>\n",
       "      <td>0.027286</td>\n",
       "      <td>0.011090</td>\n",
       "      <td>...</td>\n",
       "      <td>5.268980e-14</td>\n",
       "      <td>1.463480e-14</td>\n",
       "      <td>2.924873e-14</td>\n",
       "      <td>4.757045e-15</td>\n",
       "      <td>7.411323e-14</td>\n",
       "      <td>7.443875e-15</td>\n",
       "      <td>1.977143e-15</td>\n",
       "      <td>1.689325e-14</td>\n",
       "      <td>-1.000108e-13</td>\n",
       "      <td>-1.288554e-14</td>\n",
       "    </tr>\n",
       "    <tr>\n",
       "      <th>C_concentration</th>\n",
       "      <td>-0.072351</td>\n",
       "      <td>0.000122</td>\n",
       "      <td>0.040148</td>\n",
       "      <td>0.009302</td>\n",
       "      <td>-0.001210</td>\n",
       "      <td>0.001067</td>\n",
       "      <td>-0.000094</td>\n",
       "      <td>-0.018326</td>\n",
       "      <td>0.077544</td>\n",
       "      <td>0.042938</td>\n",
       "      <td>...</td>\n",
       "      <td>-5.723606e-12</td>\n",
       "      <td>8.026937e-12</td>\n",
       "      <td>-8.165213e-12</td>\n",
       "      <td>1.729021e-11</td>\n",
       "      <td>-4.268121e-12</td>\n",
       "      <td>-1.297293e-12</td>\n",
       "      <td>3.040274e-12</td>\n",
       "      <td>3.058735e-12</td>\n",
       "      <td>1.122926e-11</td>\n",
       "      <td>-8.988015e-12</td>\n",
       "    </tr>\n",
       "    <tr>\n",
       "      <th>...</th>\n",
       "      <td>...</td>\n",
       "      <td>...</td>\n",
       "      <td>...</td>\n",
       "      <td>...</td>\n",
       "      <td>...</td>\n",
       "      <td>...</td>\n",
       "      <td>...</td>\n",
       "      <td>...</td>\n",
       "      <td>...</td>\n",
       "      <td>...</td>\n",
       "      <td>...</td>\n",
       "      <td>...</td>\n",
       "      <td>...</td>\n",
       "      <td>...</td>\n",
       "      <td>...</td>\n",
       "      <td>...</td>\n",
       "      <td>...</td>\n",
       "      <td>...</td>\n",
       "      <td>...</td>\n",
       "      <td>...</td>\n",
       "      <td>...</td>\n",
       "    </tr>\n",
       "    <tr>\n",
       "      <th>prox_norm_Iyy_bar_hydro_area</th>\n",
       "      <td>0.053969</td>\n",
       "      <td>-0.062664</td>\n",
       "      <td>-0.011138</td>\n",
       "      <td>0.019819</td>\n",
       "      <td>-0.002054</td>\n",
       "      <td>-0.000290</td>\n",
       "      <td>-0.001348</td>\n",
       "      <td>-0.018626</td>\n",
       "      <td>0.025604</td>\n",
       "      <td>0.006678</td>\n",
       "      <td>...</td>\n",
       "      <td>-3.007462e-05</td>\n",
       "      <td>5.761245e-04</td>\n",
       "      <td>-1.172226e-03</td>\n",
       "      <td>1.457276e-03</td>\n",
       "      <td>7.345335e-05</td>\n",
       "      <td>3.212093e-04</td>\n",
       "      <td>-2.478578e-04</td>\n",
       "      <td>-1.591266e-04</td>\n",
       "      <td>-2.608955e-04</td>\n",
       "      <td>4.142039e-03</td>\n",
       "    </tr>\n",
       "    <tr>\n",
       "      <th>prox_norm_Izz_bar_hydro_area</th>\n",
       "      <td>0.054088</td>\n",
       "      <td>-0.062971</td>\n",
       "      <td>-0.010966</td>\n",
       "      <td>0.020033</td>\n",
       "      <td>-0.002083</td>\n",
       "      <td>-0.000211</td>\n",
       "      <td>-0.001384</td>\n",
       "      <td>-0.018490</td>\n",
       "      <td>0.024498</td>\n",
       "      <td>0.006219</td>\n",
       "      <td>...</td>\n",
       "      <td>-2.045119e-04</td>\n",
       "      <td>1.506353e-03</td>\n",
       "      <td>1.015098e-04</td>\n",
       "      <td>2.117931e-04</td>\n",
       "      <td>8.134634e-04</td>\n",
       "      <td>8.101829e-05</td>\n",
       "      <td>1.913805e-04</td>\n",
       "      <td>-1.764200e-04</td>\n",
       "      <td>-3.451952e-04</td>\n",
       "      <td>-2.565179e-04</td>\n",
       "    </tr>\n",
       "    <tr>\n",
       "      <th>prox_norm_Ixy_hydro_area</th>\n",
       "      <td>0.001719</td>\n",
       "      <td>0.001588</td>\n",
       "      <td>-0.001027</td>\n",
       "      <td>-0.006205</td>\n",
       "      <td>-0.035926</td>\n",
       "      <td>-0.220084</td>\n",
       "      <td>-0.103021</td>\n",
       "      <td>0.017022</td>\n",
       "      <td>0.001988</td>\n",
       "      <td>-0.000859</td>\n",
       "      <td>...</td>\n",
       "      <td>-7.577706e-06</td>\n",
       "      <td>1.213876e-04</td>\n",
       "      <td>2.440626e-04</td>\n",
       "      <td>-2.120037e-04</td>\n",
       "      <td>-1.488593e-04</td>\n",
       "      <td>1.575370e-06</td>\n",
       "      <td>-8.916417e-05</td>\n",
       "      <td>6.515297e-06</td>\n",
       "      <td>-1.201036e-05</td>\n",
       "      <td>6.326968e-02</td>\n",
       "    </tr>\n",
       "    <tr>\n",
       "      <th>prox_norm_Iyz_hydro_area</th>\n",
       "      <td>-0.000168</td>\n",
       "      <td>0.002363</td>\n",
       "      <td>-0.002569</td>\n",
       "      <td>-0.010146</td>\n",
       "      <td>-0.207952</td>\n",
       "      <td>0.063381</td>\n",
       "      <td>-0.068050</td>\n",
       "      <td>-0.026250</td>\n",
       "      <td>-0.008466</td>\n",
       "      <td>0.000332</td>\n",
       "      <td>...</td>\n",
       "      <td>4.876545e-04</td>\n",
       "      <td>-5.614325e-04</td>\n",
       "      <td>-2.897709e-04</td>\n",
       "      <td>6.680361e-05</td>\n",
       "      <td>2.060566e-04</td>\n",
       "      <td>2.893855e-05</td>\n",
       "      <td>7.343082e-05</td>\n",
       "      <td>-1.659225e-05</td>\n",
       "      <td>-1.185671e-05</td>\n",
       "      <td>-6.306086e-03</td>\n",
       "    </tr>\n",
       "    <tr>\n",
       "      <th>prox_norm_Ixz_hydro_area</th>\n",
       "      <td>-0.000762</td>\n",
       "      <td>0.000093</td>\n",
       "      <td>-0.002436</td>\n",
       "      <td>0.000803</td>\n",
       "      <td>0.091174</td>\n",
       "      <td>0.073594</td>\n",
       "      <td>-0.197575</td>\n",
       "      <td>-0.009319</td>\n",
       "      <td>0.000500</td>\n",
       "      <td>-0.000221</td>\n",
       "      <td>...</td>\n",
       "      <td>-2.379039e-05</td>\n",
       "      <td>7.092148e-05</td>\n",
       "      <td>3.904578e-05</td>\n",
       "      <td>-4.827519e-05</td>\n",
       "      <td>1.671193e-05</td>\n",
       "      <td>4.334604e-06</td>\n",
       "      <td>3.962406e-07</td>\n",
       "      <td>-2.400391e-06</td>\n",
       "      <td>-1.026699e-05</td>\n",
       "      <td>-1.460584e-02</td>\n",
       "    </tr>\n",
       "  </tbody>\n",
       "</table>\n",
       "<p>649 rows × 649 columns</p>\n",
       "</div>"
      ],
      "text/plain": [
       "                                   PC1       PC2       PC3       PC4  \\\n",
       "C                            -0.006772  0.085127  0.015486  0.024565   \n",
       "H                             0.025345  0.083335 -0.027824  0.011479   \n",
       "O                             0.041393  0.077523 -0.009302  0.000682   \n",
       "atom_number_total             0.010851  0.088520  0.001987  0.017776   \n",
       "C_concentration              -0.072351  0.000122  0.040148  0.009302   \n",
       "...                                ...       ...       ...       ...   \n",
       "prox_norm_Iyy_bar_hydro_area  0.053969 -0.062664 -0.011138  0.019819   \n",
       "prox_norm_Izz_bar_hydro_area  0.054088 -0.062971 -0.010966  0.020033   \n",
       "prox_norm_Ixy_hydro_area      0.001719  0.001588 -0.001027 -0.006205   \n",
       "prox_norm_Iyz_hydro_area     -0.000168  0.002363 -0.002569 -0.010146   \n",
       "prox_norm_Ixz_hydro_area     -0.000762  0.000093 -0.002436  0.000803   \n",
       "\n",
       "                                   PC5       PC6       PC7       PC8  \\\n",
       "C                            -0.002083 -0.001013 -0.002243 -0.018484   \n",
       "H                            -0.001176  0.003700 -0.000625  0.012678   \n",
       "O                             0.000689  0.002081  0.000778 -0.000510   \n",
       "atom_number_total            -0.001363  0.000597 -0.001335 -0.009221   \n",
       "C_concentration              -0.001210  0.001067 -0.000094 -0.018326   \n",
       "...                                ...       ...       ...       ...   \n",
       "prox_norm_Iyy_bar_hydro_area -0.002054 -0.000290 -0.001348 -0.018626   \n",
       "prox_norm_Izz_bar_hydro_area -0.002083 -0.000211 -0.001384 -0.018490   \n",
       "prox_norm_Ixy_hydro_area     -0.035926 -0.220084 -0.103021  0.017022   \n",
       "prox_norm_Iyz_hydro_area     -0.207952  0.063381 -0.068050 -0.026250   \n",
       "prox_norm_Ixz_hydro_area      0.091174  0.073594 -0.197575 -0.009319   \n",
       "\n",
       "                                   PC9      PC10  ...         PC640  \\\n",
       "C                             0.056690  0.026901  ...  0.000000e+00   \n",
       "H                            -0.026709 -0.018539  ...  1.163359e-04   \n",
       "O                            -0.012163 -0.008690  ... -3.656801e-14   \n",
       "atom_number_total             0.027286  0.011090  ...  5.268980e-14   \n",
       "C_concentration               0.077544  0.042938  ... -5.723606e-12   \n",
       "...                                ...       ...  ...           ...   \n",
       "prox_norm_Iyy_bar_hydro_area  0.025604  0.006678  ... -3.007462e-05   \n",
       "prox_norm_Izz_bar_hydro_area  0.024498  0.006219  ... -2.045119e-04   \n",
       "prox_norm_Ixy_hydro_area      0.001988 -0.000859  ... -7.577706e-06   \n",
       "prox_norm_Iyz_hydro_area     -0.008466  0.000332  ...  4.876545e-04   \n",
       "prox_norm_Ixz_hydro_area      0.000500 -0.000221  ... -2.379039e-05   \n",
       "\n",
       "                                     PC641         PC642         PC643  \\\n",
       "C                            -0.000000e+00  0.000000e+00  0.000000e+00   \n",
       "H                            -1.142400e-04  3.225575e-05  2.841543e-04   \n",
       "O                             1.081198e-14  1.697735e-14  2.165213e-15   \n",
       "atom_number_total             1.463480e-14  2.924873e-14  4.757045e-15   \n",
       "C_concentration               8.026937e-12 -8.165213e-12  1.729021e-11   \n",
       "...                                    ...           ...           ...   \n",
       "prox_norm_Iyy_bar_hydro_area  5.761245e-04 -1.172226e-03  1.457276e-03   \n",
       "prox_norm_Izz_bar_hydro_area  1.506353e-03  1.015098e-04  2.117931e-04   \n",
       "prox_norm_Ixy_hydro_area      1.213876e-04  2.440626e-04 -2.120037e-04   \n",
       "prox_norm_Iyz_hydro_area     -5.614325e-04 -2.897709e-04  6.680361e-05   \n",
       "prox_norm_Ixz_hydro_area      7.092148e-05  3.904578e-05 -4.827519e-05   \n",
       "\n",
       "                                     PC644         PC645         PC646  \\\n",
       "C                            -0.000000e+00  0.000000e+00 -0.000000e+00   \n",
       "H                            -8.123420e-04 -2.424619e-04 -1.159900e-04   \n",
       "O                            -4.339444e-14  1.660103e-15 -7.303398e-15   \n",
       "atom_number_total             7.411323e-14  7.443875e-15  1.977143e-15   \n",
       "C_concentration              -4.268121e-12 -1.297293e-12  3.040274e-12   \n",
       "...                                    ...           ...           ...   \n",
       "prox_norm_Iyy_bar_hydro_area  7.345335e-05  3.212093e-04 -2.478578e-04   \n",
       "prox_norm_Izz_bar_hydro_area  8.134634e-04  8.101829e-05  1.913805e-04   \n",
       "prox_norm_Ixy_hydro_area     -1.488593e-04  1.575370e-06 -8.916417e-05   \n",
       "prox_norm_Iyz_hydro_area      2.060566e-04  2.893855e-05  7.343082e-05   \n",
       "prox_norm_Ixz_hydro_area      1.671193e-05  4.334604e-06  3.962406e-07   \n",
       "\n",
       "                                     PC647         PC648         PC649  \n",
       "C                             0.000000e+00 -0.000000e+00  0.000000e+00  \n",
       "H                             2.350565e-04  7.138174e-04  1.138932e-03  \n",
       "O                            -3.334887e-15  4.894017e-14  4.855522e-14  \n",
       "atom_number_total             1.689325e-14 -1.000108e-13 -1.288554e-14  \n",
       "C_concentration               3.058735e-12  1.122926e-11 -8.988015e-12  \n",
       "...                                    ...           ...           ...  \n",
       "prox_norm_Iyy_bar_hydro_area -1.591266e-04 -2.608955e-04  4.142039e-03  \n",
       "prox_norm_Izz_bar_hydro_area -1.764200e-04 -3.451952e-04 -2.565179e-04  \n",
       "prox_norm_Ixy_hydro_area      6.515297e-06 -1.201036e-05  6.326968e-02  \n",
       "prox_norm_Iyz_hydro_area     -1.659225e-05 -1.185671e-05 -6.306086e-03  \n",
       "prox_norm_Ixz_hydro_area     -2.400391e-06 -1.026699e-05 -1.460584e-02  \n",
       "\n",
       "[649 rows x 649 columns]"
      ]
     },
     "execution_count": 8,
     "metadata": {},
     "output_type": "execute_result"
    }
   ],
   "source": [
    "# calculando a matriz de loadings\n",
    "component_names = [f\"PC{i+1}\" for i in range(X_pca.shape[1])]\n",
    "X_pca = pd.DataFrame(X_pca, columns=component_names)\n",
    "X_pca.head()\n",
    "\n",
    "loadings = pd.DataFrame(\n",
    "    pca.components_.T,  # transpose the matrix of loadings\n",
    "    columns=component_names,  # so the columns are the principal components\n",
    "    index=X.columns,  # and the rows are the original features\n",
    ")\n",
    "loadings"
   ]
  },
  {
   "cell_type": "code",
   "execution_count": 9,
   "id": "a4106dc2-44de-40d9-ae90-f4412b67782d",
   "metadata": {},
   "outputs": [
    {
     "data": {
      "text/plain": [
       "array([<AxesSubplot:title={'center':'Variancia explicada'}, xlabel='Componente'>,\n",
       "       <AxesSubplot:title={'center':'Variância acumulada'}, xlabel='Componente'>],\n",
       "      dtype=object)"
      ]
     },
     "execution_count": 9,
     "metadata": {},
     "output_type": "execute_result"
    },
    {
     "data": {
      "image/png": "[encoded data removed]",
      "text/plain": [
       "<Figure size 800x400 with 2 Axes>"
      ]
     },
     "metadata": {
      "needs_background": "light"
     },
     "output_type": "display_data"
    }
   ],
   "source": [
    "# plotando a variância para ver quantas componentes são importantes\n",
    "def plot_variance(pca, width=8, dpi=100):\n",
    "    # Criar figura\n",
    "    fig, axs = plt.subplots(1, 2)\n",
    "    n = pca.n_components_\n",
    "    grid = np.arange(1, n + 1)\n",
    "    \n",
    "    # Fazer o cálculo da variância explicada\n",
    "    evr = pca.explained_variance_ratio_\n",
    "    axs[0].bar(grid, evr)\n",
    "    axs[0].set(\n",
    "        xlabel=\"Componente\", \n",
    "        title=\"Variancia explicada\", \n",
    "        ylim=(0.0, 0.2)\n",
    "    )\n",
    "    \n",
    "    # Variância acumulada\n",
    "    cv = np.cumsum(evr)\n",
    "    axs[1].plot(np.r_[0, grid], np.r_[0, cv], \"o-\")\n",
    "    axs[1].set(\n",
    "        xlabel=\"Componente\", \n",
    "        title=\"Variância acumulada\", \n",
    "        ylim=(0.0, 1.0)\n",
    "    )\n",
    "    \n",
    "    # Detalhes da figura\n",
    "    fig.set(figwidth=8, dpi=100)\n",
    "    return axs\n",
    "\n",
    "# Graficar\n",
    "plot_variance(pca)\n"
   ]
  },
  {
   "cell_type": "markdown",
   "id": "ff99a8fb-df72-43df-a431-07786e1d1f94",
   "metadata": {},
   "source": [
    "## Vemos que com cerca de 100 componentes, quase toda a complexidade do sistema já é compreendida"
   ]
  },
  {
   "cell_type": "code",
   "execution_count": 10,
   "id": "5c9127e8-93f1-4e32-a832-e3776a261bcd",
   "metadata": {},
   "outputs": [
    {
     "name": "stdout",
     "output_type": "stream",
     "text": [
      "20396 20396\n",
      "             PC1        PC2        PC3       PC4       PC5       PC6  \\\n",
      "0      -7.681818  -5.067397  -8.184635  2.151961  0.142412  0.470457   \n",
      "1      -8.056346  -5.248189  -8.795334  1.790727 -0.767602 -3.349599   \n",
      "2      -5.915746  -5.098263  -8.975259  2.453035 -0.195090  4.442486   \n",
      "3      -7.826873  -5.402287  -8.118646  2.954057  0.174344  1.546050   \n",
      "4      -8.338267  -5.236509  -7.384683  1.910704 -0.674772  0.440800   \n",
      "...          ...        ...        ...       ...       ...       ...   \n",
      "20391  26.453409  14.398719  14.727526  4.068422 -2.295120 -8.026951   \n",
      "20392  26.216464  14.682567  14.397345  2.769930  6.865332  0.878376   \n",
      "20393  27.498255  15.008001  14.044858  5.575967  5.607925  3.679714   \n",
      "20394  27.306297  14.496253  15.413836  5.033438 -3.425159  6.179218   \n",
      "20395  26.970648  14.590271  14.176886  5.366007 -1.479603 -2.778557   \n",
      "\n",
      "             PC7        PC8       PC9      PC10  ...         PC642  \\\n",
      "0       0.274933  -0.249166 -1.726827 -0.735870  ...  9.910677e-17   \n",
      "1      -1.946281   1.069246 -2.150916 -0.883836  ... -3.890003e-17   \n",
      "2       1.570848   4.666441 -2.360541  5.454667  ...  1.501094e-17   \n",
      "3       0.973297  -0.240626 -2.655200 -1.493099  ... -3.072200e-17   \n",
      "4       1.234641   0.281235 -3.476922 -1.733317  ... -9.057889e-18   \n",
      "...          ...        ...       ...       ...  ...           ...   \n",
      "20391  18.168190  -9.349129 -3.059952 -3.980954  ...  6.556922e-17   \n",
      "20392 -14.580302 -13.567372 -5.924547 -3.140827  ...  2.112628e-16   \n",
      "20393  -0.263032  -9.575974 -3.569643 -3.080866  ... -1.314692e-16   \n",
      "20394 -16.870581 -12.964128 -4.963843 -2.800782  ...  3.088523e-16   \n",
      "20395  -5.537462 -11.111181 -6.759789 -0.748261  ...  6.299642e-17   \n",
      "\n",
      "              PC643         PC644         PC645         PC646         PC647  \\\n",
      "0     -4.116486e-17 -1.488419e-18  4.046094e-17  4.350360e-17 -1.413944e-17   \n",
      "1     -8.606196e-17  1.234632e-16  6.884359e-18  3.081102e-17  1.173046e-17   \n",
      "2      2.226489e-16 -9.859021e-17 -5.442641e-17  1.277243e-16  8.011197e-17   \n",
      "3     -3.323612e-17  8.732986e-18  1.309457e-18  3.084142e-17  5.742436e-18   \n",
      "4      1.427249e-17  6.583144e-18  1.212850e-17  2.013985e-17 -1.191698e-17   \n",
      "...             ...           ...           ...           ...           ...   \n",
      "20391 -5.626612e-16 -6.113137e-17 -7.775542e-17 -1.043443e-16  2.481016e-17   \n",
      "20392  2.616021e-16 -8.906099e-17 -4.804025e-17 -3.268893e-17 -8.973043e-17   \n",
      "20393  2.149064e-16 -1.541378e-18  3.684253e-18 -6.122900e-17 -7.412278e-17   \n",
      "20394 -1.498506e-17  1.817873e-16 -1.264296e-17 -8.890127e-17 -1.847047e-17   \n",
      "20395 -2.491390e-17 -1.006149e-16  2.486776e-17 -1.233342e-17 -3.094125e-17   \n",
      "\n",
      "              PC648         PC649  energy_per_atom  Fermi_energy  \n",
      "0     -5.729621e-17  3.561730e-16       -44.348071       -4.6472  \n",
      "1     -6.651021e-17  1.285061e-16       -44.301014       -4.6371  \n",
      "2      2.694119e-16 -8.002695e-16       -44.330306       -4.6591  \n",
      "3     -4.709419e-17  4.091532e-16       -44.335491       -4.7337  \n",
      "4     -2.617789e-17  4.028328e-17       -44.309075       -4.5991  \n",
      "...             ...           ...              ...           ...  \n",
      "20391  1.704950e-16 -3.748817e-16       -53.391940       -5.8973  \n",
      "20392  3.829305e-18  1.576799e-16       -53.400819       -5.5005  \n",
      "20393  1.344580e-16  3.549704e-16       -53.406975       -5.6595  \n",
      "20394 -2.412997e-17  4.354156e-16       -53.409704       -5.6054  \n",
      "20395  5.750004e-17 -2.671474e-16       -53.403511       -5.8262  \n",
      "\n",
      "[20396 rows x 651 columns]\n"
     ]
    }
   ],
   "source": [
    "# adicionando os targets ao dataset de PCA\n",
    "E = []\n",
    "i = 0\n",
    "while i < len(bruto_completo['C']):\n",
    "    E.append(bruto_completo['total_energy'][i]/bruto_completo['atom_number_total'][i])\n",
    "    i = i+1\n",
    "print(len(bruto_completo['total_energy']), len(E))\n",
    "dados_pca = X_pca.assign(energy_per_atom = E)\n",
    "dados_pca = dados_pca.assign(Fermi_energy = bruto_completo['Fermi_energy'])\n",
    "print(dados_pca)"
   ]
  },
  {
   "cell_type": "markdown",
   "id": "dda12521-7cde-46e5-9b12-d32f41a9bcbe",
   "metadata": {},
   "source": [
    "# Floresta Aleatória com PCA"
   ]
  },
  {
   "cell_type": "markdown",
   "id": "b3623f5f-74f9-42a3-88ac-dbb8094fca75",
   "metadata": {},
   "source": [
    "## Separação teste/treino para Energia de Fermi:"
   ]
  },
  {
   "cell_type": "code",
   "execution_count": 11,
   "id": "1cc5b313-bbdb-4d59-a015-336de43e96ab",
   "metadata": {},
   "outputs": [],
   "source": [
    "# Define o tamanho dos dados de teste e de treino e cria os dataframes\n",
    "\n",
    "from sklearn.model_selection import train_test_split\n",
    "\n",
    "df_fermi = dados_pca.copy()\n",
    "\n",
    "#escolhe o tamanho do nosso teste\n",
    "TAMANHO_TESTE = 0.1\n",
    "# fixa quais dados que vão ser selecionados para teste e treino\n",
    "SEMENTE_ALEATORIA = 24569\n",
    "DATASET_NAME = \"df_fermi\"\n",
    "# faz uma lista de features que queremos usar, no caso são todas\n",
    "FEATURES = list(df_fermi.keys()[0:10])\n",
    "\n",
    "#o que queremos achar\n",
    "TARGET = [\"Fermi_energy\"]\n",
    "\n",
    "\n",
    "indices = df_fermi.index\n",
    "indices_treino, indices_teste = train_test_split(\n",
    "    indices, test_size=TAMANHO_TESTE, random_state=SEMENTE_ALEATORIA\n",
    ")\n",
    "\n",
    "df_treino_fe = df_fermi.loc[indices_treino]\n",
    "df_teste_fe = df_fermi.loc[indices_teste]\n",
    "\n",
    "# observe que usamos o .values aqui pois queremos apenas os valores\n",
    "x_treino_fe = df_treino_fe.reindex(FEATURES, axis=1).values\n",
    "y_treino_fe = df_treino_fe.reindex(TARGET, axis=1).values\n",
    "x_teste_fe = df_teste_fe.reindex(FEATURES, axis=1).values\n",
    "y_teste_fe = df_teste_fe.reindex(TARGET, axis=1).values"
   ]
  },
  {
   "cell_type": "code",
   "execution_count": 24,
   "id": "2e0e0bb8-36b3-4957-a58b-06185a261652",
   "metadata": {},
   "outputs": [
    {
     "name": "stdout",
     "output_type": "stream",
     "text": [
      "2040\n"
     ]
    }
   ],
   "source": [
    "print(len(x_teste_fe))"
   ]
  },
  {
   "cell_type": "markdown",
   "id": "dd136d0e-4286-4bb7-b10b-86557ebaadc8",
   "metadata": {},
   "source": [
    "### Baseline"
   ]
  },
  {
   "cell_type": "code",
   "execution_count": 20,
   "id": "ddd26d21-ed62-4ed3-9c08-6e468b6fb249",
   "metadata": {},
   "outputs": [],
   "source": [
    "from sklearn.metrics import mean_squared_error\n",
    "RMSE = mean_squared_error"
   ]
  },
  {
   "cell_type": "code",
   "execution_count": 26,
   "id": "20c52369-891b-4be2-a4a2-546c1be5b761",
   "metadata": {},
   "outputs": [
    {
     "name": "stdout",
     "output_type": "stream",
     "text": [
      "[-4.95704166 -4.95704166 -4.95704166 ... -4.95704166 -4.95704166\n",
      " -4.95704166]\n"
     ]
    },
    {
     "data": {
      "text/plain": [
       "0.0909103434593051"
      ]
     },
     "execution_count": 26,
     "metadata": {},
     "output_type": "execute_result"
    }
   ],
   "source": [
    "# Criar um modelo regressor \"dummy\"\n",
    "from sklearn.dummy import DummyRegressor\n",
    "\n",
    "# cria o modelo\n",
    "modelo_baseline = DummyRegressor()\n",
    "\n",
    "# treina o modelo\n",
    "modelo_baseline.fit(x_treino_fe, y_treino_fe)\n",
    "\n",
    "# realiza uma previsão usando o modelo treinado\n",
    "previsao_fe = modelo_baseline.predict(x_teste_fe)\n",
    "\n",
    "print(previsao_fe)\n",
    "# testando a qualidade do nosso modelo:\n",
    "RMSE(previsao_fe, y_teste_fe)"
   ]
  },
  {
   "cell_type": "markdown",
   "id": "64976b3b-143e-4143-89a0-e0561c6d342a",
   "metadata": {},
   "source": [
    "## Separação teste/treino para Energia por Átomo:"
   ]
  },
  {
   "cell_type": "code",
   "execution_count": 27,
   "id": "2bc4740a-a81b-40b2-b5bf-21254f817624",
   "metadata": {},
   "outputs": [],
   "source": [
    "# Criar os dados de teste e de treino\n",
    "df_energia = dados_pca.copy()\n",
    "#escolhe o tamanho do nosso teste\n",
    "tamanho_teste = 0.1\n",
    "# fixa quais dados que vão ser selecionados para teste e treino\n",
    "semente_aleatoria = 24569\n",
    "# faz uma lista de features que queremos usar, no caso são todas\n",
    "features = list(df_energia.keys()[0:10])\n",
    "\n",
    "#o que queremos achar\n",
    "target = [\"energy_per_atom\"]\n",
    "\n",
    "\n",
    "indices = df_energia.index\n",
    "indices_treino, indices_teste = train_test_split(\n",
    "    indices, test_size=tamanho_teste, random_state= semente_aleatoria\n",
    ")\n",
    "\n",
    "df_treino_en = df_energia.loc[indices_treino]\n",
    "df_teste_en = df_energia.loc[indices_teste]\n",
    "\n",
    "# observe que usamos o .values aqui pois queremos apenas os valores\n",
    "x_treino_en = df_treino_en.reindex(features, axis=1).values\n",
    "y_treino_en = df_treino_en.reindex(target, axis=1).values\n",
    "x_teste_en = df_teste_en.reindex(features, axis=1).values\n",
    "y_teste_en = df_teste_en.reindex(target, axis=1).values"
   ]
  },
  {
   "cell_type": "code",
   "execution_count": 28,
   "id": "5537b3f4-a6aa-4371-9aad-d8b388fa33cc",
   "metadata": {},
   "outputs": [
    {
     "name": "stdout",
     "output_type": "stream",
     "text": [
      "[-47.41313446 -47.41313446 -47.41313446 ... -47.41313446 -47.41313446\n",
      " -47.41313446]\n"
     ]
    },
    {
     "data": {
      "text/plain": [
       "5.539576756227252"
      ]
     },
     "execution_count": 28,
     "metadata": {},
     "output_type": "execute_result"
    }
   ],
   "source": [
    "\n",
    "modelo_baseline = DummyRegressor()\n",
    "\n",
    "# treina o modelo\n",
    "modelo_baseline.fit(x_treino_en, y_treino_en)\n",
    "\n",
    "# realiza uma previsão usando o modelo treinado\n",
    "previsao_en = modelo_baseline.predict(x_teste_en)\n",
    "\n",
    "print(previsao_en)\n",
    "# testando a qualidade do nosso modelo:\n",
    "RMSE(y_teste_en, previsao_en)"
   ]
  },
  {
   "cell_type": "code",
   "execution_count": 29,
   "id": "e12d5202-4a38-43be-b9ad-d076b080ed65",
   "metadata": {},
   "outputs": [],
   "source": [
    "from itertools import product\n",
    "from sklearn.ensemble import RandomForestRegressor\n",
    "\n",
    "\n",
    "def hiper_floresta(x_treino, y_treino, x_teste, y_teste, target_name):\n",
    "    \"Função que define modelo de floresta aleatória e testa qual hiperparâmetro será melhor\"\n",
    "    NUM_ARVORES = [100,200,300]\n",
    "    NUM_FOLHAS = [None,100,20]\n",
    "    NUM_PROFUNDIDADE = [None,5,10]\n",
    "    RMSEl = {}\n",
    "\n",
    "    #Variar o número dos hiperparâmetros\n",
    "    for n_folhas, n_profundidade, n_arvores in product(\n",
    "        NUM_FOLHAS, NUM_PROFUNDIDADE, NUM_ARVORES\n",
    "    ):\n",
    "        modelo_rf = RandomForestRegressor(\n",
    "            n_estimators=n_arvores,\n",
    "            max_leaf_nodes=n_folhas,\n",
    "            max_depth=n_profundidade,\n",
    "            random_state=SEMENTE_ALEATORIA,\n",
    "            n_jobs=4,\n",
    "        )\n",
    "\n",
    "        modelo_rf.fit(x_treino, y_treino.ravel()) \n",
    "\n",
    "        y_verdadeiro = (y_teste)\n",
    "        y_previsao = modelo_rf.predict(x_teste)\n",
    "        \n",
    "        #testa RMSE para cada caso, que identificará o melhor hiperparâmetro\n",
    "        RMSE = mean_squared_error(y_verdadeiro, y_previsao, squared=False) \n",
    "        RMSEl.update ({RMSE: [n_folhas, n_profundidade, n_arvores]})\n",
    "    \n",
    "    m = min(RMSEl.keys())\n",
    "\n",
    "    print(\n",
    "        f\"O menor RMSE achado do modelo RF usando para target_name \"\n",
    "        f\"n_estimators={RMSEl[m][2]} max_leaf_nodes={RMSEl[m][0]} \"\n",
    "        f\"e max_depth={RMSEl[m][1]} foi de {m} eV.\"\n",
    "    )\n",
    "    return RMSEl[m][0], RMSEl[m][1], RMSEl[m][2]"
   ]
  },
  {
   "cell_type": "code",
   "execution_count": 32,
   "id": "0fba69ed-2345-4341-afa4-1b068b21aba6",
   "metadata": {},
   "outputs": [
    {
     "name": "stdout",
     "output_type": "stream",
     "text": [
      "O menor RMSE achado do modelo RF usando para target_name n_estimators=300 max_leaf_nodes=None e max_depth=10 foi de 0.084425630501819 eV.\n"
     ]
    }
   ],
   "source": [
    "n_folhas_fe, n_profundidade_fe, n_arvores_fe = hiper_floresta(x_treino_fe, y_treino_fe, x_teste_fe, y_teste_fe, \"Energia de Fermi\")"
   ]
  },
  {
   "cell_type": "code",
   "execution_count": 33,
   "id": "eee05f38-b5ca-46ad-ad9b-6480b5eb349c",
   "metadata": {},
   "outputs": [
    {
     "name": "stdout",
     "output_type": "stream",
     "text": [
      "O menor RMSE achado do modelo RF usando para target_name n_estimators=200 max_leaf_nodes=None e max_depth=None foi de 0.1413342447453233 eV.\n"
     ]
    }
   ],
   "source": [
    "n_folhas_en, n_profundidade_en, n_arvores_en = hiper_floresta(x_treino_en, y_treino_en, x_teste_en, y_teste_en, \"Energia por atomo\")"
   ]
  },
  {
   "cell_type": "code",
   "execution_count": 37,
   "id": "dcb006e0-af46-4196-8ce2-0dc2c83cdaac",
   "metadata": {},
   "outputs": [],
   "source": [
    "def floresta(x_treino, y_treino, x_teste, y_teste, target_name, n_folhas, n_profundidade, n_arvores):\n",
    "    \"Teste e treino do modelo\"\n",
    "    # alterando o formato do target\n",
    "    #print(y_treino.shape, y_teste.shape)\n",
    "    y_treino = y_treino.ravel()\n",
    "    y_teste = y_teste.ravel()\n",
    "    #print(y_treino.shape, y_teste.shape)\n",
    "\n",
    "    # cria o modelo\n",
    "    modelo_rf = RandomForestRegressor(random_state=SEMENTE_ALEATORIA,n_estimators=n_arvores, max_leaf_nodes=n_folhas,max_depth=n_profundidade)\n",
    "\n",
    "    # treina o modelo\n",
    "    modelo_rf.fit(x_treino, y_treino)\n",
    "\n",
    "    # realiza uma previsão usando o modelo treinado\n",
    "    previsao = modelo_rf.predict(x_teste)\n",
    "\n",
    "    y_verdadeiro = y_teste\n",
    "    y_previsao = modelo_rf.predict(x_teste)\n",
    "\n",
    "    RMSE = mean_squared_error(y_verdadeiro, y_previsao, squared=False)\n",
    "    \n",
    "    #Criar gráficos\n",
    "    fig, ax2 = plt.subplots(1,1)\n",
    "    ax2.scatter(y_verdadeiro, y_previsao, c = 'orange',label = f'RMSE:{RMSE:.4f}')\n",
    "    ax2.plot(y_verdadeiro,y_verdadeiro,label=\"y=x\", c = 'r') ; ax2.legend(fontsize='small')\n",
    "\n",
    "    if target_name ==  'Energia de Fermi':\n",
    "        ax2.set_title('Floresta Aleatória PCA', fontsize = 16)\n",
    "        F = FEATURES\n",
    "        path = r'imagens\\floresta_pca_fe.png'\n",
    "    if target_name == 'Energia por Átomo':\n",
    "        ax2.set_title('Floresta Aleatória PCA', fontsize = 16)\n",
    "        F = features\n",
    "        path = r'imagens\\floresta_pca_en.png'\n",
    "    ax2.set_xlabel('Verdadeiro (eV)')\n",
    "    ax2.set_ylabel('Previsão (eV)')\n",
    "    #plt.savefig(path, dpi = 200)\n",
    "    \n",
    "    importancia = modelo_rf.feature_importances_\n",
    "    desvio_padrao = np.std(\n",
    "        [arvore.feature_importances_ for arvore in modelo_rf.estimators_], axis=0\n",
    "    )\n",
    "\n",
    "    serie_importancia = pd.Series(importancia, index=F)\n",
    "\n",
    "    fig, axe = plt.subplots()\n",
    "    serie_importancia.plot.bar(yerr=desvio_padrao, ax=axe, color = 'g')\n",
    "    axe.set_ylabel(\"Redução média da impureza\")\n",
    "    plt.show()\n",
    "\n",
    "    print(f\"O RMSE do modelo floresta aleatória para {target_name} foi de {RMSE} eV.\")"
   ]
  },
  {
   "cell_type": "code",
   "execution_count": 38,
   "id": "4d5417fa-314e-49b4-ae32-7bbb793e95ef",
   "metadata": {},
   "outputs": [
    {
     "data": {
      "image/png": "[encoded data removed]",
      "text/plain": [
       "<Figure size 432x288 with 1 Axes>"
      ]
     },
     "metadata": {
      "needs_background": "light"
     },
     "output_type": "display_data"
    },
    {
     "data": {
      "image/png": "[encoded data removed]",
      "text/plain": [
       "<Figure size 432x288 with 1 Axes>"
      ]
     },
     "metadata": {
      "needs_background": "light"
     },
     "output_type": "display_data"
    },
    {
     "name": "stdout",
     "output_type": "stream",
     "text": [
      "O RMSE do modelo floresta aleatória para Energia de Fermi foi de 0.08442563050181902 eV.\n"
     ]
    }
   ],
   "source": [
    "#Teste do modelo para energia de fermi;\n",
    "floresta(x_treino_fe, y_treino_fe, x_teste_fe, y_teste_fe,'Energia de Fermi' ,n_folhas_fe, n_profundidade_fe, n_arvores_fe )"
   ]
  },
  {
   "cell_type": "code",
   "execution_count": 39,
   "id": "88f081d4-0e9a-4634-9c97-f9ae52554d84",
   "metadata": {},
   "outputs": [
    {
     "data": {
      "image/png": "[encoded data removed]",
      "text/plain": [
       "<Figure size 432x288 with 1 Axes>"
      ]
     },
     "metadata": {
      "needs_background": "light"
     },
     "output_type": "display_data"
    },
    {
     "data": {
      "image/png": "[encoded data removed]",
      "text/plain": [
       "<Figure size 432x288 with 1 Axes>"
      ]
     },
     "metadata": {
      "needs_background": "light"
     },
     "output_type": "display_data"
    },
    {
     "name": "stdout",
     "output_type": "stream",
     "text": [
      "O RMSE do modelo floresta aleatória para Energia por Átomo foi de 0.14133424474532338 eV.\n"
     ]
    }
   ],
   "source": [
    "#Teste do modelo para energia por átomo:\n",
    "floresta(x_treino_en, y_treino_en, x_teste_en, y_teste_en,'Energia por Átomo',n_folhas_en, n_profundidade_en, n_arvores_en)"
   ]
  },
  {
   "cell_type": "code",
   "execution_count": null,
   "id": "da9d2dd0-e955-446e-aab9-21801a419382",
   "metadata": {},
   "outputs": [],
   "source": []
  }
 ],
 "metadata": {
  "kernelspec": {
   "display_name": "ilumpy",
   "language": "python",
   "name": "ilumpy"
  },
  "language_info": {
   "codemirror_mode": {
    "name": "ipython",
    "version": 3
   },
   "file_extension": ".py",
   "mimetype": "text/x-python",
   "name": "python",
   "nbconvert_exporter": "python",
   "pygments_lexer": "ipython3",
   "version": "3.9.7"
  }
 },
 "nbformat": 4,
 "nbformat_minor": 5
}
